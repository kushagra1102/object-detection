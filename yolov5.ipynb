{
  "nbformat": 4,
  "nbformat_minor": 0,
  "metadata": {
    "colab": {
      "name": "yolov5.ipynb",
      "provenance": [],
      "collapsed_sections": [],
      "mount_file_id": "1ZiieGzBQKVlUiqapc57gKfhVkpOooCeg",
      "authorship_tag": "ABX9TyN3gOYDzZEIXeIyN1Gw4KvU",
      "include_colab_link": true
    },
    "kernelspec": {
      "name": "python3",
      "display_name": "Python 3"
    },
    "language_info": {
      "name": "python"
    },
    "accelerator": "GPU",
    "gpuClass": "standard"
  },
  "cells": [
    {
      "cell_type": "markdown",
      "metadata": {
        "id": "view-in-github",
        "colab_type": "text"
      },
      "source": [
        "<a href=\"https://colab.research.google.com/github/kushagra1102/yolov5/blob/main/yolov5.ipynb\" target=\"_parent\"><img src=\"https://colab.research.google.com/assets/colab-badge.svg\" alt=\"Open In Colab\"/></a>"
      ]
    },
    {
      "cell_type": "code",
      "execution_count": 1,
      "metadata": {
        "colab": {
          "base_uri": "https://localhost:8080/"
        },
        "id": "N8Any4_sFpr0",
        "outputId": "a2498dae-4eab-46a8-86ab-fe4abe302551"
      },
      "outputs": [
        {
          "output_type": "stream",
          "name": "stdout",
          "text": [
            "Cloning into 'yolov5'...\n",
            "remote: Enumerating objects: 12345, done.\u001b[K\n",
            "remote: Counting objects: 100% (10/10), done.\u001b[K\n",
            "remote: Compressing objects: 100% (9/9), done.\u001b[K\n",
            "remote: Total 12345 (delta 2), reused 2 (delta 1), pack-reused 12335\u001b[K\n",
            "Receiving objects: 100% (12345/12345), 12.17 MiB | 28.65 MiB/s, done.\n",
            "Resolving deltas: 100% (8516/8516), done.\n"
          ]
        }
      ],
      "source": [
        "!git clone https://github.com/ultralytics/yolov5"
      ]
    },
    {
      "cell_type": "code",
      "source": [
        "!cd yolov5"
      ],
      "metadata": {
        "id": "MG8PZHALwenM"
      },
      "execution_count": 2,
      "outputs": []
    },
    {
      "cell_type": "code",
      "source": [
        "!pip install -r /content/yolov5/requirements.txt"
      ],
      "metadata": {
        "id": "Sesj5znu2wc-"
      },
      "execution_count": null,
      "outputs": []
    },
    {
      "cell_type": "code",
      "source": [
        "from google.colab import files\n",
        "upload = files.upload()"
      ],
      "metadata": {
        "id": "Oiwa1utO2-k9",
        "colab": {
          "resources": {
            "http://localhost:8080/nbextensions/google.colab/files.js": {
              "data": "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",
              "ok": true,
              "headers": [
                [
                  "content-type",
                  "application/javascript"
                ]
              ],
              "status": 200,
              "status_text": ""
            }
          },
          "base_uri": "https://localhost:8080/",
          "height": 74
        },
        "outputId": "08f20e60-a56b-41a1-d02a-a4b2e2371ec9"
      },
      "execution_count": 4,
      "outputs": [
        {
          "output_type": "display_data",
          "data": {
            "text/plain": [
              "<IPython.core.display.HTML object>"
            ],
            "text/html": [
              "\n",
              "     <input type=\"file\" id=\"files-380224d3-ffb9-42d4-aba1-81bea2e7e2f5\" name=\"files[]\" multiple disabled\n",
              "        style=\"border:none\" />\n",
              "     <output id=\"result-380224d3-ffb9-42d4-aba1-81bea2e7e2f5\">\n",
              "      Upload widget is only available when the cell has been executed in the\n",
              "      current browser session. Please rerun this cell to enable.\n",
              "      </output>\n",
              "      <script src=\"/nbextensions/google.colab/files.js\"></script> "
            ]
          },
          "metadata": {}
        },
        {
          "output_type": "stream",
          "name": "stdout",
          "text": [
            "Saving kaggle.json to kaggle.json\n"
          ]
        }
      ]
    },
    {
      "cell_type": "code",
      "source": [
        "! pip install kaggle"
      ],
      "metadata": {
        "id": "d5bCbvwa4uw1"
      },
      "execution_count": null,
      "outputs": []
    },
    {
      "cell_type": "code",
      "source": [
        "! mkdir ~/.kaggle"
      ],
      "metadata": {
        "id": "-f9tfus85-j6"
      },
      "execution_count": 6,
      "outputs": []
    },
    {
      "cell_type": "code",
      "source": [
        "! cp kaggle.json ~/.kaggle/"
      ],
      "metadata": {
        "id": "IURxT91B6CtD"
      },
      "execution_count": 7,
      "outputs": []
    },
    {
      "cell_type": "code",
      "source": [
        "! chmod 600 ~/.kaggle/kaggle.json"
      ],
      "metadata": {
        "id": "IbA8xfR36FJv"
      },
      "execution_count": 8,
      "outputs": []
    },
    {
      "cell_type": "code",
      "source": [
        "!kaggle datasets download -d nguyngiabol/colorful-fashion-dataset-for-object-detection"
      ],
      "metadata": {
        "colab": {
          "base_uri": "https://localhost:8080/"
        },
        "id": "In5uP6-a-CXb",
        "outputId": "d59573f7-4622-4ab3-b060-68ee48e676ef"
      },
      "execution_count": 9,
      "outputs": [
        {
          "output_type": "stream",
          "name": "stdout",
          "text": [
            "Downloading colorful-fashion-dataset-for-object-detection.zip to /content\n",
            " 86% 90.0M/104M [00:00<00:00, 150MB/s]\n",
            "100% 104M/104M [00:00<00:00, 123MB/s] \n"
          ]
        }
      ]
    },
    {
      "cell_type": "code",
      "source": [
        "! unzip colorful-fashion-dataset-for-object-detection"
      ],
      "metadata": {
        "id": "qGyY8xR26IlJ"
      },
      "execution_count": null,
      "outputs": []
    },
    {
      "cell_type": "code",
      "source": [
        "import torch\n",
        "from IPython.display import Image  # for displaying images\n",
        "import os \n",
        "import random\n",
        "import shutil\n",
        "from sklearn.model_selection import train_test_split\n",
        "import xml.etree.ElementTree as ET\n",
        "from xml.dom import minidom\n",
        "from tqdm import tqdm\n",
        "from PIL import Image, ImageDraw\n",
        "import numpy as np\n",
        "import matplotlib.pyplot as plt\n",
        "\n",
        "random.seed(108)\n"
      ],
      "metadata": {
        "id": "GKb3IUiN7nDK"
      },
      "execution_count": 11,
      "outputs": []
    },
    {
      "cell_type": "code",
      "source": [
        "!python /content/yolov5/train.py --img 640 --batch 16 --epochs 3 --data /content/yolov5/dataset.yaml --weights yolov5s.pt"
      ],
      "metadata": {
        "colab": {
          "base_uri": "https://localhost:8080/"
        },
        "id": "6TNSyklb6mcr",
        "outputId": "ee6a46a7-3028-43c4-c972-c23482499de6"
      },
      "execution_count": null,
      "outputs": [
        {
          "output_type": "stream",
          "name": "stdout",
          "text": [
            "\u001b[34m\u001b[1mtrain: \u001b[0mweights=yolov5s.pt, cfg=, data=/content/yolov5/dataset.yaml, hyp=yolov5/data/hyps/hyp.scratch-low.yaml, epochs=3, batch_size=16, imgsz=640, rect=False, resume=False, nosave=False, noval=False, noautoanchor=False, noplots=False, evolve=None, bucket=, cache=None, image_weights=False, device=, multi_scale=False, single_cls=False, optimizer=SGD, sync_bn=False, workers=8, project=yolov5/runs/train, name=exp, exist_ok=False, quad=False, cos_lr=False, label_smoothing=0.0, patience=100, freeze=[0], save_period=-1, local_rank=-1, entity=None, upload_dataset=False, bbox_interval=-1, artifact_alias=latest\n",
            "\u001b[34m\u001b[1mgithub: \u001b[0mup to date with https://github.com/ultralytics/yolov5 ✅\n",
            "YOLOv5 🚀 v6.1-269-gf76a78e Python-3.7.13 torch-1.11.0+cu113 CUDA:0 (Tesla T4, 15110MiB)\n",
            "\n",
            "\u001b[34m\u001b[1mhyperparameters: \u001b[0mlr0=0.01, lrf=0.01, momentum=0.937, weight_decay=0.0005, warmup_epochs=3.0, warmup_momentum=0.8, warmup_bias_lr=0.1, box=0.05, cls=0.5, cls_pw=1.0, obj=1.0, obj_pw=1.0, iou_t=0.2, anchor_t=4.0, fl_gamma=0.0, hsv_h=0.015, hsv_s=0.7, hsv_v=0.4, degrees=0.0, translate=0.1, scale=0.5, shear=0.0, perspective=0.0, flipud=0.0, fliplr=0.5, mosaic=1.0, mixup=0.0, copy_paste=0.0\n",
            "\u001b[34m\u001b[1mWeights & Biases: \u001b[0mrun 'pip install wandb' to automatically track and visualize YOLOv5 🚀 runs (RECOMMENDED)\n",
            "\u001b[34m\u001b[1mTensorBoard: \u001b[0mStart with 'tensorboard --logdir yolov5/runs/train', view at http://localhost:6006/\n",
            "Downloading https://ultralytics.com/assets/Arial.ttf to /root/.config/Ultralytics/Arial.ttf...\n",
            "100% 755k/755k [00:00<00:00, 163MB/s]\n",
            "Downloading https://github.com/ultralytics/yolov5/releases/download/v6.1/yolov5s.pt to yolov5s.pt...\n",
            "100% 14.1M/14.1M [00:00<00:00, 276MB/s]\n",
            "\n",
            "Overriding model.yaml nc=80 with nc=10\n",
            "\n",
            "                 from  n    params  module                                  arguments                     \n",
            "  0                -1  1      3520  models.common.Conv                      [3, 32, 6, 2, 2]              \n",
            "  1                -1  1     18560  models.common.Conv                      [32, 64, 3, 2]                \n",
            "  2                -1  1     18816  models.common.C3                        [64, 64, 1]                   \n",
            "  3                -1  1     73984  models.common.Conv                      [64, 128, 3, 2]               \n",
            "  4                -1  2    115712  models.common.C3                        [128, 128, 2]                 \n",
            "  5                -1  1    295424  models.common.Conv                      [128, 256, 3, 2]              \n",
            "  6                -1  3    625152  models.common.C3                        [256, 256, 3]                 \n",
            "  7                -1  1   1180672  models.common.Conv                      [256, 512, 3, 2]              \n",
            "  8                -1  1   1182720  models.common.C3                        [512, 512, 1]                 \n",
            "  9                -1  1    656896  models.common.SPPF                      [512, 512, 5]                 \n",
            " 10                -1  1    131584  models.common.Conv                      [512, 256, 1, 1]              \n",
            " 11                -1  1         0  torch.nn.modules.upsampling.Upsample    [None, 2, 'nearest']          \n",
            " 12           [-1, 6]  1         0  models.common.Concat                    [1]                           \n",
            " 13                -1  1    361984  models.common.C3                        [512, 256, 1, False]          \n",
            " 14                -1  1     33024  models.common.Conv                      [256, 128, 1, 1]              \n",
            " 15                -1  1         0  torch.nn.modules.upsampling.Upsample    [None, 2, 'nearest']          \n",
            " 16           [-1, 4]  1         0  models.common.Concat                    [1]                           \n",
            " 17                -1  1     90880  models.common.C3                        [256, 128, 1, False]          \n",
            " 18                -1  1    147712  models.common.Conv                      [128, 128, 3, 2]              \n",
            " 19          [-1, 14]  1         0  models.common.Concat                    [1]                           \n",
            " 20                -1  1    296448  models.common.C3                        [256, 256, 1, False]          \n",
            " 21                -1  1    590336  models.common.Conv                      [256, 256, 3, 2]              \n",
            " 22          [-1, 10]  1         0  models.common.Concat                    [1]                           \n",
            " 23                -1  1   1182720  models.common.C3                        [512, 512, 1, False]          \n",
            " 24      [17, 20, 23]  1     40455  models.yolo.Detect                      [10, [[10, 13, 16, 30, 33, 23], [30, 61, 62, 45, 59, 119], [116, 90, 156, 198, 373, 326]], [128, 256, 512]]\n",
            "Model summary: 270 layers, 7046599 parameters, 7046599 gradients\n",
            "\n",
            "Transferred 343/349 items from yolov5s.pt\n",
            "\u001b[34m\u001b[1mAMP: \u001b[0mchecks passed ✅\n",
            "Scaled weight_decay = 0.0005\n",
            "\u001b[34m\u001b[1moptimizer:\u001b[0m SGD with parameter groups 57 weight (no decay), 60 weight, 60 bias\n",
            "\u001b[34m\u001b[1malbumentations: \u001b[0mversion 1.0.3 required by YOLOv5, but version 0.1.12 is currently installed\n",
            "\u001b[34m\u001b[1mtrain: \u001b[0mScanning '/content/data/labels' images and labels...2682 found, 0 missing, 0 empty, 0 corrupt: 100% 2682/2682 [00:01<00:00, 2206.72it/s]\n",
            "\u001b[34m\u001b[1mtrain: \u001b[0mNew cache created: /content/data/labels.cache\n",
            "\u001b[34m\u001b[1mval: \u001b[0mScanning '/content/data/labels.cache' images and labels... 2682 found, 0 missing, 0 empty, 0 corrupt: 100% 2682/2682 [00:00<?, ?it/s]\n",
            "Plotting labels to yolov5/runs/train/exp/labels.jpg... \n",
            "\n",
            "\u001b[34m\u001b[1mAutoAnchor: \u001b[0m5.19 anchors/target, 1.000 Best Possible Recall (BPR). Current anchors are a good fit to dataset ✅\n",
            "Image sizes 640 train, 640 val\n",
            "Using 2 dataloader workers\n",
            "Logging results to \u001b[1myolov5/runs/train/exp\u001b[0m\n",
            "Starting training for 3 epochs...\n",
            "\n",
            "     Epoch   gpu_mem       box       obj       cls    labels  img_size\n",
            "       0/2     3.76G   0.08273   0.05814   0.05111        63       640: 100% 168/168 [01:20<00:00,  2.08it/s]\n",
            "               Class     Images     Labels          P          R     mAP@.5 mAP@.5:.95: 100% 84/84 [00:27<00:00,  3.05it/s]\n",
            "                 all       2682      10333      0.268      0.482      0.297      0.105\n",
            "\n",
            "     Epoch   gpu_mem       box       obj       cls    labels  img_size\n",
            "       1/2      4.2G   0.06152   0.04679   0.02921        63       640: 100% 168/168 [01:16<00:00,  2.20it/s]\n",
            "               Class     Images     Labels          P          R     mAP@.5 mAP@.5:.95: 100% 84/84 [00:25<00:00,  3.25it/s]\n",
            "                 all       2682      10333      0.334      0.607      0.449      0.189\n",
            "\n",
            "     Epoch   gpu_mem       box       obj       cls    labels  img_size\n",
            "       2/2      4.2G   0.05319   0.04422   0.02319        96       640: 100% 168/168 [01:15<00:00,  2.22it/s]\n",
            "               Class     Images     Labels          P          R     mAP@.5 mAP@.5:.95: 100% 84/84 [00:25<00:00,  3.27it/s]\n",
            "                 all       2682      10333      0.541      0.679      0.644       0.33\n",
            "\n",
            "3 epochs completed in 0.088 hours.\n",
            "Optimizer stripped from yolov5/runs/train/exp/weights/last.pt, 14.4MB\n",
            "Optimizer stripped from yolov5/runs/train/exp/weights/best.pt, 14.4MB\n",
            "\n",
            "Validating yolov5/runs/train/exp/weights/best.pt...\n",
            "Fusing layers... \n",
            "Model summary: 213 layers, 7037095 parameters, 0 gradients\n",
            "               Class     Images     Labels          P          R     mAP@.5 mAP@.5:.95: 100% 84/84 [00:30<00:00,  2.78it/s]\n",
            "                 all       2682      10333      0.541       0.68      0.644       0.33\n",
            "            sunglass       2682        425      0.122      0.162     0.0825     0.0182\n",
            "                 hat       2682        350      0.442      0.797      0.654      0.245\n",
            "              jacket       2682        958      0.619      0.675      0.686      0.313\n",
            "               shirt       2682       1852      0.575      0.797      0.699      0.381\n",
            "               pants       2682        622      0.523      0.931      0.896      0.538\n",
            "              shorts       2682        502      0.724      0.439      0.639      0.346\n",
            "               skirt       2682        883      0.519      0.828      0.614      0.386\n",
            "               dress       2682        678      0.783      0.534      0.675      0.401\n",
            "                 bag       2682       1462      0.579      0.789      0.743      0.346\n",
            "                shoe       2682       2601      0.528      0.844      0.757      0.326\n",
            "Results saved to \u001b[1myolov5/runs/train/exp\u001b[0m\n"
          ]
        }
      ]
    },
    {
      "cell_type": "code",
      "source": [
        "!python /content/yolov5/train.py --img 640 --batch 16 --epochs 100 --data /content/yolov5/dataset.yaml --weights yolov5s.pt"
      ],
      "metadata": {
        "colab": {
          "base_uri": "https://localhost:8080/"
        },
        "id": "Jbbhak4RCRtR",
        "outputId": "39f85984-ee8d-4f05-8ce8-5bc003c97b41"
      },
      "execution_count": 13,
      "outputs": [
        {
          "output_type": "stream",
          "name": "stdout",
          "text": [
            "\u001b[34m\u001b[1mtrain: \u001b[0mweights=yolov5s.pt, cfg=, data=/content/yolov5/dataset.yaml, hyp=yolov5/data/hyps/hyp.scratch-low.yaml, epochs=100, batch_size=16, imgsz=640, rect=False, resume=False, nosave=False, noval=False, noautoanchor=False, noplots=False, evolve=None, bucket=, cache=None, image_weights=False, device=, multi_scale=False, single_cls=False, optimizer=SGD, sync_bn=False, workers=8, project=yolov5/runs/train, name=exp, exist_ok=False, quad=False, cos_lr=False, label_smoothing=0.0, patience=100, freeze=[0], save_period=-1, local_rank=-1, entity=None, upload_dataset=False, bbox_interval=-1, artifact_alias=latest\n",
            "\u001b[34m\u001b[1mgithub: \u001b[0mup to date with https://github.com/ultralytics/yolov5 ✅\n",
            "YOLOv5 🚀 v6.1-270-g6935a54 Python-3.7.13 torch-1.11.0+cu113 CUDA:0 (Tesla T4, 15110MiB)\n",
            "\n",
            "\u001b[34m\u001b[1mhyperparameters: \u001b[0mlr0=0.01, lrf=0.01, momentum=0.937, weight_decay=0.0005, warmup_epochs=3.0, warmup_momentum=0.8, warmup_bias_lr=0.1, box=0.05, cls=0.5, cls_pw=1.0, obj=1.0, obj_pw=1.0, iou_t=0.2, anchor_t=4.0, fl_gamma=0.0, hsv_h=0.015, hsv_s=0.7, hsv_v=0.4, degrees=0.0, translate=0.1, scale=0.5, shear=0.0, perspective=0.0, flipud=0.0, fliplr=0.5, mosaic=1.0, mixup=0.0, copy_paste=0.0\n",
            "\u001b[34m\u001b[1mWeights & Biases: \u001b[0mrun 'pip install wandb' to automatically track and visualize YOLOv5 🚀 runs (RECOMMENDED)\n",
            "\u001b[34m\u001b[1mTensorBoard: \u001b[0mStart with 'tensorboard --logdir yolov5/runs/train', view at http://localhost:6006/\n",
            "Downloading https://ultralytics.com/assets/Arial.ttf to /root/.config/Ultralytics/Arial.ttf...\n",
            "100% 755k/755k [00:00<00:00, 17.4MB/s]\n",
            "Downloading https://github.com/ultralytics/yolov5/releases/download/v6.1/yolov5s.pt to yolov5s.pt...\n",
            "100% 14.1M/14.1M [00:00<00:00, 124MB/s] \n",
            "\n",
            "Overriding model.yaml nc=80 with nc=10\n",
            "\n",
            "                 from  n    params  module                                  arguments                     \n",
            "  0                -1  1      3520  models.common.Conv                      [3, 32, 6, 2, 2]              \n",
            "  1                -1  1     18560  models.common.Conv                      [32, 64, 3, 2]                \n",
            "  2                -1  1     18816  models.common.C3                        [64, 64, 1]                   \n",
            "  3                -1  1     73984  models.common.Conv                      [64, 128, 3, 2]               \n",
            "  4                -1  2    115712  models.common.C3                        [128, 128, 2]                 \n",
            "  5                -1  1    295424  models.common.Conv                      [128, 256, 3, 2]              \n",
            "  6                -1  3    625152  models.common.C3                        [256, 256, 3]                 \n",
            "  7                -1  1   1180672  models.common.Conv                      [256, 512, 3, 2]              \n",
            "  8                -1  1   1182720  models.common.C3                        [512, 512, 1]                 \n",
            "  9                -1  1    656896  models.common.SPPF                      [512, 512, 5]                 \n",
            " 10                -1  1    131584  models.common.Conv                      [512, 256, 1, 1]              \n",
            " 11                -1  1         0  torch.nn.modules.upsampling.Upsample    [None, 2, 'nearest']          \n",
            " 12           [-1, 6]  1         0  models.common.Concat                    [1]                           \n",
            " 13                -1  1    361984  models.common.C3                        [512, 256, 1, False]          \n",
            " 14                -1  1     33024  models.common.Conv                      [256, 128, 1, 1]              \n",
            " 15                -1  1         0  torch.nn.modules.upsampling.Upsample    [None, 2, 'nearest']          \n",
            " 16           [-1, 4]  1         0  models.common.Concat                    [1]                           \n",
            " 17                -1  1     90880  models.common.C3                        [256, 128, 1, False]          \n",
            " 18                -1  1    147712  models.common.Conv                      [128, 128, 3, 2]              \n",
            " 19          [-1, 14]  1         0  models.common.Concat                    [1]                           \n",
            " 20                -1  1    296448  models.common.C3                        [256, 256, 1, False]          \n",
            " 21                -1  1    590336  models.common.Conv                      [256, 256, 3, 2]              \n",
            " 22          [-1, 10]  1         0  models.common.Concat                    [1]                           \n",
            " 23                -1  1   1182720  models.common.C3                        [512, 512, 1, False]          \n",
            " 24      [17, 20, 23]  1     40455  models.yolo.Detect                      [10, [[10, 13, 16, 30, 33, 23], [30, 61, 62, 45, 59, 119], [116, 90, 156, 198, 373, 326]], [128, 256, 512]]\n",
            "Model summary: 270 layers, 7046599 parameters, 7046599 gradients\n",
            "\n",
            "Transferred 343/349 items from yolov5s.pt\n",
            "\u001b[34m\u001b[1mAMP: \u001b[0mchecks passed ✅\n",
            "Scaled weight_decay = 0.0005\n",
            "\u001b[34m\u001b[1moptimizer:\u001b[0m SGD with parameter groups 57 weight (no decay), 60 weight, 60 bias\n",
            "\u001b[34m\u001b[1malbumentations: \u001b[0mversion 1.0.3 required by YOLOv5, but version 0.1.12 is currently installed\n",
            "\u001b[34m\u001b[1mtrain: \u001b[0mScanning '/content/data/labels' images and labels...2682 found, 0 missing, 0 empty, 0 corrupt: 100% 2682/2682 [00:01<00:00, 2087.23it/s]\n",
            "\u001b[34m\u001b[1mtrain: \u001b[0mNew cache created: /content/data/labels.cache\n",
            "\u001b[34m\u001b[1mval: \u001b[0mScanning '/content/data/labels.cache' images and labels... 2682 found, 0 missing, 0 empty, 0 corrupt: 100% 2682/2682 [00:00<?, ?it/s]\n",
            "Plotting labels to yolov5/runs/train/exp/labels.jpg... \n",
            "\n",
            "\u001b[34m\u001b[1mAutoAnchor: \u001b[0m5.19 anchors/target, 1.000 Best Possible Recall (BPR). Current anchors are a good fit to dataset ✅\n",
            "Image sizes 640 train, 640 val\n",
            "Using 2 dataloader workers\n",
            "Logging results to \u001b[1myolov5/runs/train/exp\u001b[0m\n",
            "Starting training for 100 epochs...\n",
            "\n",
            "     Epoch   gpu_mem       box       obj       cls    labels  img_size\n",
            "      0/99     3.76G   0.08269   0.05811   0.05111        63       640: 100% 168/168 [01:20<00:00,  2.08it/s]\n",
            "               Class     Images     Labels          P          R     mAP@.5 mAP@.5:.95: 100% 84/84 [00:27<00:00,  3.11it/s]\n",
            "                 all       2682      10333      0.265      0.456      0.254     0.0907\n",
            "\n",
            "     Epoch   gpu_mem       box       obj       cls    labels  img_size\n",
            "      1/99      4.2G   0.06389   0.04579   0.02841        63       640: 100% 168/168 [01:17<00:00,  2.16it/s]\n",
            "               Class     Images     Labels          P          R     mAP@.5 mAP@.5:.95: 100% 84/84 [00:26<00:00,  3.22it/s]\n",
            "                 all       2682      10333      0.319      0.599      0.411      0.149\n",
            "\n",
            "     Epoch   gpu_mem       box       obj       cls    labels  img_size\n",
            "      2/99      4.2G   0.05792   0.04321   0.02212        96       640: 100% 168/168 [01:18<00:00,  2.14it/s]\n",
            "               Class     Images     Labels          P          R     mAP@.5 mAP@.5:.95: 100% 84/84 [00:25<00:00,  3.28it/s]\n",
            "                 all       2682      10333      0.466      0.667      0.535      0.235\n",
            "\n",
            "     Epoch   gpu_mem       box       obj       cls    labels  img_size\n",
            "      3/99      4.2G      0.05   0.04296   0.01779        87       640: 100% 168/168 [01:16<00:00,  2.20it/s]\n",
            "               Class     Images     Labels          P          R     mAP@.5 mAP@.5:.95: 100% 84/84 [00:25<00:00,  3.29it/s]\n",
            "                 all       2682      10333      0.652      0.755       0.74      0.408\n",
            "\n",
            "     Epoch   gpu_mem       box       obj       cls    labels  img_size\n",
            "      4/99      4.2G   0.04516   0.04187   0.01543        82       640: 100% 168/168 [01:16<00:00,  2.21it/s]\n",
            "               Class     Images     Labels          P          R     mAP@.5 mAP@.5:.95: 100% 84/84 [00:25<00:00,  3.33it/s]\n",
            "                 all       2682      10333      0.681      0.779      0.772      0.441\n",
            "\n",
            "     Epoch   gpu_mem       box       obj       cls    labels  img_size\n",
            "      5/99      4.2G   0.04322   0.04138   0.01408        80       640: 100% 168/168 [01:17<00:00,  2.16it/s]\n",
            "               Class     Images     Labels          P          R     mAP@.5 mAP@.5:.95: 100% 84/84 [00:25<00:00,  3.31it/s]\n",
            "                 all       2682      10333      0.689      0.782       0.78      0.434\n",
            "\n",
            "     Epoch   gpu_mem       box       obj       cls    labels  img_size\n",
            "      6/99      4.2G   0.04186   0.04128   0.01343        62       640: 100% 168/168 [01:15<00:00,  2.22it/s]\n",
            "               Class     Images     Labels          P          R     mAP@.5 mAP@.5:.95: 100% 84/84 [00:25<00:00,  3.35it/s]\n",
            "                 all       2682      10333      0.752      0.807      0.807       0.48\n",
            "\n",
            "     Epoch   gpu_mem       box       obj       cls    labels  img_size\n",
            "      7/99      4.2G   0.04106   0.04136   0.01274        73       640: 100% 168/168 [01:15<00:00,  2.23it/s]\n",
            "               Class     Images     Labels          P          R     mAP@.5 mAP@.5:.95: 100% 84/84 [00:26<00:00,  3.15it/s]\n",
            "                 all       2682      10333      0.769      0.792      0.803       0.46\n",
            "\n",
            "     Epoch   gpu_mem       box       obj       cls    labels  img_size\n",
            "      8/99      4.2G   0.04021   0.03994   0.01236        68       640: 100% 168/168 [01:15<00:00,  2.24it/s]\n",
            "               Class     Images     Labels          P          R     mAP@.5 mAP@.5:.95: 100% 84/84 [00:25<00:00,  3.33it/s]\n",
            "                 all       2682      10333      0.788      0.806      0.827      0.502\n",
            "\n",
            "     Epoch   gpu_mem       box       obj       cls    labels  img_size\n",
            "      9/99      4.2G   0.03943   0.04015   0.01192        76       640: 100% 168/168 [01:16<00:00,  2.21it/s]\n",
            "               Class     Images     Labels          P          R     mAP@.5 mAP@.5:.95: 100% 84/84 [00:25<00:00,  3.26it/s]\n",
            "                 all       2682      10333      0.808      0.814      0.835      0.487\n",
            "\n",
            "     Epoch   gpu_mem       box       obj       cls    labels  img_size\n",
            "     10/99      4.2G   0.03882   0.04009   0.01156        67       640: 100% 168/168 [01:24<00:00,  1.99it/s]\n",
            "               Class     Images     Labels          P          R     mAP@.5 mAP@.5:.95: 100% 84/84 [00:26<00:00,  3.17it/s]\n",
            "                 all       2682      10333      0.807      0.827      0.847      0.534\n",
            "\n",
            "     Epoch   gpu_mem       box       obj       cls    labels  img_size\n",
            "     11/99      4.2G     0.038   0.03943   0.01128        69       640: 100% 168/168 [01:20<00:00,  2.09it/s]\n",
            "               Class     Images     Labels          P          R     mAP@.5 mAP@.5:.95: 100% 84/84 [00:26<00:00,  3.15it/s]\n",
            "                 all       2682      10333      0.832       0.83      0.854      0.531\n",
            "\n",
            "     Epoch   gpu_mem       box       obj       cls    labels  img_size\n",
            "     12/99      4.2G   0.03804   0.03952   0.01111        91       640: 100% 168/168 [01:22<00:00,  2.05it/s]\n",
            "               Class     Images     Labels          P          R     mAP@.5 mAP@.5:.95: 100% 84/84 [00:26<00:00,  3.16it/s]\n",
            "                 all       2682      10333       0.83      0.836      0.863       0.55\n",
            "\n",
            "     Epoch   gpu_mem       box       obj       cls    labels  img_size\n",
            "     13/99      4.2G   0.03777   0.03899   0.01076        75       640: 100% 168/168 [01:20<00:00,  2.08it/s]\n",
            "               Class     Images     Labels          P          R     mAP@.5 mAP@.5:.95: 100% 84/84 [00:26<00:00,  3.20it/s]\n",
            "                 all       2682      10333      0.824      0.836      0.866      0.549\n",
            "\n",
            "     Epoch   gpu_mem       box       obj       cls    labels  img_size\n",
            "     14/99      4.2G   0.03729   0.03922   0.01049        80       640: 100% 168/168 [01:19<00:00,  2.12it/s]\n",
            "               Class     Images     Labels          P          R     mAP@.5 mAP@.5:.95: 100% 84/84 [00:25<00:00,  3.28it/s]\n",
            "                 all       2682      10333      0.831      0.852      0.874      0.562\n",
            "\n",
            "     Epoch   gpu_mem       box       obj       cls    labels  img_size\n",
            "     15/99      4.2G   0.03688   0.03935   0.01031        79       640: 100% 168/168 [01:17<00:00,  2.16it/s]\n",
            "               Class     Images     Labels          P          R     mAP@.5 mAP@.5:.95: 100% 84/84 [00:25<00:00,  3.31it/s]\n",
            "                 all       2682      10333      0.833      0.843      0.865      0.558\n",
            "\n",
            "     Epoch   gpu_mem       box       obj       cls    labels  img_size\n",
            "     16/99      4.2G   0.03645   0.03835  0.009935        80       640: 100% 168/168 [01:15<00:00,  2.24it/s]\n",
            "               Class     Images     Labels          P          R     mAP@.5 mAP@.5:.95: 100% 84/84 [00:24<00:00,  3.38it/s]\n",
            "                 all       2682      10333      0.846       0.85      0.877      0.571\n",
            "\n",
            "     Epoch   gpu_mem       box       obj       cls    labels  img_size\n",
            "     17/99      4.2G   0.03586   0.03764   0.01004        75       640: 100% 168/168 [01:15<00:00,  2.23it/s]\n",
            "               Class     Images     Labels          P          R     mAP@.5 mAP@.5:.95: 100% 84/84 [00:24<00:00,  3.37it/s]\n",
            "                 all       2682      10333      0.842      0.853      0.886       0.57\n",
            "\n",
            "     Epoch   gpu_mem       box       obj       cls    labels  img_size\n",
            "     18/99      4.2G   0.03567   0.03818  0.009908        69       640: 100% 168/168 [01:16<00:00,  2.18it/s]\n",
            "               Class     Images     Labels          P          R     mAP@.5 mAP@.5:.95: 100% 84/84 [00:24<00:00,  3.37it/s]\n",
            "                 all       2682      10333      0.858      0.857      0.888      0.573\n",
            "\n",
            "     Epoch   gpu_mem       box       obj       cls    labels  img_size\n",
            "     19/99      4.2G   0.03541   0.03806  0.009497        72       640: 100% 168/168 [01:15<00:00,  2.24it/s]\n",
            "               Class     Images     Labels          P          R     mAP@.5 mAP@.5:.95: 100% 84/84 [00:24<00:00,  3.36it/s]\n",
            "                 all       2682      10333      0.861      0.872      0.895      0.585\n",
            "\n",
            "     Epoch   gpu_mem       box       obj       cls    labels  img_size\n",
            "     20/99      4.2G   0.03534    0.0375  0.009284        46       640: 100% 168/168 [01:15<00:00,  2.24it/s]\n",
            "               Class     Images     Labels          P          R     mAP@.5 mAP@.5:.95: 100% 84/84 [00:24<00:00,  3.39it/s]\n",
            "                 all       2682      10333      0.858      0.876        0.9        0.6\n",
            "\n",
            "     Epoch   gpu_mem       box       obj       cls    labels  img_size\n",
            "     21/99      4.2G   0.03486   0.03754  0.009092        50       640: 100% 168/168 [01:16<00:00,  2.18it/s]\n",
            "               Class     Images     Labels          P          R     mAP@.5 mAP@.5:.95: 100% 84/84 [00:24<00:00,  3.38it/s]\n",
            "                 all       2682      10333      0.882       0.88      0.906      0.599\n",
            "\n",
            "     Epoch   gpu_mem       box       obj       cls    labels  img_size\n",
            "     22/99      4.2G   0.03475   0.03712   0.00914        67       640: 100% 168/168 [01:15<00:00,  2.24it/s]\n",
            "               Class     Images     Labels          P          R     mAP@.5 mAP@.5:.95: 100% 84/84 [00:24<00:00,  3.39it/s]\n",
            "                 all       2682      10333      0.874      0.875      0.904      0.602\n",
            "\n",
            "     Epoch   gpu_mem       box       obj       cls    labels  img_size\n",
            "     23/99      4.2G   0.03431   0.03666  0.008645        87       640: 100% 168/168 [01:14<00:00,  2.25it/s]\n",
            "               Class     Images     Labels          P          R     mAP@.5 mAP@.5:.95: 100% 84/84 [00:26<00:00,  3.14it/s]\n",
            "                 all       2682      10333      0.887      0.881      0.909      0.605\n",
            "\n",
            "     Epoch   gpu_mem       box       obj       cls    labels  img_size\n",
            "     24/99      4.2G   0.03466   0.03717  0.008901        73       640: 100% 168/168 [01:15<00:00,  2.23it/s]\n",
            "               Class     Images     Labels          P          R     mAP@.5 mAP@.5:.95: 100% 84/84 [00:24<00:00,  3.37it/s]\n",
            "                 all       2682      10333      0.888      0.892      0.913      0.615\n",
            "\n",
            "     Epoch   gpu_mem       box       obj       cls    labels  img_size\n",
            "     25/99      4.2G   0.03401   0.03684  0.008473        78       640: 100% 168/168 [01:14<00:00,  2.25it/s]\n",
            "               Class     Images     Labels          P          R     mAP@.5 mAP@.5:.95: 100% 84/84 [00:25<00:00,  3.35it/s]\n",
            "                 all       2682      10333      0.882      0.893      0.915      0.618\n",
            "\n",
            "     Epoch   gpu_mem       box       obj       cls    labels  img_size\n",
            "     26/99      4.2G   0.03392   0.03653  0.008192        58       640: 100% 168/168 [01:14<00:00,  2.25it/s]\n",
            "               Class     Images     Labels          P          R     mAP@.5 mAP@.5:.95: 100% 84/84 [00:26<00:00,  3.17it/s]\n",
            "                 all       2682      10333      0.887      0.886      0.916      0.614\n",
            "\n",
            "     Epoch   gpu_mem       box       obj       cls    labels  img_size\n",
            "     27/99      4.2G   0.03353    0.0368  0.008413        66       640: 100% 168/168 [01:15<00:00,  2.23it/s]\n",
            "               Class     Images     Labels          P          R     mAP@.5 mAP@.5:.95: 100% 84/84 [00:24<00:00,  3.39it/s]\n",
            "                 all       2682      10333      0.906      0.895      0.925      0.632\n",
            "\n",
            "     Epoch   gpu_mem       box       obj       cls    labels  img_size\n",
            "     28/99      4.2G   0.03354   0.03606   0.00845        86       640: 100% 168/168 [01:15<00:00,  2.23it/s]\n",
            "               Class     Images     Labels          P          R     mAP@.5 mAP@.5:.95: 100% 84/84 [00:24<00:00,  3.39it/s]\n",
            "                 all       2682      10333      0.897      0.903      0.929      0.635\n",
            "\n",
            "     Epoch   gpu_mem       box       obj       cls    labels  img_size\n",
            "     29/99      4.2G   0.03343   0.03591  0.007964        79       640: 100% 168/168 [01:16<00:00,  2.20it/s]\n",
            "               Class     Images     Labels          P          R     mAP@.5 mAP@.5:.95: 100% 84/84 [00:25<00:00,  3.36it/s]\n",
            "                 all       2682      10333      0.912        0.9      0.931      0.638\n",
            "\n",
            "     Epoch   gpu_mem       box       obj       cls    labels  img_size\n",
            "     30/99      4.2G   0.03326    0.0361  0.007795        70       640: 100% 168/168 [01:15<00:00,  2.24it/s]\n",
            "               Class     Images     Labels          P          R     mAP@.5 mAP@.5:.95: 100% 84/84 [00:24<00:00,  3.38it/s]\n",
            "                 all       2682      10333      0.905      0.901      0.929      0.644\n",
            "\n",
            "     Epoch   gpu_mem       box       obj       cls    labels  img_size\n",
            "     31/99      4.2G   0.03292   0.03529  0.007937        55       640: 100% 168/168 [01:14<00:00,  2.24it/s]\n",
            "               Class     Images     Labels          P          R     mAP@.5 mAP@.5:.95: 100% 84/84 [00:25<00:00,  3.29it/s]\n",
            "                 all       2682      10333      0.902      0.899       0.93      0.638\n",
            "\n",
            "     Epoch   gpu_mem       box       obj       cls    labels  img_size\n",
            "     32/99      4.2G    0.0324   0.03483  0.007917        80       640: 100% 168/168 [01:20<00:00,  2.08it/s]\n",
            "               Class     Images     Labels          P          R     mAP@.5 mAP@.5:.95: 100% 84/84 [00:26<00:00,  3.23it/s]\n",
            "                 all       2682      10333      0.918      0.909      0.938      0.651\n",
            "\n",
            "     Epoch   gpu_mem       box       obj       cls    labels  img_size\n",
            "     33/99      4.2G   0.03228   0.03479   0.00769        89       640: 100% 168/168 [01:18<00:00,  2.14it/s]\n",
            "               Class     Images     Labels          P          R     mAP@.5 mAP@.5:.95: 100% 84/84 [00:25<00:00,  3.27it/s]\n",
            "                 all       2682      10333      0.911      0.912      0.941      0.659\n",
            "\n",
            "     Epoch   gpu_mem       box       obj       cls    labels  img_size\n",
            "     34/99      4.2G   0.03226   0.03453  0.007708        65       640: 100% 168/168 [01:17<00:00,  2.17it/s]\n",
            "               Class     Images     Labels          P          R     mAP@.5 mAP@.5:.95: 100% 84/84 [00:26<00:00,  3.21it/s]\n",
            "                 all       2682      10333      0.908        0.9      0.942      0.653\n",
            "\n",
            "     Epoch   gpu_mem       box       obj       cls    labels  img_size\n",
            "     35/99      4.2G   0.03217   0.03463  0.007523        97       640: 100% 168/168 [01:19<00:00,  2.11it/s]\n",
            "               Class     Images     Labels          P          R     mAP@.5 mAP@.5:.95: 100% 84/84 [00:25<00:00,  3.25it/s]\n",
            "                 all       2682      10333      0.916      0.916      0.947      0.661\n",
            "\n",
            "     Epoch   gpu_mem       box       obj       cls    labels  img_size\n",
            "     36/99      4.2G    0.0321   0.03464  0.007447        76       640: 100% 168/168 [01:17<00:00,  2.17it/s]\n",
            "               Class     Images     Labels          P          R     mAP@.5 mAP@.5:.95: 100% 84/84 [00:25<00:00,  3.32it/s]\n",
            "                 all       2682      10333      0.921      0.926      0.948      0.656\n",
            "\n",
            "     Epoch   gpu_mem       box       obj       cls    labels  img_size\n",
            "     37/99      4.2G   0.03166   0.03452  0.007213        58       640: 100% 168/168 [01:16<00:00,  2.19it/s]\n",
            "               Class     Images     Labels          P          R     mAP@.5 mAP@.5:.95: 100% 84/84 [00:25<00:00,  3.32it/s]\n",
            "                 all       2682      10333      0.916      0.924       0.95      0.668\n",
            "\n",
            "     Epoch   gpu_mem       box       obj       cls    labels  img_size\n",
            "     38/99      4.2G   0.03167   0.03481  0.007373        82       640: 100% 168/168 [01:16<00:00,  2.20it/s]\n",
            "               Class     Images     Labels          P          R     mAP@.5 mAP@.5:.95: 100% 84/84 [00:25<00:00,  3.33it/s]\n",
            "                 all       2682      10333      0.929      0.916      0.949      0.669\n",
            "\n",
            "     Epoch   gpu_mem       box       obj       cls    labels  img_size\n",
            "     39/99      4.2G   0.03125   0.03427  0.007153        55       640: 100% 168/168 [01:14<00:00,  2.24it/s]\n",
            "               Class     Images     Labels          P          R     mAP@.5 mAP@.5:.95: 100% 84/84 [00:25<00:00,  3.32it/s]\n",
            "                 all       2682      10333      0.919      0.926      0.952      0.675\n",
            "\n",
            "     Epoch   gpu_mem       box       obj       cls    labels  img_size\n",
            "     40/99      4.2G   0.03128    0.0339  0.006846        85       640: 100% 168/168 [01:15<00:00,  2.23it/s]\n",
            "               Class     Images     Labels          P          R     mAP@.5 mAP@.5:.95: 100% 84/84 [00:25<00:00,  3.30it/s]\n",
            "                 all       2682      10333      0.932      0.923      0.953      0.678\n",
            "\n",
            "     Epoch   gpu_mem       box       obj       cls    labels  img_size\n",
            "     41/99      4.2G   0.03075   0.03389   0.00698        73       640: 100% 168/168 [01:16<00:00,  2.20it/s]\n",
            "               Class     Images     Labels          P          R     mAP@.5 mAP@.5:.95: 100% 84/84 [00:24<00:00,  3.39it/s]\n",
            "                 all       2682      10333      0.936      0.927      0.958      0.685\n",
            "\n",
            "     Epoch   gpu_mem       box       obj       cls    labels  img_size\n",
            "     42/99      4.2G   0.03098   0.03379  0.006768        81       640: 100% 168/168 [01:14<00:00,  2.25it/s]\n",
            "               Class     Images     Labels          P          R     mAP@.5 mAP@.5:.95: 100% 84/84 [00:24<00:00,  3.37it/s]\n",
            "                 all       2682      10333      0.931       0.93      0.957      0.683\n",
            "\n",
            "     Epoch   gpu_mem       box       obj       cls    labels  img_size\n",
            "     43/99      4.2G   0.03053   0.03316   0.00683        63       640: 100% 168/168 [01:14<00:00,  2.25it/s]\n",
            "               Class     Images     Labels          P          R     mAP@.5 mAP@.5:.95: 100% 84/84 [00:24<00:00,  3.36it/s]\n",
            "                 all       2682      10333      0.931      0.929      0.955      0.684\n",
            "\n",
            "     Epoch   gpu_mem       box       obj       cls    labels  img_size\n",
            "     44/99      4.2G   0.03028   0.03328  0.006763        66       640: 100% 168/168 [01:16<00:00,  2.20it/s]\n",
            "               Class     Images     Labels          P          R     mAP@.5 mAP@.5:.95: 100% 84/84 [00:25<00:00,  3.35it/s]\n",
            "                 all       2682      10333      0.942      0.935       0.96      0.688\n",
            "\n",
            "     Epoch   gpu_mem       box       obj       cls    labels  img_size\n",
            "     45/99      4.2G   0.03043   0.03378  0.006849        76       640: 100% 168/168 [01:15<00:00,  2.24it/s]\n",
            "               Class     Images     Labels          P          R     mAP@.5 mAP@.5:.95: 100% 84/84 [00:25<00:00,  3.36it/s]\n",
            "                 all       2682      10333      0.938      0.936      0.964      0.698\n",
            "\n",
            "     Epoch   gpu_mem       box       obj       cls    labels  img_size\n",
            "     46/99      4.2G   0.03021   0.03367  0.006625       101       640: 100% 168/168 [01:14<00:00,  2.26it/s]\n",
            "               Class     Images     Labels          P          R     mAP@.5 mAP@.5:.95: 100% 84/84 [00:25<00:00,  3.34it/s]\n",
            "                 all       2682      10333      0.943      0.938      0.964      0.692\n",
            "\n",
            "     Epoch   gpu_mem       box       obj       cls    labels  img_size\n",
            "     47/99      4.2G   0.03019   0.03316  0.006506        97       640: 100% 168/168 [01:16<00:00,  2.20it/s]\n",
            "               Class     Images     Labels          P          R     mAP@.5 mAP@.5:.95: 100% 84/84 [00:25<00:00,  3.34it/s]\n",
            "                 all       2682      10333      0.942      0.945      0.967      0.701\n",
            "\n",
            "     Epoch   gpu_mem       box       obj       cls    labels  img_size\n",
            "     48/99      4.2G   0.03003   0.03259  0.006596       106       640: 100% 168/168 [01:14<00:00,  2.25it/s]\n",
            "               Class     Images     Labels          P          R     mAP@.5 mAP@.5:.95: 100% 84/84 [00:25<00:00,  3.36it/s]\n",
            "                 all       2682      10333      0.941      0.939      0.963        0.7\n",
            "\n",
            "     Epoch   gpu_mem       box       obj       cls    labels  img_size\n",
            "     49/99      4.2G   0.02948   0.03253  0.006194        88       640: 100% 168/168 [01:14<00:00,  2.25it/s]\n",
            "               Class     Images     Labels          P          R     mAP@.5 mAP@.5:.95: 100% 84/84 [00:25<00:00,  3.34it/s]\n",
            "                 all       2682      10333      0.944      0.948      0.969      0.705\n",
            "\n",
            "     Epoch   gpu_mem       box       obj       cls    labels  img_size\n",
            "     50/99      4.2G   0.02957    0.0331  0.006444        83       640: 100% 168/168 [01:17<00:00,  2.18it/s]\n",
            "               Class     Images     Labels          P          R     mAP@.5 mAP@.5:.95: 100% 84/84 [00:24<00:00,  3.37it/s]\n",
            "                 all       2682      10333      0.945      0.949       0.97      0.713\n",
            "\n",
            "     Epoch   gpu_mem       box       obj       cls    labels  img_size\n",
            "     51/99      4.2G   0.02944   0.03227  0.006237        82       640: 100% 168/168 [01:14<00:00,  2.25it/s]\n",
            "               Class     Images     Labels          P          R     mAP@.5 mAP@.5:.95: 100% 84/84 [00:25<00:00,  3.35it/s]\n",
            "                 all       2682      10333      0.954      0.949      0.972      0.715\n",
            "\n",
            "     Epoch   gpu_mem       box       obj       cls    labels  img_size\n",
            "     52/99      4.2G   0.02946   0.03219  0.006306        70       640: 100% 168/168 [01:16<00:00,  2.20it/s]\n",
            "               Class     Images     Labels          P          R     mAP@.5 mAP@.5:.95: 100% 84/84 [00:27<00:00,  3.10it/s]\n",
            "                 all       2682      10333      0.957       0.95      0.975      0.718\n",
            "\n",
            "     Epoch   gpu_mem       box       obj       cls    labels  img_size\n",
            "     53/99      4.2G   0.02913   0.03241  0.006202        41       640: 100% 168/168 [01:22<00:00,  2.03it/s]\n",
            "               Class     Images     Labels          P          R     mAP@.5 mAP@.5:.95: 100% 84/84 [00:26<00:00,  3.15it/s]\n",
            "                 all       2682      10333      0.954      0.952      0.975      0.721\n",
            "\n",
            "     Epoch   gpu_mem       box       obj       cls    labels  img_size\n",
            "     54/99      4.2G   0.02904   0.03185  0.006143        64       640: 100% 168/168 [01:20<00:00,  2.09it/s]\n",
            "               Class     Images     Labels          P          R     mAP@.5 mAP@.5:.95: 100% 84/84 [00:27<00:00,  3.09it/s]\n",
            "                 all       2682      10333      0.957      0.957      0.976      0.724\n",
            "\n",
            "     Epoch   gpu_mem       box       obj       cls    labels  img_size\n",
            "     55/99      4.2G   0.02876   0.03175  0.006214        72       640: 100% 168/168 [01:21<00:00,  2.05it/s]\n",
            "               Class     Images     Labels          P          R     mAP@.5 mAP@.5:.95: 100% 84/84 [00:28<00:00,  2.94it/s]\n",
            "                 all       2682      10333      0.959      0.952      0.975      0.728\n",
            "\n",
            "     Epoch   gpu_mem       box       obj       cls    labels  img_size\n",
            "     56/99      4.2G   0.02853   0.03132  0.005766        68       640: 100% 168/168 [01:19<00:00,  2.11it/s]\n",
            "               Class     Images     Labels          P          R     mAP@.5 mAP@.5:.95: 100% 84/84 [00:26<00:00,  3.18it/s]\n",
            "                 all       2682      10333      0.958      0.959      0.979      0.728\n",
            "\n",
            "     Epoch   gpu_mem       box       obj       cls    labels  img_size\n",
            "     57/99      4.2G   0.02821   0.03211  0.005925        74       640: 100% 168/168 [01:19<00:00,  2.12it/s]\n",
            "               Class     Images     Labels          P          R     mAP@.5 mAP@.5:.95: 100% 84/84 [00:26<00:00,  3.21it/s]\n",
            "                 all       2682      10333      0.968       0.96      0.981      0.734\n",
            "\n",
            "     Epoch   gpu_mem       box       obj       cls    labels  img_size\n",
            "     58/99      4.2G   0.02819   0.03121  0.005877        66       640: 100% 168/168 [01:19<00:00,  2.10it/s]\n",
            "               Class     Images     Labels          P          R     mAP@.5 mAP@.5:.95: 100% 84/84 [00:25<00:00,  3.33it/s]\n",
            "                 all       2682      10333       0.96      0.958      0.978      0.733\n",
            "\n",
            "     Epoch   gpu_mem       box       obj       cls    labels  img_size\n",
            "     59/99      4.2G   0.02816   0.03183  0.005784        87       640: 100% 168/168 [01:17<00:00,  2.16it/s]\n",
            "               Class     Images     Labels          P          R     mAP@.5 mAP@.5:.95: 100% 84/84 [00:25<00:00,  3.34it/s]\n",
            "                 all       2682      10333      0.967      0.962      0.981      0.736\n",
            "\n",
            "     Epoch   gpu_mem       box       obj       cls    labels  img_size\n",
            "     60/99      4.2G   0.02807   0.03139  0.005738        83       640: 100% 168/168 [01:15<00:00,  2.23it/s]\n",
            "               Class     Images     Labels          P          R     mAP@.5 mAP@.5:.95: 100% 84/84 [00:24<00:00,  3.37it/s]\n",
            "                 all       2682      10333       0.96      0.958      0.979      0.736\n",
            "\n",
            "     Epoch   gpu_mem       box       obj       cls    labels  img_size\n",
            "     61/99      4.2G   0.02779   0.03117  0.005743        72       640: 100% 168/168 [01:16<00:00,  2.21it/s]\n",
            "               Class     Images     Labels          P          R     mAP@.5 mAP@.5:.95: 100% 84/84 [00:24<00:00,  3.36it/s]\n",
            "                 all       2682      10333      0.969      0.962      0.983      0.744\n",
            "\n",
            "     Epoch   gpu_mem       box       obj       cls    labels  img_size\n",
            "     62/99      4.2G   0.02763   0.03062  0.005738        59       640: 100% 168/168 [01:14<00:00,  2.26it/s]\n",
            "               Class     Images     Labels          P          R     mAP@.5 mAP@.5:.95: 100% 84/84 [00:25<00:00,  3.35it/s]\n",
            "                 all       2682      10333      0.964      0.966      0.981      0.745\n",
            "\n",
            "     Epoch   gpu_mem       box       obj       cls    labels  img_size\n",
            "     63/99      4.2G   0.02775   0.03102  0.005699        74       640: 100% 168/168 [01:14<00:00,  2.24it/s]\n",
            "               Class     Images     Labels          P          R     mAP@.5 mAP@.5:.95: 100% 84/84 [00:25<00:00,  3.32it/s]\n",
            "                 all       2682      10333      0.972      0.967      0.984       0.75\n",
            "\n",
            "     Epoch   gpu_mem       box       obj       cls    labels  img_size\n",
            "     64/99      4.2G   0.02698   0.03038  0.005452        55       640: 100% 168/168 [01:14<00:00,  2.25it/s]\n",
            "               Class     Images     Labels          P          R     mAP@.5 mAP@.5:.95: 100% 84/84 [00:26<00:00,  3.14it/s]\n",
            "                 all       2682      10333      0.973      0.969      0.986      0.752\n",
            "\n",
            "     Epoch   gpu_mem       box       obj       cls    labels  img_size\n",
            "     65/99      4.2G   0.02722   0.03019  0.005526        91       640: 100% 168/168 [01:15<00:00,  2.21it/s]\n",
            "               Class     Images     Labels          P          R     mAP@.5 mAP@.5:.95: 100% 84/84 [00:25<00:00,  3.31it/s]\n",
            "                 all       2682      10333      0.972      0.968      0.986      0.753\n",
            "\n",
            "     Epoch   gpu_mem       box       obj       cls    labels  img_size\n",
            "     66/99      4.2G   0.02703   0.03033  0.005319        75       640: 100% 168/168 [01:14<00:00,  2.25it/s]\n",
            "               Class     Images     Labels          P          R     mAP@.5 mAP@.5:.95: 100% 84/84 [00:24<00:00,  3.37it/s]\n",
            "                 all       2682      10333      0.976      0.968      0.985      0.755\n",
            "\n",
            "     Epoch   gpu_mem       box       obj       cls    labels  img_size\n",
            "     67/99      4.2G   0.02672   0.02995  0.005244        78       640: 100% 168/168 [01:14<00:00,  2.25it/s]\n",
            "               Class     Images     Labels          P          R     mAP@.5 mAP@.5:.95: 100% 84/84 [00:26<00:00,  3.15it/s]\n",
            "                 all       2682      10333      0.975      0.973      0.988       0.76\n",
            "\n",
            "     Epoch   gpu_mem       box       obj       cls    labels  img_size\n",
            "     68/99      4.2G   0.02655    0.0299  0.005269        63       640: 100% 168/168 [01:14<00:00,  2.25it/s]\n",
            "               Class     Images     Labels          P          R     mAP@.5 mAP@.5:.95: 100% 84/84 [00:24<00:00,  3.36it/s]\n",
            "                 all       2682      10333      0.978      0.976      0.989      0.761\n",
            "\n",
            "     Epoch   gpu_mem       box       obj       cls    labels  img_size\n",
            "     69/99      4.2G   0.02656   0.02986  0.005386        90       640: 100% 168/168 [01:14<00:00,  2.25it/s]\n",
            "               Class     Images     Labels          P          R     mAP@.5 mAP@.5:.95: 100% 84/84 [00:25<00:00,  3.33it/s]\n",
            "                 all       2682      10333      0.978       0.97      0.987      0.761\n",
            "\n",
            "     Epoch   gpu_mem       box       obj       cls    labels  img_size\n",
            "     70/99      4.2G    0.0262   0.02912  0.005318        90       640: 100% 168/168 [01:14<00:00,  2.24it/s]\n",
            "               Class     Images     Labels          P          R     mAP@.5 mAP@.5:.95: 100% 84/84 [00:26<00:00,  3.17it/s]\n",
            "                 all       2682      10333      0.977      0.972      0.987      0.765\n",
            "\n",
            "     Epoch   gpu_mem       box       obj       cls    labels  img_size\n",
            "     71/99      4.2G   0.02619   0.02939  0.005317        59       640: 100% 168/168 [01:14<00:00,  2.26it/s]\n",
            "               Class     Images     Labels          P          R     mAP@.5 mAP@.5:.95: 100% 84/84 [00:24<00:00,  3.38it/s]\n",
            "                 all       2682      10333       0.98      0.973      0.989      0.768\n",
            "\n",
            "     Epoch   gpu_mem       box       obj       cls    labels  img_size\n",
            "     72/99      4.2G     0.026   0.02991  0.005236        88       640: 100% 168/168 [01:14<00:00,  2.26it/s]\n",
            "               Class     Images     Labels          P          R     mAP@.5 mAP@.5:.95: 100% 84/84 [00:25<00:00,  3.34it/s]\n",
            "                 all       2682      10333      0.974      0.976      0.989      0.773\n",
            "\n",
            "     Epoch   gpu_mem       box       obj       cls    labels  img_size\n",
            "     73/99      4.2G   0.02598   0.02942  0.005129        88       640: 100% 168/168 [01:14<00:00,  2.26it/s]\n",
            "               Class     Images     Labels          P          R     mAP@.5 mAP@.5:.95: 100% 84/84 [00:25<00:00,  3.35it/s]\n",
            "                 all       2682      10333      0.978      0.976      0.989      0.773\n",
            "\n",
            "     Epoch   gpu_mem       box       obj       cls    labels  img_size\n",
            "     74/99      4.2G   0.02589   0.02878  0.005143        72       640: 100% 168/168 [01:14<00:00,  2.26it/s]\n",
            "               Class     Images     Labels          P          R     mAP@.5 mAP@.5:.95: 100% 84/84 [00:24<00:00,  3.36it/s]\n",
            "                 all       2682      10333      0.979      0.979      0.989      0.773\n",
            "\n",
            "     Epoch   gpu_mem       box       obj       cls    labels  img_size\n",
            "     75/99      4.2G   0.02582   0.02883  0.005117        64       640: 100% 168/168 [01:14<00:00,  2.25it/s]\n",
            "               Class     Images     Labels          P          R     mAP@.5 mAP@.5:.95: 100% 84/84 [00:25<00:00,  3.32it/s]\n",
            "                 all       2682      10333      0.981      0.977       0.99      0.776\n",
            "\n",
            "     Epoch   gpu_mem       box       obj       cls    labels  img_size\n",
            "     76/99      4.2G   0.02539   0.02905  0.004963        73       640: 100% 168/168 [01:14<00:00,  2.26it/s]\n",
            "               Class     Images     Labels          P          R     mAP@.5 mAP@.5:.95: 100% 84/84 [00:25<00:00,  3.35it/s]\n",
            "                 all       2682      10333      0.983      0.976      0.991      0.783\n",
            "\n",
            "     Epoch   gpu_mem       box       obj       cls    labels  img_size\n",
            "     77/99      4.2G   0.02531   0.02876  0.004874        68       640: 100% 168/168 [01:15<00:00,  2.23it/s]\n",
            "               Class     Images     Labels          P          R     mAP@.5 mAP@.5:.95: 100% 84/84 [00:25<00:00,  3.35it/s]\n",
            "                 all       2682      10333      0.983      0.979      0.991      0.785\n",
            "\n",
            "     Epoch   gpu_mem       box       obj       cls    labels  img_size\n",
            "     78/99      4.2G   0.02522   0.02903  0.004901        79       640: 100% 168/168 [01:15<00:00,  2.22it/s]\n",
            "               Class     Images     Labels          P          R     mAP@.5 mAP@.5:.95: 100% 84/84 [00:25<00:00,  3.32it/s]\n",
            "                 all       2682      10333      0.984      0.981      0.991      0.784\n",
            "\n",
            "     Epoch   gpu_mem       box       obj       cls    labels  img_size\n",
            "     79/99      4.2G   0.02498   0.02864  0.004839        66       640: 100% 168/168 [01:15<00:00,  2.23it/s]\n",
            "               Class     Images     Labels          P          R     mAP@.5 mAP@.5:.95: 100% 84/84 [00:25<00:00,  3.33it/s]\n",
            "                 all       2682      10333      0.986      0.982      0.992      0.788\n",
            "\n",
            "     Epoch   gpu_mem       box       obj       cls    labels  img_size\n",
            "     80/99      4.2G   0.02492   0.02843  0.004801        69       640: 100% 168/168 [01:15<00:00,  2.24it/s]\n",
            "               Class     Images     Labels          P          R     mAP@.5 mAP@.5:.95: 100% 84/84 [00:25<00:00,  3.25it/s]\n",
            "                 all       2682      10333      0.985      0.978      0.991      0.791\n",
            "\n",
            "     Epoch   gpu_mem       box       obj       cls    labels  img_size\n",
            "     81/99      4.2G   0.02468   0.02838  0.004738        79       640: 100% 168/168 [01:14<00:00,  2.25it/s]\n",
            "               Class     Images     Labels          P          R     mAP@.5 mAP@.5:.95: 100% 84/84 [00:25<00:00,  3.34it/s]\n",
            "                 all       2682      10333      0.984      0.981      0.992       0.79\n",
            "\n",
            "     Epoch   gpu_mem       box       obj       cls    labels  img_size\n",
            "     82/99      4.2G   0.02464   0.02832  0.004695        89       640: 100% 168/168 [01:14<00:00,  2.24it/s]\n",
            "               Class     Images     Labels          P          R     mAP@.5 mAP@.5:.95: 100% 84/84 [00:25<00:00,  3.34it/s]\n",
            "                 all       2682      10333      0.984      0.982      0.991      0.793\n",
            "\n",
            "     Epoch   gpu_mem       box       obj       cls    labels  img_size\n",
            "     83/99      4.2G   0.02448   0.02819  0.004631       104       640: 100% 168/168 [01:15<00:00,  2.23it/s]\n",
            "               Class     Images     Labels          P          R     mAP@.5 mAP@.5:.95: 100% 84/84 [00:25<00:00,  3.30it/s]\n",
            "                 all       2682      10333      0.984      0.984      0.992      0.796\n",
            "\n",
            "     Epoch   gpu_mem       box       obj       cls    labels  img_size\n",
            "     84/99      4.2G   0.02437   0.02772  0.004703        68       640: 100% 168/168 [01:15<00:00,  2.24it/s]\n",
            "               Class     Images     Labels          P          R     mAP@.5 mAP@.5:.95: 100% 84/84 [00:25<00:00,  3.32it/s]\n",
            "                 all       2682      10333      0.986      0.983      0.992      0.796\n",
            "\n",
            "     Epoch   gpu_mem       box       obj       cls    labels  img_size\n",
            "     85/99      4.2G   0.02416   0.02811  0.004557        64       640: 100% 168/168 [01:14<00:00,  2.26it/s]\n",
            "               Class     Images     Labels          P          R     mAP@.5 mAP@.5:.95: 100% 84/84 [00:25<00:00,  3.30it/s]\n",
            "                 all       2682      10333      0.986      0.985      0.992      0.797\n",
            "\n",
            "     Epoch   gpu_mem       box       obj       cls    labels  img_size\n",
            "     86/99      4.2G   0.02403   0.02776  0.004488        66       640: 100% 168/168 [01:14<00:00,  2.25it/s]\n",
            "               Class     Images     Labels          P          R     mAP@.5 mAP@.5:.95: 100% 84/84 [00:25<00:00,  3.33it/s]\n",
            "                 all       2682      10333      0.986      0.986      0.992      0.806\n",
            "\n",
            "     Epoch   gpu_mem       box       obj       cls    labels  img_size\n",
            "     87/99      4.2G   0.02429   0.02794  0.004762        81       640: 100% 168/168 [01:17<00:00,  2.16it/s]\n",
            "               Class     Images     Labels          P          R     mAP@.5 mAP@.5:.95: 100% 84/84 [00:25<00:00,  3.30it/s]\n",
            "                 all       2682      10333      0.985      0.984      0.992      0.805\n",
            "\n",
            "     Epoch   gpu_mem       box       obj       cls    labels  img_size\n",
            "     88/99      4.2G   0.02388   0.02706  0.004531        83       640: 100% 168/168 [01:15<00:00,  2.22it/s]\n",
            "               Class     Images     Labels          P          R     mAP@.5 mAP@.5:.95: 100% 84/84 [00:25<00:00,  3.33it/s]\n",
            "                 all       2682      10333      0.986      0.985      0.993      0.805\n",
            "\n",
            "     Epoch   gpu_mem       box       obj       cls    labels  img_size\n",
            "     89/99      4.2G   0.02384    0.0272  0.004476        60       640: 100% 168/168 [01:14<00:00,  2.25it/s]\n",
            "               Class     Images     Labels          P          R     mAP@.5 mAP@.5:.95: 100% 84/84 [00:25<00:00,  3.35it/s]\n",
            "                 all       2682      10333      0.987      0.984      0.992      0.807\n",
            "\n",
            "     Epoch   gpu_mem       box       obj       cls    labels  img_size\n",
            "     90/99      4.2G   0.02358   0.02695  0.004458        92       640: 100% 168/168 [01:16<00:00,  2.21it/s]\n",
            "               Class     Images     Labels          P          R     mAP@.5 mAP@.5:.95: 100% 84/84 [00:25<00:00,  3.34it/s]\n",
            "                 all       2682      10333      0.985      0.985      0.993      0.809\n",
            "\n",
            "     Epoch   gpu_mem       box       obj       cls    labels  img_size\n",
            "     91/99      4.2G   0.02361    0.0273  0.004473        66       640: 100% 168/168 [01:14<00:00,  2.25it/s]\n",
            "               Class     Images     Labels          P          R     mAP@.5 mAP@.5:.95: 100% 84/84 [00:25<00:00,  3.35it/s]\n",
            "                 all       2682      10333      0.989      0.984      0.993       0.81\n",
            "\n",
            "     Epoch   gpu_mem       box       obj       cls    labels  img_size\n",
            "     92/99      4.2G   0.02351   0.02715  0.004341        81       640: 100% 168/168 [01:14<00:00,  2.26it/s]\n",
            "               Class     Images     Labels          P          R     mAP@.5 mAP@.5:.95: 100% 84/84 [00:24<00:00,  3.37it/s]\n",
            "                 all       2682      10333      0.992      0.985      0.993      0.812\n",
            "\n",
            "     Epoch   gpu_mem       box       obj       cls    labels  img_size\n",
            "     93/99      4.2G   0.02339   0.02723  0.004339        76       640: 100% 168/168 [01:14<00:00,  2.25it/s]\n",
            "               Class     Images     Labels          P          R     mAP@.5 mAP@.5:.95: 100% 84/84 [00:25<00:00,  3.32it/s]\n",
            "                 all       2682      10333      0.988      0.988      0.993      0.816\n",
            "\n",
            "     Epoch   gpu_mem       box       obj       cls    labels  img_size\n",
            "     94/99      4.2G   0.02334   0.02664   0.00455        71       640: 100% 168/168 [01:15<00:00,  2.24it/s]\n",
            "               Class     Images     Labels          P          R     mAP@.5 mAP@.5:.95: 100% 84/84 [00:24<00:00,  3.38it/s]\n",
            "                 all       2682      10333       0.99      0.986      0.993      0.815\n",
            "\n",
            "     Epoch   gpu_mem       box       obj       cls    labels  img_size\n",
            "     95/99      4.2G   0.02306   0.02686  0.004212        76       640: 100% 168/168 [01:14<00:00,  2.24it/s]\n",
            "               Class     Images     Labels          P          R     mAP@.5 mAP@.5:.95: 100% 84/84 [00:25<00:00,  3.29it/s]\n",
            "                 all       2682      10333       0.99      0.986      0.993      0.817\n",
            "\n",
            "     Epoch   gpu_mem       box       obj       cls    labels  img_size\n",
            "     96/99      4.2G    0.0231   0.02706  0.004311        77       640: 100% 168/168 [01:14<00:00,  2.25it/s]\n",
            "               Class     Images     Labels          P          R     mAP@.5 mAP@.5:.95: 100% 84/84 [00:27<00:00,  3.08it/s]\n",
            "                 all       2682      10333      0.989      0.987      0.994       0.82\n",
            "\n",
            "     Epoch   gpu_mem       box       obj       cls    labels  img_size\n",
            "     97/99      4.2G    0.0228   0.02676  0.004194        64       640: 100% 168/168 [01:16<00:00,  2.20it/s]\n",
            "               Class     Images     Labels          P          R     mAP@.5 mAP@.5:.95: 100% 84/84 [00:25<00:00,  3.29it/s]\n",
            "                 all       2682      10333      0.991      0.986      0.993       0.82\n",
            "\n",
            "     Epoch   gpu_mem       box       obj       cls    labels  img_size\n",
            "     98/99      4.2G   0.02282   0.02662  0.004293        62       640: 100% 168/168 [01:16<00:00,  2.20it/s]\n",
            "               Class     Images     Labels          P          R     mAP@.5 mAP@.5:.95: 100% 84/84 [00:25<00:00,  3.33it/s]\n",
            "                 all       2682      10333      0.991      0.986      0.994      0.822\n",
            "\n",
            "     Epoch   gpu_mem       box       obj       cls    labels  img_size\n",
            "     99/99      4.2G   0.02268   0.02644  0.004133        49       640: 100% 168/168 [01:14<00:00,  2.25it/s]\n",
            "               Class     Images     Labels          P          R     mAP@.5 mAP@.5:.95: 100% 84/84 [00:26<00:00,  3.21it/s]\n",
            "                 all       2682      10333      0.991      0.987      0.994      0.822\n",
            "\n",
            "100 epochs completed in 2.849 hours.\n",
            "Optimizer stripped from yolov5/runs/train/exp/weights/last.pt, 14.4MB\n",
            "Optimizer stripped from yolov5/runs/train/exp/weights/best.pt, 14.4MB\n",
            "\n",
            "Validating yolov5/runs/train/exp/weights/best.pt...\n",
            "Fusing layers... \n",
            "Model summary: 213 layers, 7037095 parameters, 0 gradients\n",
            "               Class     Images     Labels          P          R     mAP@.5 mAP@.5:.95: 100% 84/84 [00:29<00:00,  2.86it/s]\n",
            "                 all       2682      10333      0.991      0.987      0.994      0.822\n",
            "            sunglass       2682        425      0.949       0.96      0.984      0.655\n",
            "                 hat       2682        350      0.994       0.99      0.995      0.783\n",
            "              jacket       2682        958      0.994      0.973      0.994      0.854\n",
            "               shirt       2682       1852      0.996      0.981      0.995      0.843\n",
            "               pants       2682        622      0.998      0.994      0.995      0.877\n",
            "              shorts       2682        502      0.996          1      0.995      0.828\n",
            "               skirt       2682        883          1      0.998      0.995      0.888\n",
            "               dress       2682        678      0.997      0.988      0.995      0.876\n",
            "                 bag       2682       1462      0.996      0.997      0.995      0.829\n",
            "                shoe       2682       2601       0.99      0.991      0.995      0.783\n",
            "Results saved to \u001b[1myolov5/runs/train/exp\u001b[0m\n"
          ]
        }
      ]
    },
    {
      "cell_type": "code",
      "source": [
        "!zip -r /content/yolov5/runs/train/exp.zip /content/yolov5/runs/train/exp"
      ],
      "metadata": {
        "colab": {
          "base_uri": "https://localhost:8080/"
        },
        "id": "9koulhPFESaw",
        "outputId": "1365cf36-4302-4d39-adc3-1cc0f293f9f1"
      },
      "execution_count": 15,
      "outputs": [
        {
          "output_type": "stream",
          "name": "stdout",
          "text": [
            "  adding: content/yolov5/runs/train/exp/ (stored 0%)\n",
            "  adding: content/yolov5/runs/train/exp/P_curve.png (deflated 9%)\n",
            "  adding: content/yolov5/runs/train/exp/val_batch1_pred.jpg (deflated 6%)\n",
            "  adding: content/yolov5/runs/train/exp/val_batch0_labels.jpg (deflated 7%)\n",
            "  adding: content/yolov5/runs/train/exp/train_batch0.jpg (deflated 5%)\n",
            "  adding: content/yolov5/runs/train/exp/val_batch1_labels.jpg (deflated 6%)\n",
            "  adding: content/yolov5/runs/train/exp/train_batch1.jpg (deflated 3%)\n",
            "  adding: content/yolov5/runs/train/exp/opt.yaml (deflated 44%)\n",
            "  adding: content/yolov5/runs/train/exp/F1_curve.png (deflated 6%)\n",
            "  adding: content/yolov5/runs/train/exp/results.png (deflated 10%)\n",
            "  adding: content/yolov5/runs/train/exp/hyp.yaml (deflated 45%)\n",
            "  adding: content/yolov5/runs/train/exp/val_batch2_pred.jpg (deflated 5%)\n",
            "  adding: content/yolov5/runs/train/exp/events.out.tfevents.1656506010.87b79bc11589.486.0 (deflated 28%)\n",
            "  adding: content/yolov5/runs/train/exp/results.csv (deflated 83%)\n",
            "  adding: content/yolov5/runs/train/exp/confusion_matrix.png (deflated 21%)\n",
            "  adding: content/yolov5/runs/train/exp/labels_correlogram.jpg (deflated 21%)\n",
            "  adding: content/yolov5/runs/train/exp/val_batch0_pred.jpg (deflated 6%)\n",
            "  adding: content/yolov5/runs/train/exp/val_batch2_labels.jpg (deflated 6%)\n",
            "  adding: content/yolov5/runs/train/exp/PR_curve.png (deflated 17%)\n",
            "  adding: content/yolov5/runs/train/exp/train_batch2.jpg (deflated 2%)\n",
            "  adding: content/yolov5/runs/train/exp/weights/ (stored 0%)\n",
            "  adding: content/yolov5/runs/train/exp/weights/last.pt (deflated 9%)\n",
            "  adding: content/yolov5/runs/train/exp/weights/best.pt (deflated 9%)\n",
            "  adding: content/yolov5/runs/train/exp/labels.jpg (deflated 18%)\n",
            "  adding: content/yolov5/runs/train/exp/R_curve.png (deflated 8%)\n"
          ]
        }
      ]
    },
    {
      "cell_type": "code",
      "source": [
        "files.download('/content/yolov5/runs/train/exp.zip')"
      ],
      "metadata": {
        "colab": {
          "base_uri": "https://localhost:8080/",
          "height": 17
        },
        "id": "1KGc0WWQEmma",
        "outputId": "808cf1a5-a0af-4805-c206-87e508ee05bd"
      },
      "execution_count": 16,
      "outputs": [
        {
          "output_type": "display_data",
          "data": {
            "text/plain": [
              "<IPython.core.display.Javascript object>"
            ],
            "application/javascript": [
              "\n",
              "    async function download(id, filename, size) {\n",
              "      if (!google.colab.kernel.accessAllowed) {\n",
              "        return;\n",
              "      }\n",
              "      const div = document.createElement('div');\n",
              "      const label = document.createElement('label');\n",
              "      label.textContent = `Downloading \"${filename}\": `;\n",
              "      div.appendChild(label);\n",
              "      const progress = document.createElement('progress');\n",
              "      progress.max = size;\n",
              "      div.appendChild(progress);\n",
              "      document.body.appendChild(div);\n",
              "\n",
              "      const buffers = [];\n",
              "      let downloaded = 0;\n",
              "\n",
              "      const channel = await google.colab.kernel.comms.open(id);\n",
              "      // Send a message to notify the kernel that we're ready.\n",
              "      channel.send({})\n",
              "\n",
              "      for await (const message of channel.messages) {\n",
              "        // Send a message to notify the kernel that we're ready.\n",
              "        channel.send({})\n",
              "        if (message.buffers) {\n",
              "          for (const buffer of message.buffers) {\n",
              "            buffers.push(buffer);\n",
              "            downloaded += buffer.byteLength;\n",
              "            progress.value = downloaded;\n",
              "          }\n",
              "        }\n",
              "      }\n",
              "      const blob = new Blob(buffers, {type: 'application/binary'});\n",
              "      const a = document.createElement('a');\n",
              "      a.href = window.URL.createObjectURL(blob);\n",
              "      a.download = filename;\n",
              "      div.appendChild(a);\n",
              "      a.click();\n",
              "      div.remove();\n",
              "    }\n",
              "  "
            ]
          },
          "metadata": {}
        },
        {
          "output_type": "display_data",
          "data": {
            "text/plain": [
              "<IPython.core.display.Javascript object>"
            ],
            "application/javascript": [
              "download(\"download_6f6f91ab-30a2-4ea1-8557-1e61b6f1301c\", \"exp.zip\", 33571943)"
            ]
          },
          "metadata": {}
        }
      ]
    },
    {
      "cell_type": "code",
      "source": [
        "model = torch.hub.load('ultralytics/yolov5', 'custom', path='/content/yolov5/runs/train/exp/weights/best.pt')"
      ],
      "metadata": {
        "colab": {
          "base_uri": "https://localhost:8080/"
        },
        "id": "V4g5TJBne9wd",
        "outputId": "597be10d-057e-472a-ae38-4b3bc8c05422"
      },
      "execution_count": 18,
      "outputs": [
        {
          "output_type": "stream",
          "name": "stderr",
          "text": [
            "Downloading: \"https://github.com/ultralytics/yolov5/archive/master.zip\" to /root/.cache/torch/hub/master.zip\n",
            "\u001b[31m\u001b[1mrequirements:\u001b[0m PyYAML>=5.3.1 not found and is required by YOLOv5, attempting auto-update...\n",
            "Looking in indexes: https://pypi.org/simple, https://us-python.pkg.dev/colab-wheels/public/simple/\n",
            "Requirement already satisfied: PyYAML>=5.3.1 in /usr/local/lib/python3.7/dist-packages (6.0)\n",
            "\n",
            "\u001b[31m\u001b[1mrequirements:\u001b[0m 1 package updated per /root/.cache/torch/hub/ultralytics_yolov5_master/requirements.txt\n",
            "\u001b[31m\u001b[1mrequirements:\u001b[0m ⚠️ \u001b[1mRestart runtime or rerun command for updates to take effect\u001b[0m\n",
            "\n",
            "YOLOv5 🚀 2022-6-29 Python-3.7.13 torch-1.11.0+cu113 CUDA:0 (Tesla T4, 15110MiB)\n",
            "\n",
            "Fusing layers... \n",
            "Model summary: 213 layers, 7037095 parameters, 0 gradients\n",
            "Adding AutoShape... \n"
          ]
        }
      ]
    },
    {
      "cell_type": "code",
      "source": [
        "im1 = Image.open('/content/data/images/142430.jpg')\n",
        "im2 = Image.open('/content/data/images/142401.jpg')\n",
        "imgs = [im1,im2]\n",
        "\n",
        "results = model(im1,size=640)"
      ],
      "metadata": {
        "id": "uUD08GWuitz1"
      },
      "execution_count": 21,
      "outputs": []
    },
    {
      "cell_type": "code",
      "source": [
        "%matplotlib inline\n",
        "plt.imshow(np.squeeze(results.render()))\n",
        "plt.show(figsize = (100,100))"
      ],
      "metadata": {
        "colab": {
          "base_uri": "https://localhost:8080/",
          "height": 587
        },
        "id": "YGf5QrnJibjY",
        "outputId": "98496c70-c30b-4d66-f934-3fbc48b45a78"
      },
      "execution_count": 24,
      "outputs": [
        {
          "output_type": "error",
          "ename": "TypeError",
          "evalue": "ignored",
          "traceback": [
            "\u001b[0;31m---------------------------------------------------------------------------\u001b[0m",
            "\u001b[0;31mTypeError\u001b[0m                                 Traceback (most recent call last)",
            "\u001b[0;32m<ipython-input-24-64791bf3dff7>\u001b[0m in \u001b[0;36m<module>\u001b[0;34m()\u001b[0m\n\u001b[1;32m      1\u001b[0m \u001b[0mget_ipython\u001b[0m\u001b[0;34m(\u001b[0m\u001b[0;34m)\u001b[0m\u001b[0;34m.\u001b[0m\u001b[0mmagic\u001b[0m\u001b[0;34m(\u001b[0m\u001b[0;34m'matplotlib inline'\u001b[0m\u001b[0;34m)\u001b[0m\u001b[0;34m\u001b[0m\u001b[0;34m\u001b[0m\u001b[0m\n\u001b[1;32m      2\u001b[0m \u001b[0mplt\u001b[0m\u001b[0;34m.\u001b[0m\u001b[0mimshow\u001b[0m\u001b[0;34m(\u001b[0m\u001b[0mnp\u001b[0m\u001b[0;34m.\u001b[0m\u001b[0msqueeze\u001b[0m\u001b[0;34m(\u001b[0m\u001b[0mresults\u001b[0m\u001b[0;34m.\u001b[0m\u001b[0mrender\u001b[0m\u001b[0;34m(\u001b[0m\u001b[0;34m)\u001b[0m\u001b[0;34m)\u001b[0m\u001b[0;34m)\u001b[0m\u001b[0;34m\u001b[0m\u001b[0;34m\u001b[0m\u001b[0m\n\u001b[0;32m----> 3\u001b[0;31m \u001b[0mplt\u001b[0m\u001b[0;34m.\u001b[0m\u001b[0mshow\u001b[0m\u001b[0;34m(\u001b[0m\u001b[0mfigsize\u001b[0m \u001b[0;34m=\u001b[0m \u001b[0;34m(\u001b[0m\u001b[0;36m100\u001b[0m\u001b[0;34m,\u001b[0m\u001b[0;36m100\u001b[0m\u001b[0;34m)\u001b[0m\u001b[0;34m)\u001b[0m\u001b[0;34m\u001b[0m\u001b[0;34m\u001b[0m\u001b[0m\n\u001b[0m",
            "\u001b[0;32m/usr/local/lib/python3.7/dist-packages/matplotlib/pyplot.py\u001b[0m in \u001b[0;36mshow\u001b[0;34m(*args, **kw)\u001b[0m\n\u001b[1;32m    270\u001b[0m     \"\"\"\n\u001b[1;32m    271\u001b[0m     \u001b[0;32mglobal\u001b[0m \u001b[0m_show\u001b[0m\u001b[0;34m\u001b[0m\u001b[0;34m\u001b[0m\u001b[0m\n\u001b[0;32m--> 272\u001b[0;31m     \u001b[0;32mreturn\u001b[0m \u001b[0m_show\u001b[0m\u001b[0;34m(\u001b[0m\u001b[0;34m*\u001b[0m\u001b[0margs\u001b[0m\u001b[0;34m,\u001b[0m \u001b[0;34m**\u001b[0m\u001b[0mkw\u001b[0m\u001b[0;34m)\u001b[0m\u001b[0;34m\u001b[0m\u001b[0;34m\u001b[0m\u001b[0m\n\u001b[0m\u001b[1;32m    273\u001b[0m \u001b[0;34m\u001b[0m\u001b[0m\n\u001b[1;32m    274\u001b[0m \u001b[0;34m\u001b[0m\u001b[0m\n",
            "\u001b[0;31mTypeError\u001b[0m: show() got an unexpected keyword argument 'figsize'"
          ]
        },
        {
          "output_type": "display_data",
          "data": {
            "text/plain": [
              "<Figure size 432x288 with 1 Axes>"
            ],
            "image/png": "[encoded data removed]"
          },
          "metadata": {
            "needs_background": "light"
          }
        }
      ]
    },
    {
      "cell_type": "code",
      "source": [
        ""
      ],
      "metadata": {
        "id": "QTrbwiivE5SE"
      },
      "execution_count": null,
      "outputs": []
    }
  ]
}