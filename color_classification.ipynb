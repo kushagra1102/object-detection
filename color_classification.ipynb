{
  "nbformat": 4,
  "nbformat_minor": 0,
  "metadata": {
    "colab": {
      "name": "color_classification.ipynb",
      "provenance": [],
      "collapsed_sections": [],
      "authorship_tag": "ABX9TyNMBkHz5uUGbqvSWsca3ujL",
      "include_colab_link": true
    },
    "kernelspec": {
      "name": "python3",
      "display_name": "Python 3"
    },
    "language_info": {
      "name": "python"
    },
    "gpuClass": "standard"
  },
  "cells": [
    {
      "cell_type": "markdown",
      "metadata": {
        "id": "view-in-github",
        "colab_type": "text"
      },
      "source": [
        "<a href=\"https://colab.research.google.com/github/kushagra1102/object-detection/blob/main/color_classification.ipynb\" target=\"_parent\"><img src=\"https://colab.research.google.com/assets/colab-badge.svg\" alt=\"Open In Colab\"/></a>"
      ]
    },
    {
      "cell_type": "code",
      "source": [
        "!pip install requests"
      ],
      "metadata": {
        "id": "rSpaXAhQDMB1",
        "colab": {
          "base_uri": "https://localhost:8080/"
        },
        "outputId": "46dc28ca-b4d6-4d77-adcb-eb80ab18fa43"
      },
      "execution_count": 1,
      "outputs": [
        {
          "output_type": "stream",
          "name": "stdout",
          "text": [
            "Looking in indexes: https://pypi.org/simple, https://us-python.pkg.dev/colab-wheels/public/simple/\n",
            "Requirement already satisfied: requests in /usr/local/lib/python3.7/dist-packages (2.23.0)\n",
            "Requirement already satisfied: idna<3,>=2.5 in /usr/local/lib/python3.7/dist-packages (from requests) (2.10)\n",
            "Requirement already satisfied: certifi>=2017.4.17 in /usr/local/lib/python3.7/dist-packages (from requests) (2022.6.15)\n",
            "Requirement already satisfied: urllib3!=1.25.0,!=1.25.1,<1.26,>=1.21.1 in /usr/local/lib/python3.7/dist-packages (from requests) (1.24.3)\n",
            "Requirement already satisfied: chardet<4,>=3.0.2 in /usr/local/lib/python3.7/dist-packages (from requests) (3.0.4)\n"
          ]
        }
      ]
    },
    {
      "cell_type": "code",
      "source": [
        "!pip install pillow"
      ],
      "metadata": {
        "colab": {
          "base_uri": "https://localhost:8080/"
        },
        "id": "7uwsu1pLFZxV",
        "outputId": "ea30e755-5dff-4d34-9501-18311f79bfb5"
      },
      "execution_count": 2,
      "outputs": [
        {
          "output_type": "stream",
          "name": "stdout",
          "text": [
            "Looking in indexes: https://pypi.org/simple, https://us-python.pkg.dev/colab-wheels/public/simple/\n",
            "Requirement already satisfied: pillow in /usr/local/lib/python3.7/dist-packages (7.1.2)\n"
          ]
        }
      ]
    },
    {
      "cell_type": "code",
      "source": [
        "import requests\n",
        "from PIL import Image\n",
        "import shutil\n",
        "import urllib"
      ],
      "metadata": {
        "id": "ZFVS5bI5FdR-"
      },
      "execution_count": 3,
      "outputs": []
    },
    {
      "cell_type": "code",
      "source": [
        "import urllib.request"
      ],
      "metadata": {
        "colab": {
          "base_uri": "https://localhost:8080/"
        },
        "id": "slKkbVW5Fg_g",
        "outputId": "ab47e80c-ca23-439b-8856-3624e6782508"
      },
      "execution_count": 10,
      "outputs": [
        {
          "output_type": "execute_result",
          "data": {
            "text/plain": [
              "('images/my_image.jpg', <http.client.HTTPMessage at 0x7f2a7c16f3d0>)"
            ]
          },
          "metadata": {},
          "execution_count": 10
        }
      ]
    },
    {
      "cell_type": "code",
      "source": [
        "import pandas as pd\n",
        "labels_csv = pd.read_csv(\"/content/updated_dataset.csv\")\n",
        "print(labels_csv.describe())\n",
        "print(labels_csv.head())"
      ],
      "metadata": {
        "colab": {
          "base_uri": "https://localhost:8080/"
        },
        "id": "acDcGXEEFnDc",
        "outputId": "2e6ff5b5-f43e-4376-e4d0-537d9ab67270"
      },
      "execution_count": 11,
      "outputs": [
        {
          "output_type": "stream",
          "name": "stdout",
          "text": [
            "       dominant_color                                             images  \\\n",
            "count            1284                                               1393   \n",
            "unique             34                                               1310   \n",
            "top              Blue  http://assets.myntassets.com/v1/assets/images/...   \n",
            "freq              182                                                  3   \n",
            "\n",
            "                          Unnamed: 2  \n",
            "count                             23  \n",
            "unique                             5  \n",
            "top     https://www.myntra.com/libas  \n",
            "freq                              14  \n",
            "  dominant_color                                             images Unnamed: 2\n",
            "0          Black  http://assets.myntassets.com/v1/assets/images/...        NaN\n",
            "1          Black  http://assets.myntassets.com/v1/assets/images/...        NaN\n",
            "2          White  http://assets.myntassets.com/v1/assets/images/...        NaN\n",
            "3           Pink  http://assets.myntassets.com/v1/assets/images/...        NaN\n",
            "4         Yellow  http://assets.myntassets.com/v1/assets/images/...        NaN\n"
          ]
        }
      ]
    },
    {
      "cell_type": "code",
      "source": [
        "labels_csv.drop(['Unnamed: 2'],axis = 1,inplace=True)"
      ],
      "metadata": {
        "id": "uxpvsR2NHeIO"
      },
      "execution_count": 14,
      "outputs": []
    },
    {
      "cell_type": "code",
      "source": [
        "labels_csv.dropna(inplace=True)"
      ],
      "metadata": {
        "id": "qyQysRmoHkm3"
      },
      "execution_count": 15,
      "outputs": []
    },
    {
      "cell_type": "code",
      "source": [
        "labels_csv['images'] = labels_csv['images'].str.strip()"
      ],
      "metadata": {
        "id": "IwAgdEkRHv6f"
      },
      "execution_count": 16,
      "outputs": []
    },
    {
      "cell_type": "code",
      "source": [
        "labels_csv['images'] = labels_csv['images'].str.split(\"|\")"
      ],
      "metadata": {
        "id": "rsXP43NKH09P"
      },
      "execution_count": 17,
      "outputs": []
    },
    {
      "cell_type": "code",
      "source": [
        "labels_csv.head()"
      ],
      "metadata": {
        "colab": {
          "base_uri": "https://localhost:8080/",
          "height": 579
        },
        "id": "9vH_RI7mH3pJ",
        "outputId": "31ae9d7c-da53-4389-b3c7-086afc98b81c"
      },
      "execution_count": 19,
      "outputs": [
        {
          "output_type": "execute_result",
          "data": {
            "text/plain": [
              "  dominant_color                                             images\n",
              "0          Black  [http://assets.myntassets.com/v1/assets/images...\n",
              "1          Black  [http://assets.myntassets.com/v1/assets/images...\n",
              "2          White  [http://assets.myntassets.com/v1/assets/images...\n",
              "3           Pink  [http://assets.myntassets.com/v1/assets/images...\n",
              "4         Yellow  [http://assets.myntassets.com/v1/assets/images..."
            ],
            "text/html": [
              "\n",
              "  <div id=\"df-37c61f9a-9248-460c-bafb-beeae261b2a3\">\n",
              "    <div class=\"colab-df-container\">\n",
              "      <div>\n",
              "<style scoped>\n",
              "    .dataframe tbody tr th:only-of-type {\n",
              "        vertical-align: middle;\n",
              "    }\n",
              "\n",
              "    .dataframe tbody tr th {\n",
              "        vertical-align: top;\n",
              "    }\n",
              "\n",
              "    .dataframe thead th {\n",
              "        text-align: right;\n",
              "    }\n",
              "</style>\n",
              "<table border=\"1\" class=\"dataframe\">\n",
              "  <thead>\n",
              "    <tr style=\"text-align: right;\">\n",
              "      <th></th>\n",
              "      <th>dominant_color</th>\n",
              "      <th>images</th>\n",
              "    </tr>\n",
              "  </thead>\n",
              "  <tbody>\n",
              "    <tr>\n",
              "      <th>0</th>\n",
              "      <td>Black</td>\n",
              "      <td>[http://assets.myntassets.com/v1/assets/images...</td>\n",
              "    </tr>\n",
              "    <tr>\n",
              "      <th>1</th>\n",
              "      <td>Black</td>\n",
              "      <td>[http://assets.myntassets.com/v1/assets/images...</td>\n",
              "    </tr>\n",
              "    <tr>\n",
              "      <th>2</th>\n",
              "      <td>White</td>\n",
              "      <td>[http://assets.myntassets.com/v1/assets/images...</td>\n",
              "    </tr>\n",
              "    <tr>\n",
              "      <th>3</th>\n",
              "      <td>Pink</td>\n",
              "      <td>[http://assets.myntassets.com/v1/assets/images...</td>\n",
              "    </tr>\n",
              "    <tr>\n",
              "      <th>4</th>\n",
              "      <td>Yellow</td>\n",
              "      <td>[http://assets.myntassets.com/v1/assets/images...</td>\n",
              "    </tr>\n",
              "  </tbody>\n",
              "</table>\n",
              "</div>\n",
              "      <button class=\"colab-df-convert\" onclick=\"convertToInteractive('df-37c61f9a-9248-460c-bafb-beeae261b2a3')\"\n",
              "              title=\"Convert this dataframe to an interactive table.\"\n",
              "              style=\"display:none;\">\n",
              "        \n",
              "  <svg xmlns=\"http://www.w3.org/2000/svg\" height=\"24px\"viewBox=\"0 0 24 24\"\n",
              "       width=\"24px\">\n",
              "    <path d=\"M0 0h24v24H0V0z\" fill=\"none\"/>\n",
              "    <path d=\"M18.56 5.44l.94 2.06.94-2.06 2.06-.94-2.06-.94-.94-2.06-.94 2.06-2.06.94zm-11 1L8.5 8.5l.94-2.06 2.06-.94-2.06-.94L8.5 2.5l-.94 2.06-2.06.94zm10 10l.94 2.06.94-2.06 2.06-.94-2.06-.94-.94-2.06-.94 2.06-2.06.94z\"/><path d=\"M17.41 7.96l-1.37-1.37c-.4-.4-.92-.59-1.43-.59-.52 0-1.04.2-1.43.59L10.3 9.45l-7.72 7.72c-.78.78-.78 2.05 0 2.83L4 21.41c.39.39.9.59 1.41.59.51 0 1.02-.2 1.41-.59l7.78-7.78 2.81-2.81c.8-.78.8-2.07 0-2.86zM5.41 20L4 18.59l7.72-7.72 1.47 1.35L5.41 20z\"/>\n",
              "  </svg>\n",
              "      </button>\n",
              "      \n",
              "  <style>\n",
              "    .colab-df-container {\n",
              "      display:flex;\n",
              "      flex-wrap:wrap;\n",
              "      gap: 12px;\n",
              "    }\n",
              "\n",
              "    .colab-df-convert {\n",
              "      background-color: #E8F0FE;\n",
              "      border: none;\n",
              "      border-radius: 50%;\n",
              "      cursor: pointer;\n",
              "      display: none;\n",
              "      fill: #1967D2;\n",
              "      height: 32px;\n",
              "      padding: 0 0 0 0;\n",
              "      width: 32px;\n",
              "    }\n",
              "\n",
              "    .colab-df-convert:hover {\n",
              "      background-color: #E2EBFA;\n",
              "      box-shadow: 0px 1px 2px rgba(60, 64, 67, 0.3), 0px 1px 3px 1px rgba(60, 64, 67, 0.15);\n",
              "      fill: #174EA6;\n",
              "    }\n",
              "\n",
              "    [theme=dark] .colab-df-convert {\n",
              "      background-color: #3B4455;\n",
              "      fill: #D2E3FC;\n",
              "    }\n",
              "\n",
              "    [theme=dark] .colab-df-convert:hover {\n",
              "      background-color: #434B5C;\n",
              "      box-shadow: 0px 1px 3px 1px rgba(0, 0, 0, 0.15);\n",
              "      filter: drop-shadow(0px 1px 2px rgba(0, 0, 0, 0.3));\n",
              "      fill: #FFFFFF;\n",
              "    }\n",
              "  </style>\n",
              "\n",
              "      <script>\n",
              "        const buttonEl =\n",
              "          document.querySelector('#df-37c61f9a-9248-460c-bafb-beeae261b2a3 button.colab-df-convert');\n",
              "        buttonEl.style.display =\n",
              "          google.colab.kernel.accessAllowed ? 'block' : 'none';\n",
              "\n",
              "        async function convertToInteractive(key) {\n",
              "          const element = document.querySelector('#df-37c61f9a-9248-460c-bafb-beeae261b2a3');\n",
              "          const dataTable =\n",
              "            await google.colab.kernel.invokeFunction('convertToInteractive',\n",
              "                                                     [key], {});\n",
              "          if (!dataTable) return;\n",
              "\n",
              "          const docLinkHtml = 'Like what you see? Visit the ' +\n",
              "            '<a target=\"_blank\" href=https://colab.research.google.com/notebooks/data_table.ipynb>data table notebook</a>'\n",
              "            + ' to learn more about interactive tables.';\n",
              "          element.innerHTML = '';\n",
              "          dataTable['output_type'] = 'display_data';\n",
              "          await google.colab.output.renderOutput(dataTable, element);\n",
              "          const docLink = document.createElement('div');\n",
              "          docLink.innerHTML = docLinkHtml;\n",
              "          element.appendChild(docLink);\n",
              "        }\n",
              "      </script>\n",
              "    </div>\n",
              "  </div>\n",
              "  "
            ]
          },
          "metadata": {},
          "execution_count": 19
        }
      ]
    },
    {
      "cell_type": "code",
      "source": [
        "for i, j in labels_csv.iterrows():\n",
        "    image_url = j.images[0] \n",
        "    save_name = 'images3/' + str(i) + '.jpg'\n",
        "    urllib.request.urlretrieve(image_url, save_name)"
      ],
      "metadata": {
        "id": "AiBItRvfH8JJ"
      },
      "execution_count": 36,
      "outputs": []
    },
    {
      "cell_type": "code",
      "source": [
        "!zip -r /content/images.zip /content/images3"
      ],
      "metadata": {
        "colab": {
          "base_uri": "https://localhost:8080/"
        },
        "id": "yGsOLrUgXok-",
        "outputId": "a8905321-0651-469b-f457-a0b7ac59b847"
      },
      "execution_count": 37,
      "outputs": [
        {
          "output_type": "stream",
          "name": "stdout",
          "text": [
            "  adding: content/images3/ (stored 0%)\n",
            "  adding: content/images3/442.jpg (deflated 0%)\n",
            "  adding: content/images3/1140.jpg (deflated 0%)\n",
            "  adding: content/images3/226.jpg (deflated 0%)\n",
            "  adding: content/images3/1255.jpg (deflated 1%)\n",
            "  adding: content/images3/1273.jpg (deflated 4%)\n",
            "  adding: content/images3/196.jpg (deflated 1%)\n",
            "  adding: content/images3/780.jpg (deflated 0%)\n",
            "  adding: content/images3/420.jpg (deflated 0%)\n",
            "  adding: content/images3/887.jpg (deflated 1%)\n",
            "  adding: content/images3/1380.jpg (deflated 1%)\n",
            "  adding: content/images3/349.jpg (deflated 1%)\n",
            "  adding: content/images3/942.jpg (deflated 1%)\n",
            "  adding: content/images3/881.jpg (deflated 5%)\n",
            "  adding: content/images3/1272.jpg (deflated 1%)\n",
            "  adding: content/images3/542.jpg (deflated 1%)\n",
            "  adding: content/images3/590.jpg (deflated 1%)\n",
            "  adding: content/images3/879.jpg (deflated 1%)\n",
            "  adding: content/images3/1200.jpg (deflated 2%)\n",
            "  adding: content/images3/717.jpg (deflated 5%)\n",
            "  adding: content/images3/873.jpg (deflated 0%)\n",
            "  adding: content/images3/181.jpg (deflated 1%)\n",
            "  adding: content/images3/5.jpg (deflated 4%)\n",
            "  adding: content/images3/719.jpg (deflated 1%)\n",
            "  adding: content/images3/1280.jpg (deflated 0%)\n",
            "  adding: content/images3/985.jpg (deflated 2%)\n",
            "  adding: content/images3/782.jpg (deflated 2%)\n",
            "  adding: content/images3/466.jpg (deflated 1%)\n",
            "  adding: content/images3/6.jpg (deflated 1%)\n",
            "  adding: content/images3/128.jpg (deflated 0%)\n",
            "  adding: content/images3/1206.jpg (deflated 0%)\n",
            "  adding: content/images3/640.jpg (deflated 2%)\n",
            "  adding: content/images3/125.jpg (deflated 0%)\n",
            "  adding: content/images3/1217.jpg (deflated 1%)\n",
            "  adding: content/images3/147.jpg (deflated 4%)\n",
            "  adding: content/images3/505.jpg (deflated 0%)\n",
            "  adding: content/images3/215.jpg (deflated 0%)\n",
            "  adding: content/images3/43.jpg (deflated 1%)\n",
            "  adding: content/images3/1325.jpg (deflated 1%)\n",
            "  adding: content/images3/45.jpg (deflated 0%)\n",
            "  adding: content/images3/868.jpg (deflated 0%)\n",
            "  adding: content/images3/684.jpg (deflated 2%)\n",
            "  adding: content/images3/410.jpg (deflated 0%)\n",
            "  adding: content/images3/722.jpg (deflated 5%)\n",
            "  adding: content/images3/171.jpg (deflated 4%)\n",
            "  adding: content/images3/540.jpg (deflated 5%)\n",
            "  adding: content/images3/1036.jpg (deflated 1%)\n",
            "  adding: content/images3/112.jpg (deflated 1%)\n",
            "  adding: content/images3/355.jpg (deflated 4%)\n",
            "  adding: content/images3/729.jpg (deflated 0%)\n",
            "  adding: content/images3/862.jpg (deflated 5%)\n",
            "  adding: content/images3/829.jpg (deflated 0%)\n",
            "  adding: content/images3/395.jpg (deflated 0%)\n",
            "  adding: content/images3/238.jpg (deflated 1%)\n",
            "  adding: content/images3/629.jpg (deflated 10%)\n",
            "  adding: content/images3/1295.jpg (deflated 3%)\n",
            "  adding: content/images3/495.jpg (deflated 1%)\n",
            "  adding: content/images3/810.jpg (deflated 3%)\n",
            "  adding: content/images3/884.jpg (deflated 0%)\n",
            "  adding: content/images3/681.jpg (deflated 1%)\n",
            "  adding: content/images3/532.jpg (deflated 0%)\n",
            "  adding: content/images3/173.jpg (deflated 1%)\n",
            "  adding: content/images3/559.jpg (deflated 2%)\n",
            "  adding: content/images3/1041.jpg (deflated 2%)\n",
            "  adding: content/images3/1388.jpg (deflated 16%)\n",
            "  adding: content/images3/569.jpg (deflated 1%)\n",
            "  adding: content/images3/1150.jpg (deflated 3%)\n",
            "  adding: content/images3/287.jpg (deflated 1%)\n",
            "  adding: content/images3/402.jpg (deflated 1%)\n",
            "  adding: content/images3/702.jpg (deflated 1%)\n",
            "  adding: content/images3/1165.jpg (deflated 2%)\n",
            "  adding: content/images3/617.jpg (deflated 1%)\n",
            "  adding: content/images3/882.jpg (deflated 0%)\n",
            "  adding: content/images3/534.jpg (deflated 2%)\n",
            "  adding: content/images3/106.jpg (deflated 0%)\n",
            "  adding: content/images3/372.jpg (deflated 0%)\n",
            "  adding: content/images3/345.jpg (deflated 1%)\n",
            "  adding: content/images3/356.jpg (deflated 0%)\n",
            "  adding: content/images3/1278.jpg (deflated 0%)\n",
            "  adding: content/images3/742.jpg (deflated 1%)\n",
            "  adding: content/images3/423.jpg (deflated 1%)\n",
            "  adding: content/images3/1005.jpg (deflated 1%)\n",
            "  adding: content/images3/1193.jpg (deflated 1%)\n",
            "  adding: content/images3/1014.jpg (deflated 1%)\n",
            "  adding: content/images3/547.jpg (deflated 0%)\n",
            "  adding: content/images3/193.jpg (deflated 2%)\n",
            "  adding: content/images3/586.jpg (deflated 4%)\n",
            "  adding: content/images3/747.jpg (deflated 1%)\n",
            "  adding: content/images3/1257.jpg (deflated 0%)\n",
            "  adding: content/images3/222.jpg (deflated 0%)\n",
            "  adding: content/images3/212.jpg (deflated 1%)\n",
            "  adding: content/images3/1020.jpg (deflated 1%)\n",
            "  adding: content/images3/1040.jpg (deflated 1%)\n",
            "  adding: content/images3/1371.jpg (deflated 4%)\n",
            "  adding: content/images3/605.jpg (deflated 1%)\n",
            "  adding: content/images3/1338.jpg (deflated 0%)\n",
            "  adding: content/images3/849.jpg (deflated 1%)\n",
            "  adding: content/images3/757.jpg (deflated 2%)\n",
            "  adding: content/images3/911.jpg (deflated 0%)\n",
            "  adding: content/images3/1135.jpg (deflated 1%)\n",
            "  adding: content/images3/108.jpg (deflated 0%)\n",
            "  adding: content/images3/200.jpg (deflated 1%)\n",
            "  adding: content/images3/129.jpg (deflated 1%)\n",
            "  adding: content/images3/472.jpg (deflated 1%)\n",
            "  adding: content/images3/562.jpg (deflated 1%)\n",
            "  adding: content/images3/1033.jpg (deflated 0%)\n",
            "  adding: content/images3/705.jpg (deflated 0%)\n",
            "  adding: content/images3/1321.jpg (deflated 0%)\n",
            "  adding: content/images3/1099.jpg (deflated 2%)\n",
            "  adding: content/images3/1153.jpg (deflated 0%)\n",
            "  adding: content/images3/489.jpg (deflated 1%)\n",
            "  adding: content/images3/938.jpg (deflated 3%)\n",
            "  adding: content/images3/80.jpg (deflated 0%)\n",
            "  adding: content/images3/847.jpg (deflated 0%)\n",
            "  adding: content/images3/218.jpg (deflated 1%)\n",
            "  adding: content/images3/570.jpg (deflated 1%)\n",
            "  adding: content/images3/412.jpg (deflated 1%)\n",
            "  adding: content/images3/1382.jpg (deflated 0%)\n",
            "  adding: content/images3/932.jpg (deflated 0%)\n",
            "  adding: content/images3/652.jpg (deflated 2%)\n",
            "  adding: content/images3/623.jpg (deflated 0%)\n",
            "  adding: content/images3/387.jpg (deflated 3%)\n",
            "  adding: content/images3/536.jpg (deflated 2%)\n",
            "  adding: content/images3/783.jpg (deflated 2%)\n",
            "  adding: content/images3/373.jpg (deflated 1%)\n",
            "  adding: content/images3/904.jpg (deflated 1%)\n",
            "  adding: content/images3/1121.jpg (deflated 1%)\n",
            "  adding: content/images3/1151.jpg (deflated 1%)\n",
            "  adding: content/images3/150.jpg (deflated 0%)\n",
            "  adding: content/images3/1252.jpg (deflated 1%)\n",
            "  adding: content/images3/416.jpg (deflated 7%)\n",
            "  adding: content/images3/1259.jpg (deflated 1%)\n",
            "  adding: content/images3/709.jpg (deflated 1%)\n",
            "  adding: content/images3/85.jpg (deflated 0%)\n",
            "  adding: content/images3/462.jpg (deflated 0%)\n",
            "  adding: content/images3/8.jpg (deflated 2%)\n",
            "  adding: content/images3/583.jpg (deflated 0%)\n",
            "  adding: content/images3/156.jpg (deflated 1%)\n",
            "  adding: content/images3/1372.jpg (deflated 0%)\n",
            "  adding: content/images3/960.jpg (deflated 1%)\n",
            "  adding: content/images3/1194.jpg (deflated 1%)\n",
            "  adding: content/images3/91.jpg (deflated 0%)\n",
            "  adding: content/images3/745.jpg (deflated 0%)\n",
            "  adding: content/images3/1082.jpg (deflated 1%)\n",
            "  adding: content/images3/581.jpg (deflated 2%)\n",
            "  adding: content/images3/130.jpg (deflated 1%)\n",
            "  adding: content/images3/950.jpg (deflated 0%)\n",
            "  adding: content/images3/934.jpg (deflated 0%)\n",
            "  adding: content/images3/168.jpg (deflated 0%)\n",
            "  adding: content/images3/275.jpg (deflated 1%)\n",
            "  adding: content/images3/676.jpg (deflated 2%)\n",
            "  adding: content/images3/233.jpg (deflated 1%)\n",
            "  adding: content/images3/1144.jpg (deflated 1%)\n",
            "  adding: content/images3/310.jpg (deflated 0%)\n",
            "  adding: content/images3/354.jpg (deflated 0%)\n",
            "  adding: content/images3/1012.jpg (deflated 1%)\n",
            "  adding: content/images3/510.jpg (deflated 3%)\n",
            "  adding: content/images3/352.jpg (deflated 5%)\n",
            "  adding: content/images3/1341.jpg (deflated 3%)\n",
            "  adding: content/images3/323.jpg (deflated 3%)\n",
            "  adding: content/images3/1229.jpg (deflated 0%)\n",
            "  adding: content/images3/286.jpg (deflated 0%)\n",
            "  adding: content/images3/1085.jpg (deflated 0%)\n",
            "  adding: content/images3/446.jpg (deflated 0%)\n",
            "  adding: content/images3/319.jpg (deflated 5%)\n",
            "  adding: content/images3/682.jpg (deflated 0%)\n",
            "  adding: content/images3/98.jpg (deflated 0%)\n",
            "  adding: content/images3/1362.jpg (deflated 2%)\n",
            "  adding: content/images3/1392.jpg (deflated 0%)\n",
            "  adding: content/images3/1078.jpg (deflated 1%)\n",
            "  adding: content/images3/92.jpg (deflated 0%)\n",
            "  adding: content/images3/1287.jpg (deflated 1%)\n",
            "  adding: content/images3/662.jpg (deflated 6%)\n",
            "  adding: content/images3/1201.jpg (deflated 0%)\n",
            "  adding: content/images3/976.jpg (deflated 0%)\n",
            "  adding: content/images3/1070.jpg (deflated 0%)\n",
            "  adding: content/images3/1091.jpg (deflated 2%)\n",
            "  adding: content/images3/877.jpg (deflated 0%)\n",
            "  adding: content/images3/216.jpg (deflated 0%)\n",
            "  adding: content/images3/1336.jpg (deflated 1%)\n",
            "  adding: content/images3/552.jpg (deflated 6%)\n",
            "  adding: content/images3/937.jpg (deflated 0%)\n",
            "  adding: content/images3/1128.jpg (deflated 0%)\n",
            "  adding: content/images3/190.jpg (deflated 1%)\n",
            "  adding: content/images3/845.jpg (deflated 0%)\n",
            "  adding: content/images3/720.jpg (deflated 2%)\n",
            "  adding: content/images3/481.jpg (deflated 1%)\n",
            "  adding: content/images3/487.jpg (deflated 2%)\n",
            "  adding: content/images3/206.jpg (deflated 3%)\n",
            "  adding: content/images3/543.jpg (deflated 4%)\n",
            "  adding: content/images3/76.jpg (deflated 0%)\n",
            "  adding: content/images3/342.jpg (deflated 1%)\n",
            "  adding: content/images3/794.jpg (deflated 1%)\n",
            "  adding: content/images3/740.jpg (deflated 0%)\n",
            "  adding: content/images3/1262.jpg (deflated 0%)\n",
            "  adding: content/images3/599.jpg (deflated 1%)\n",
            "  adding: content/images3/333.jpg (deflated 2%)\n",
            "  adding: content/images3/518.jpg (deflated 1%)\n",
            "  adding: content/images3/1177.jpg (deflated 1%)\n",
            "  adding: content/images3/1379.jpg (deflated 0%)\n",
            "  adding: content/images3/248.jpg (deflated 2%)\n",
            "  adding: content/images3/752.jpg (deflated 1%)\n",
            "  adding: content/images3/1267.jpg (deflated 1%)\n",
            "  adding: content/images3/101.jpg (deflated 0%)\n",
            "  adding: content/images3/1334.jpg (deflated 3%)\n",
            "  adding: content/images3/146.jpg (deflated 1%)\n",
            "  adding: content/images3/631.jpg (deflated 2%)\n",
            "  adding: content/images3/1022.jpg (deflated 0%)\n",
            "  adding: content/images3/121.jpg (deflated 5%)\n",
            "  adding: content/images3/254.jpg (deflated 4%)\n",
            "  adding: content/images3/1049.jpg (deflated 0%)\n",
            "  adding: content/images3/194.jpg (deflated 2%)\n",
            "  adding: content/images3/75.jpg (deflated 0%)\n",
            "  adding: content/images3/585.jpg (deflated 1%)\n",
            "  adding: content/images3/539.jpg (deflated 0%)\n",
            "  adding: content/images3/390.jpg (deflated 4%)\n",
            "  adding: content/images3/806.jpg (deflated 0%)\n",
            "  adding: content/images3/1031.jpg (deflated 0%)\n",
            "  adding: content/images3/885.jpg (deflated 0%)\n",
            "  adding: content/images3/490.jpg (deflated 1%)\n",
            "  adding: content/images3/434.jpg (deflated 0%)\n",
            "  adding: content/images3/318.jpg (deflated 1%)\n",
            "  adding: content/images3/625.jpg (deflated 1%)\n",
            "  adding: content/images3/1038.jpg (deflated 3%)\n",
            "  adding: content/images3/992.jpg (deflated 1%)\n",
            "  adding: content/images3/1013.jpg (deflated 1%)\n",
            "  adding: content/images3/158.jpg (deflated 0%)\n",
            "  adding: content/images3/815.jpg (deflated 2%)\n",
            "  adding: content/images3/643.jpg (deflated 1%)\n",
            "  adding: content/images3/1161.jpg (deflated 0%)\n",
            "  adding: content/images3/1001.jpg (deflated 1%)\n",
            "  adding: content/images3/307.jpg (deflated 4%)\n",
            "  adding: content/images3/1093.jpg (deflated 0%)\n",
            "  adding: content/images3/243.jpg (deflated 2%)\n",
            "  adding: content/images3/250.jpg (deflated 2%)\n",
            "  adding: content/images3/761.jpg (deflated 1%)\n",
            "  adding: content/images3/96.jpg (deflated 2%)\n",
            "  adding: content/images3/703.jpg (deflated 5%)\n",
            "  adding: content/images3/566.jpg (deflated 4%)\n",
            "  adding: content/images3/464.jpg (deflated 4%)\n",
            "  adding: content/images3/266.jpg (deflated 1%)\n",
            "  adding: content/images3/1296.jpg (deflated 0%)\n",
            "  adding: content/images3/723.jpg (deflated 1%)\n",
            "  adding: content/images3/1133.jpg (deflated 0%)\n",
            "  adding: content/images3/731.jpg (deflated 1%)\n",
            "  adding: content/images3/36.jpg (deflated 1%)\n",
            "  adding: content/images3/1142.jpg (deflated 0%)\n",
            "  adding: content/images3/906.jpg (deflated 1%)\n",
            "  adding: content/images3/893.jpg (deflated 0%)\n",
            "  adding: content/images3/199.jpg (deflated 1%)\n",
            "  adding: content/images3/99.jpg (deflated 3%)\n",
            "  adding: content/images3/335.jpg (deflated 4%)\n",
            "  adding: content/images3/537.jpg (deflated 0%)\n",
            "  adding: content/images3/138.jpg (deflated 2%)\n",
            "  adding: content/images3/713.jpg (deflated 0%)\n",
            "  adding: content/images3/54.jpg (deflated 2%)\n",
            "  adding: content/images3/671.jpg (deflated 1%)\n",
            "  adding: content/images3/145.jpg (deflated 3%)\n",
            "  adding: content/images3/692.jpg (deflated 1%)\n",
            "  adding: content/images3/498.jpg (deflated 0%)\n",
            "  adding: content/images3/339.jpg (deflated 0%)\n",
            "  adding: content/images3/594.jpg (deflated 1%)\n",
            "  adding: content/images3/343.jpg (deflated 0%)\n",
            "  adding: content/images3/154.jpg (deflated 1%)\n",
            "  adding: content/images3/247.jpg (deflated 4%)\n",
            "  adding: content/images3/393.jpg (deflated 0%)\n",
            "  adding: content/images3/1127.jpg (deflated 3%)\n",
            "  adding: content/images3/979.jpg (deflated 1%)\n",
            "  adding: content/images3/198.jpg (deflated 1%)\n",
            "  adding: content/images3/548.jpg (deflated 2%)\n",
            "  adding: content/images3/1056.jpg (deflated 4%)\n",
            "  adding: content/images3/48.jpg (deflated 1%)\n",
            "  adding: content/images3/409.jpg (deflated 2%)\n",
            "  adding: content/images3/659.jpg (deflated 0%)\n",
            "  adding: content/images3/756.jpg (deflated 0%)\n",
            "  adding: content/images3/840.jpg (deflated 1%)\n",
            "  adding: content/images3/120.jpg (deflated 5%)\n",
            "  adding: content/images3/1116.jpg (deflated 2%)\n",
            "  adding: content/images3/1129.jpg (deflated 1%)\n",
            "  adding: content/images3/1225.jpg (deflated 0%)\n",
            "  adding: content/images3/29.jpg (deflated 1%)\n",
            "  adding: content/images3/1110.jpg (deflated 1%)\n",
            "  adding: content/images3/185.jpg (deflated 1%)\n",
            "  adding: content/images3/478.jpg (deflated 2%)\n",
            "  adding: content/images3/79.jpg (deflated 0%)\n",
            "  adding: content/images3/167.jpg (deflated 3%)\n",
            "  adding: content/images3/330.jpg (deflated 0%)\n",
            "  adding: content/images3/975.jpg (deflated 0%)\n",
            "  adding: content/images3/513.jpg (deflated 2%)\n",
            "  adding: content/images3/1298.jpg (deflated 0%)\n",
            "  adding: content/images3/1124.jpg (deflated 0%)\n",
            "  adding: content/images3/818.jpg (deflated 1%)\n",
            "  adding: content/images3/1198.jpg (deflated 0%)\n",
            "  adding: content/images3/789.jpg (deflated 2%)\n",
            "  adding: content/images3/1170.jpg (deflated 0%)\n",
            "  adding: content/images3/251.jpg (deflated 1%)\n",
            "  adding: content/images3/152.jpg (deflated 3%)\n",
            "  adding: content/images3/754.jpg (deflated 1%)\n",
            "  adding: content/images3/245.jpg (deflated 0%)\n",
            "  adding: content/images3/422.jpg (deflated 2%)\n",
            "  adding: content/images3/620.jpg (deflated 5%)\n",
            "  adding: content/images3/315.jpg (deflated 0%)\n",
            "  adding: content/images3/93.jpg (deflated 0%)\n",
            "  adding: content/images3/308.jpg (deflated 2%)\n",
            "  adding: content/images3/1120.jpg (deflated 1%)\n",
            "  adding: content/images3/235.jpg (deflated 3%)\n",
            "  adding: content/images3/488.jpg (deflated 6%)\n",
            "  adding: content/images3/1156.jpg (deflated 0%)\n",
            "  adding: content/images3/1324.jpg (deflated 1%)\n",
            "  adding: content/images3/602.jpg (deflated 8%)\n",
            "  adding: content/images3/1032.jpg (deflated 2%)\n",
            "  adding: content/images3/524.jpg (deflated 0%)\n",
            "  adding: content/images3/535.jpg (deflated 3%)\n",
            "  adding: content/images3/392.jpg (deflated 1%)\n",
            "  adding: content/images3/176.jpg (deflated 1%)\n",
            "  adding: content/images3/648.jpg (deflated 0%)\n",
            "  adding: content/images3/1263.jpg (deflated 0%)\n",
            "  adding: content/images3/257.jpg (deflated 2%)\n",
            "  adding: content/images3/589.jpg (deflated 2%)\n",
            "  adding: content/images3/994.jpg (deflated 0%)\n",
            "  adding: content/images3/799.jpg (deflated 0%)\n",
            "  adding: content/images3/779.jpg (deflated 1%)\n",
            "  adding: content/images3/700.jpg (deflated 0%)\n",
            "  adding: content/images3/384.jpg (deflated 1%)\n",
            "  adding: content/images3/1163.jpg (deflated 1%)\n",
            "  adding: content/images3/853.jpg (deflated 3%)\n",
            "  adding: content/images3/1339.jpg (deflated 0%)\n",
            "  adding: content/images3/383.jpg (deflated 1%)\n",
            "  adding: content/images3/473.jpg (deflated 0%)\n",
            "  adding: content/images3/113.jpg (deflated 2%)\n",
            "  adding: content/images3/468.jpg (deflated 1%)\n",
            "  adding: content/images3/87.jpg (deflated 2%)\n",
            "  adding: content/images3/502.jpg (deflated 2%)\n",
            "  adding: content/images3/990.jpg (deflated 0%)\n",
            "  adding: content/images3/910.jpg (deflated 0%)\n",
            "  adding: content/images3/916.jpg (deflated 7%)\n",
            "  adding: content/images3/301.jpg (deflated 1%)\n",
            "  adding: content/images3/998.jpg (deflated 1%)\n",
            "  adding: content/images3/1317.jpg (deflated 0%)\n",
            "  adding: content/images3/856.jpg (deflated 2%)\n",
            "  adding: content/images3/123.jpg (deflated 1%)\n",
            "  adding: content/images3/1088.jpg (deflated 0%)\n",
            "  adding: content/images3/790.jpg (deflated 2%)\n",
            "  adding: content/images3/1048.jpg (deflated 1%)\n",
            "  adding: content/images3/538.jpg (deflated 0%)\n",
            "  adding: content/images3/517.jpg (deflated 0%)\n",
            "  adding: content/images3/1.jpg (deflated 0%)\n",
            "  adding: content/images3/612.jpg (deflated 1%)\n",
            "  adding: content/images3/1102.jpg (deflated 3%)\n",
            "  adding: content/images3/1149.jpg (deflated 1%)\n",
            "  adding: content/images3/830.jpg (deflated 0%)\n",
            "  adding: content/images3/1342.jpg (deflated 3%)\n",
            "  adding: content/images3/615.jpg (deflated 1%)\n",
            "  adding: content/images3/1247.jpg (deflated 0%)\n",
            "  adding: content/images3/57.jpg (deflated 3%)\n",
            "  adding: content/images3/291.jpg (deflated 5%)\n",
            "  adding: content/images3/68.jpg (deflated 1%)\n",
            "  adding: content/images3/197.jpg (deflated 6%)\n",
            "  adding: content/images3/179.jpg (deflated 5%)\n",
            "  adding: content/images3/800.jpg (deflated 2%)\n",
            "  adding: content/images3/501.jpg (deflated 0%)\n",
            "  adding: content/images3/871.jpg (deflated 8%)\n",
            "  adding: content/images3/1364.jpg (deflated 1%)\n",
            "  adding: content/images3/1302.jpg (deflated 1%)\n",
            "  adding: content/images3/77.jpg (deflated 1%)\n",
            "  adding: content/images3/616.jpg (deflated 1%)\n",
            "  adding: content/images3/1090.jpg (deflated 0%)\n",
            "  adding: content/images3/1266.jpg (deflated 1%)\n",
            "  adding: content/images3/776.jpg (deflated 2%)\n",
            "  adding: content/images3/28.jpg (deflated 1%)\n",
            "  adding: content/images3/449.jpg (deflated 7%)\n",
            "  adding: content/images3/895.jpg (deflated 4%)\n",
            "  adding: content/images3/172.jpg (deflated 0%)\n",
            "  adding: content/images3/948.jpg (deflated 2%)\n",
            "  adding: content/images3/41.jpg (deflated 3%)\n",
            "  adding: content/images3/419.jpg (deflated 1%)\n",
            "  adding: content/images3/1256.jpg (deflated 1%)\n",
            "  adding: content/images3/162.jpg (deflated 1%)\n",
            "  adding: content/images3/38.jpg (deflated 1%)\n",
            "  adding: content/images3/484.jpg (deflated 0%)\n",
            "  adding: content/images3/1264.jpg (deflated 1%)\n",
            "  adding: content/images3/527.jpg (deflated 2%)\n",
            "  adding: content/images3/1356.jpg (deflated 0%)\n",
            "  adding: content/images3/587.jpg (deflated 2%)\n",
            "  adding: content/images3/796.jpg (deflated 0%)\n",
            "  adding: content/images3/483.jpg (deflated 1%)\n",
            "  adding: content/images3/475.jpg (deflated 5%)\n",
            "  adding: content/images3/366.jpg (deflated 2%)\n",
            "  adding: content/images3/551.jpg (deflated 4%)\n",
            "  adding: content/images3/827.jpg (deflated 0%)\n",
            "  adding: content/images3/763.jpg (deflated 0%)\n",
            "  adding: content/images3/928.jpg (deflated 2%)\n",
            "  adding: content/images3/204.jpg (deflated 8%)\n",
            "  adding: content/images3/544.jpg (deflated 1%)\n",
            "  adding: content/images3/348.jpg (deflated 1%)\n",
            "  adding: content/images3/267.jpg (deflated 4%)\n",
            "  adding: content/images3/770.jpg (deflated 0%)\n",
            "  adding: content/images3/1312.jpg (deflated 0%)\n",
            "  adding: content/images3/1052.jpg (deflated 9%)\n",
            "  adding: content/images3/841.jpg (deflated 1%)\n",
            "  adding: content/images3/340.jpg (deflated 1%)\n",
            "  adding: content/images3/949.jpg (deflated 1%)\n",
            "  adding: content/images3/371.jpg (deflated 2%)\n",
            "  adding: content/images3/1010.jpg (deflated 5%)\n",
            "  adding: content/images3/738.jpg (deflated 0%)\n",
            "  adding: content/images3/626.jpg (deflated 1%)\n",
            "  adding: content/images3/899.jpg (deflated 3%)\n",
            "  adding: content/images3/812.jpg (deflated 5%)\n",
            "  adding: content/images3/295.jpg (deflated 1%)\n",
            "  adding: content/images3/132.jpg (deflated 0%)\n",
            "  adding: content/images3/759.jpg (deflated 4%)\n",
            "  adding: content/images3/221.jpg (deflated 0%)\n",
            "  adding: content/images3/521.jpg (deflated 1%)\n",
            "  adding: content/images3/737.jpg (deflated 0%)\n",
            "  adding: content/images3/1169.jpg (deflated 0%)\n",
            "  adding: content/images3/1006.jpg (deflated 0%)\n",
            "  adding: content/images3/1100.jpg (deflated 1%)\n",
            "  adding: content/images3/492.jpg (deflated 5%)\n",
            "  adding: content/images3/968.jpg (deflated 1%)\n",
            "  adding: content/images3/1294.jpg (deflated 5%)\n",
            "  adding: content/images3/1357.jpg (deflated 1%)\n",
            "  adding: content/images3/732.jpg (deflated 1%)\n",
            "  adding: content/images3/930.jpg (deflated 0%)\n",
            "  adding: content/images3/1232.jpg (deflated 1%)\n",
            "  adding: content/images3/1246.jpg (deflated 0%)\n",
            "  adding: content/images3/991.jpg (deflated 1%)\n",
            "  adding: content/images3/984.jpg (deflated 1%)\n",
            "  adding: content/images3/1355.jpg (deflated 2%)\n",
            "  adding: content/images3/878.jpg (deflated 0%)\n",
            "  adding: content/images3/1137.jpg (deflated 1%)\n",
            "  adding: content/images3/328.jpg (deflated 0%)\n",
            "  adding: content/images3/823.jpg (deflated 0%)\n",
            "  adding: content/images3/1154.jpg (deflated 1%)\n",
            "  adding: content/images3/903.jpg (deflated 7%)\n",
            "  adding: content/images3/69.jpg (deflated 1%)\n",
            "  adding: content/images3/1095.jpg (deflated 1%)\n",
            "  adding: content/images3/1175.jpg (deflated 1%)\n",
            "  adding: content/images3/647.jpg (deflated 1%)\n",
            "  adding: content/images3/309.jpg (deflated 0%)\n",
            "  adding: content/images3/63.jpg (deflated 1%)\n",
            "  adding: content/images3/461.jpg (deflated 7%)\n",
            "  adding: content/images3/610.jpg (deflated 0%)\n",
            "  adding: content/images3/282.jpg (deflated 0%)\n",
            "  adding: content/images3/0.jpg (deflated 0%)\n",
            "  adding: content/images3/232.jpg (deflated 2%)\n",
            "  adding: content/images3/896.jpg (deflated 1%)\n",
            "  adding: content/images3/673.jpg (deflated 0%)\n",
            "  adding: content/images3/965.jpg (deflated 0%)\n",
            "  adding: content/images3/296.jpg (deflated 0%)\n",
            "  adding: content/images3/959.jpg (deflated 1%)\n",
            "  adding: content/images3/716.jpg (deflated 1%)\n",
            "  adding: content/images3/833.jpg (deflated 4%)\n",
            "  adding: content/images3/1096.jpg (deflated 1%)\n",
            "  adding: content/images3/565.jpg (deflated 1%)\n",
            "  adding: content/images3/165.jpg (deflated 0%)\n",
            "  adding: content/images3/269.jpg (deflated 0%)\n",
            "  adding: content/images3/839.jpg (deflated 6%)\n",
            "  adding: content/images3/876.jpg (deflated 1%)\n",
            "  adding: content/images3/666.jpg (deflated 4%)\n",
            "  adding: content/images3/1300.jpg (deflated 1%)\n",
            "  adding: content/images3/1348.jpg (deflated 0%)\n",
            "  adding: content/images3/603.jpg (deflated 0%)\n",
            "  adding: content/images3/941.jpg (deflated 0%)\n",
            "  adding: content/images3/772.jpg (deflated 1%)\n",
            "  adding: content/images3/27.jpg (deflated 4%)\n",
            "  adding: content/images3/929.jpg (deflated 0%)\n",
            "  adding: content/images3/237.jpg (deflated 2%)\n",
            "  adding: content/images3/439.jpg (deflated 1%)\n",
            "  adding: content/images3/861.jpg (deflated 0%)\n",
            "  adding: content/images3/765.jpg (deflated 0%)\n",
            "  adding: content/images3/1083.jpg (deflated 0%)\n",
            "  adding: content/images3/667.jpg (deflated 1%)\n",
            "  adding: content/images3/1089.jpg (deflated 3%)\n",
            "  adding: content/images3/12.jpg (deflated 1%)\n",
            "  adding: content/images3/188.jpg (deflated 1%)\n",
            "  adding: content/images3/778.jpg (deflated 0%)\n",
            "  adding: content/images3/260.jpg (deflated 1%)\n",
            "  adding: content/images3/169.jpg (deflated 0%)\n",
            "  adding: content/images3/1203.jpg (deflated 1%)\n",
            "  adding: content/images3/1025.jpg (deflated 0%)\n",
            "  adding: content/images3/1241.jpg (deflated 0%)\n",
            "  adding: content/images3/1076.jpg (deflated 1%)\n",
            "  adding: content/images3/1228.jpg (deflated 0%)\n",
            "  adding: content/images3/1310.jpg (deflated 0%)\n",
            "  adding: content/images3/1146.jpg (deflated 1%)\n",
            "  adding: content/images3/768.jpg (deflated 0%)\n",
            "  adding: content/images3/855.jpg (deflated 1%)\n",
            "  adding: content/images3/84.jpg (deflated 1%)\n",
            "  adding: content/images3/714.jpg (deflated 0%)\n",
            "  adding: content/images3/686.jpg (deflated 1%)\n",
            "  adding: content/images3/242.jpg (deflated 1%)\n",
            "  adding: content/images3/1195.jpg (deflated 2%)\n",
            "  adding: content/images3/748.jpg (deflated 2%)\n",
            "  adding: content/images3/1271.jpg (deflated 0%)\n",
            "  adding: content/images3/1143.jpg (deflated 3%)\n",
            "  adding: content/images3/253.jpg (deflated 2%)\n",
            "  adding: content/images3/842.jpg (deflated 0%)\n",
            "  adding: content/images3/407.jpg (deflated 1%)\n",
            "  adding: content/images3/346.jpg (deflated 1%)\n",
            "  adding: content/images3/1223.jpg (deflated 2%)\n",
            "  adding: content/images3/117.jpg (deflated 1%)\n",
            "  adding: content/images3/639.jpg (deflated 1%)\n",
            "  adding: content/images3/802.jpg (deflated 1%)\n",
            "  adding: content/images3/977.jpg (deflated 0%)\n",
            "  adding: content/images3/208.jpg (deflated 0%)\n",
            "  adding: content/images3/576.jpg (deflated 2%)\n",
            "  adding: content/images3/1039.jpg (deflated 2%)\n",
            "  adding: content/images3/923.jpg (deflated 2%)\n",
            "  adding: content/images3/1286.jpg (deflated 2%)\n",
            "  adding: content/images3/432.jpg (deflated 0%)\n",
            "  adding: content/images3/16.jpg (deflated 2%)\n",
            "  adding: content/images3/95.jpg (deflated 4%)\n",
            "  adding: content/images3/1218.jpg (deflated 1%)\n",
            "  adding: content/images3/1019.jpg (deflated 0%)\n",
            "  adding: content/images3/1323.jpg (deflated 2%)\n",
            "  adding: content/images3/471.jpg (deflated 4%)\n",
            "  adding: content/images3/897.jpg (deflated 1%)\n",
            "  adding: content/images3/892.jpg (deflated 0%)\n",
            "  adding: content/images3/174.jpg (deflated 2%)\n",
            "  adding: content/images3/35.jpg (deflated 1%)\n",
            "  adding: content/images3/40.jpg (deflated 0%)\n",
            "  adding: content/images3/1199.jpg (deflated 1%)\n",
            "  adding: content/images3/58.jpg (deflated 0%)\n",
            "  adding: content/images3/1030.jpg (deflated 1%)\n",
            "  adding: content/images3/297.jpg (deflated 0%)\n",
            "  adding: content/images3/293.jpg (deflated 1%)\n",
            "  adding: content/images3/37.jpg (deflated 4%)\n",
            "  adding: content/images3/148.jpg (deflated 1%)\n",
            "  adding: content/images3/1251.jpg (deflated 0%)\n",
            "  adding: content/images3/515.jpg (deflated 1%)\n",
            "  adding: content/images3/526.jpg (deflated 1%)\n",
            "  adding: content/images3/83.jpg (deflated 0%)\n",
            "  adding: content/images3/669.jpg (deflated 2%)\n",
            "  adding: content/images3/163.jpg (deflated 6%)\n",
            "  adding: content/images3/62.jpg (deflated 5%)\n",
            "  adding: content/images3/1346.jpg (deflated 2%)\n",
            "  adding: content/images3/1351.jpg (deflated 1%)\n",
            "  adding: content/images3/278.jpg (deflated 1%)\n",
            "  adding: content/images3/795.jpg (deflated 3%)\n",
            "  adding: content/images3/452.jpg (deflated 0%)\n",
            "  adding: content/images3/966.jpg (deflated 0%)\n",
            "  adding: content/images3/1084.jpg (deflated 2%)\n",
            "  adding: content/images3/272.jpg (deflated 3%)\n",
            "  adding: content/images3/166.jpg (deflated 2%)\n",
            "  adding: content/images3/824.jpg (deflated 2%)\n",
            "  adding: content/images3/556.jpg (deflated 2%)\n",
            "  adding: content/images3/953.jpg (deflated 0%)\n",
            "  adding: content/images3/947.jpg (deflated 2%)\n",
            "  adding: content/images3/1309.jpg (deflated 5%)\n",
            "  adding: content/images3/277.jpg (deflated 5%)\n",
            "  adding: content/images3/1026.jpg (deflated 1%)\n",
            "  adding: content/images3/1212.jpg (deflated 0%)\n",
            "  adding: content/images3/357.jpg (deflated 1%)\n",
            "  adding: content/images3/694.jpg (deflated 1%)\n",
            "  adding: content/images3/858.jpg (deflated 0%)\n",
            "  adding: content/images3/1210.jpg (deflated 1%)\n",
            "  adding: content/images3/1023.jpg (deflated 0%)\n",
            "  adding: content/images3/1363.jpg (deflated 0%)\n",
            "  adding: content/images3/436.jpg (deflated 0%)\n",
            "  adding: content/images3/889.jpg (deflated 0%)\n",
            "  adding: content/images3/907.jpg (deflated 3%)\n",
            "  adding: content/images3/255.jpg (deflated 2%)\n",
            "  adding: content/images3/607.jpg (deflated 0%)\n",
            "  adding: content/images3/604.jpg (deflated 1%)\n",
            "  adding: content/images3/1328.jpg (deflated 2%)\n",
            "  adding: content/images3/880.jpg (deflated 0%)\n",
            "  adding: content/images3/122.jpg (deflated 6%)\n",
            "  adding: content/images3/444.jpg (deflated 3%)\n",
            "  adding: content/images3/821.jpg (deflated 0%)\n",
            "  adding: content/images3/786.jpg (deflated 0%)\n",
            "  adding: content/images3/1189.jpg (deflated 0%)\n",
            "  adding: content/images3/655.jpg (deflated 1%)\n",
            "  adding: content/images3/4.jpg (deflated 2%)\n",
            "  adding: content/images3/228.jpg (deflated 0%)\n",
            "  adding: content/images3/454.jpg (deflated 0%)\n",
            "  adding: content/images3/31.jpg (deflated 1%)\n",
            "  adding: content/images3/1318.jpg (deflated 1%)\n",
            "  adding: content/images3/440.jpg (deflated 3%)\n",
            "  adding: content/images3/927.jpg (deflated 0%)\n",
            "  adding: content/images3/1369.jpg (deflated 3%)\n",
            "  adding: content/images3/661.jpg (deflated 0%)\n",
            "  adding: content/images3/347.jpg (deflated 7%)\n",
            "  adding: content/images3/918.jpg (deflated 2%)\n",
            "  adding: content/images3/1184.jpg (deflated 2%)\n",
            "  adding: content/images3/351.jpg (deflated 1%)\n",
            "  adding: content/images3/1079.jpg (deflated 0%)\n",
            "  adding: content/images3/814.jpg (deflated 0%)\n",
            "  adding: content/images3/1024.jpg (deflated 0%)\n",
            "  adding: content/images3/364.jpg (deflated 4%)\n",
            "  adding: content/images3/1002.jpg (deflated 1%)\n",
            "  adding: content/images3/136.jpg (deflated 0%)\n",
            "  adding: content/images3/467.jpg (deflated 2%)\n",
            "  adding: content/images3/263.jpg (deflated 3%)\n",
            "  adding: content/images3/223.jpg (deflated 1%)\n",
            "  adding: content/images3/271.jpg (deflated 3%)\n",
            "  adding: content/images3/1035.jpg (deflated 0%)\n",
            "  adding: content/images3/236.jpg (deflated 1%)\n",
            "  adding: content/images3/1258.jpg (deflated 0%)\n",
            "  adding: content/images3/1358.jpg (deflated 3%)\n",
            "  adding: content/images3/766.jpg (deflated 0%)\n",
            "  adding: content/images3/97.jpg (deflated 0%)\n",
            "  adding: content/images3/1062.jpg (deflated 2%)\n",
            "  adding: content/images3/311.jpg (deflated 2%)\n",
            "  adding: content/images3/1368.jpg (deflated 4%)\n",
            "  adding: content/images3/946.jpg (deflated 1%)\n",
            "  adding: content/images3/368.jpg (deflated 0%)\n",
            "  adding: content/images3/915.jpg (deflated 0%)\n",
            "  adding: content/images3/1117.jpg (deflated 0%)\n",
            "  adding: content/images3/493.jpg (deflated 0%)\n",
            "  adding: content/images3/494.jpg (deflated 1%)\n",
            "  adding: content/images3/445.jpg (deflated 3%)\n",
            "  adding: content/images3/9.jpg (deflated 2%)\n",
            "  adding: content/images3/1060.jpg (deflated 0%)\n",
            "  adding: content/images3/685.jpg (deflated 1%)\n",
            "  adding: content/images3/1301.jpg (deflated 1%)\n",
            "  adding: content/images3/554.jpg (deflated 2%)\n",
            "  adding: content/images3/39.jpg (deflated 1%)\n",
            "  adding: content/images3/571.jpg (deflated 0%)\n",
            "  adding: content/images3/817.jpg (deflated 6%)\n",
            "  adding: content/images3/900.jpg (deflated 3%)\n",
            "  adding: content/images3/688.jpg (deflated 0%)\n",
            "  adding: content/images3/298.jpg (deflated 0%)\n",
            "  adding: content/images3/1222.jpg (deflated 5%)\n",
            "  adding: content/images3/1381.jpg (deflated 0%)\n",
            "  adding: content/images3/1254.jpg (deflated 2%)\n",
            "  adding: content/images3/850.jpg (deflated 1%)\n",
            "  adding: content/images3/660.jpg (deflated 1%)\n",
            "  adding: content/images3/653.jpg (deflated 6%)\n",
            "  adding: content/images3/261.jpg (deflated 1%)\n",
            "  adding: content/images3/1366.jpg (deflated 0%)\n",
            "  adding: content/images3/1233.jpg (deflated 2%)\n",
            "  adding: content/images3/288.jpg (deflated 0%)\n",
            "  adding: content/images3/1053.jpg (deflated 2%)\n",
            "  adding: content/images3/555.jpg (deflated 1%)\n",
            "  adding: content/images3/1072.jpg (deflated 0%)\n",
            "  adding: content/images3/1115.jpg (deflated 1%)\n",
            "  adding: content/images3/919.jpg (deflated 1%)\n",
            "  adding: content/images3/273.jpg (deflated 1%)\n",
            "  adding: content/images3/1112.jpg (deflated 2%)\n",
            "  adding: content/images3/401.jpg (deflated 0%)\n",
            "  adding: content/images3/397.jpg (deflated 3%)\n",
            "  adding: content/images3/1054.jpg (deflated 1%)\n",
            "  adding: content/images3/141.jpg (deflated 0%)\n",
            "  adding: content/images3/1288.jpg (deflated 2%)\n",
            "  adding: content/images3/15.jpg (deflated 2%)\n",
            "  adding: content/images3/846.jpg (deflated 2%)\n",
            "  adding: content/images3/1285.jpg (deflated 0%)\n",
            "  adding: content/images3/427.jpg (deflated 1%)\n",
            "  adding: content/images3/105.jpg (deflated 0%)\n",
            "  adding: content/images3/433.jpg (deflated 6%)\n",
            "  adding: content/images3/1105.jpg (deflated 0%)\n",
            "  adding: content/images3/664.jpg (deflated 0%)\n",
            "  adding: content/images3/367.jpg (deflated 1%)\n",
            "  adding: content/images3/758.jpg (deflated 0%)\n",
            "  adding: content/images3/679.jpg (deflated 0%)\n",
            "  adding: content/images3/658.jpg (deflated 1%)\n",
            "  adding: content/images3/1390.jpg (deflated 0%)\n",
            "  adding: content/images3/480.jpg (deflated 2%)\n",
            "  adding: content/images3/219.jpg (deflated 0%)\n",
            "  adding: content/images3/886.jpg (deflated 0%)\n",
            "  adding: content/images3/418.jpg (deflated 1%)\n",
            "  adding: content/images3/580.jpg (deflated 1%)\n",
            "  adding: content/images3/1389.jpg (deflated 1%)\n",
            "  adding: content/images3/773.jpg (deflated 3%)\n",
            "  adding: content/images3/1204.jpg (deflated 1%)\n",
            "  adding: content/images3/1208.jpg (deflated 1%)\n",
            "  adding: content/images3/549.jpg (deflated 0%)\n",
            "  adding: content/images3/50.jpg (deflated 2%)\n",
            "  adding: content/images3/1103.jpg (deflated 1%)\n",
            "  adding: content/images3/476.jpg (deflated 1%)\n",
            "  adding: content/images3/425.jpg (deflated 1%)\n",
            "  adding: content/images3/499.jpg (deflated 1%)\n",
            "  adding: content/images3/102.jpg (deflated 1%)\n",
            "  adding: content/images3/514.jpg (deflated 6%)\n",
            "  adding: content/images3/663.jpg (deflated 1%)\n",
            "  adding: content/images3/201.jpg (deflated 1%)\n",
            "  adding: content/images3/1118.jpg (deflated 1%)\n",
            "  adding: content/images3/334.jpg (deflated 3%)\n",
            "  adding: content/images3/689.jpg (deflated 2%)\n",
            "  adding: content/images3/1009.jpg (deflated 1%)\n",
            "  adding: content/images3/1314.jpg (deflated 1%)\n",
            "  adding: content/images3/1260.jpg (deflated 0%)\n",
            "  adding: content/images3/857.jpg (deflated 0%)\n",
            "  adding: content/images3/1375.jpg (deflated 3%)\n",
            "  adding: content/images3/322.jpg (deflated 2%)\n",
            "  adding: content/images3/1270.jpg (deflated 1%)\n",
            "  adding: content/images3/1235.jpg (deflated 2%)\n",
            "  adding: content/images3/344.jpg (deflated 9%)\n",
            "  adding: content/images3/1289.jpg (deflated 2%)\n",
            "  adding: content/images3/1387.jpg (deflated 1%)\n",
            "  adding: content/images3/531.jpg (deflated 1%)\n",
            "  adding: content/images3/377.jpg (deflated 1%)\n",
            "  adding: content/images3/825.jpg (deflated 1%)\n",
            "  adding: content/images3/753.jpg (deflated 2%)\n",
            "  adding: content/images3/614.jpg (deflated 0%)\n",
            "  adding: content/images3/1130.jpg (deflated 2%)\n",
            "  adding: content/images3/107.jpg (deflated 2%)\n",
            "  adding: content/images3/361.jpg (deflated 1%)\n",
            "  adding: content/images3/135.jpg (deflated 2%)\n",
            "  adding: content/images3/1293.jpg (deflated 0%)\n",
            "  adding: content/images3/1147.jpg (deflated 3%)\n",
            "  adding: content/images3/139.jpg (deflated 2%)\n",
            "  adding: content/images3/329.jpg (deflated 1%)\n",
            "  adding: content/images3/561.jpg (deflated 0%)\n",
            "  adding: content/images3/53.jpg (deflated 0%)\n",
            "  adding: content/images3/1152.jpg (deflated 0%)\n",
            "  adding: content/images3/736.jpg (deflated 0%)\n",
            "  adding: content/images3/115.jpg (deflated 2%)\n",
            "  adding: content/images3/872.jpg (deflated 7%)\n",
            "  adding: content/images3/1000.jpg (deflated 1%)\n",
            "  adding: content/images3/1172.jpg (deflated 6%)\n",
            "  adding: content/images3/1276.jpg (deflated 1%)\n",
            "  adding: content/images3/294.jpg (deflated 4%)\n",
            "  adding: content/images3/55.jpg (deflated 0%)\n",
            "  adding: content/images3/933.jpg (deflated 0%)\n",
            "  adding: content/images3/1015.jpg (deflated 1%)\n",
            "  adding: content/images3/591.jpg (deflated 1%)\n",
            "  adding: content/images3/678.jpg (deflated 0%)\n",
            "  adding: content/images3/606.jpg (deflated 1%)\n",
            "  adding: content/images3/954.jpg (deflated 0%)\n",
            "  adding: content/images3/155.jpg (deflated 0%)\n",
            "  adding: content/images3/1073.jpg (deflated 0%)\n",
            "  adding: content/images3/727.jpg (deflated 1%)\n",
            "  adding: content/images3/1178.jpg (deflated 0%)\n",
            "  adding: content/images3/227.jpg (deflated 1%)\n",
            "  adding: content/images3/59.jpg (deflated 0%)\n",
            "  adding: content/images3/940.jpg (deflated 1%)\n",
            "  adding: content/images3/1126.jpg (deflated 0%)\n",
            "  adding: content/images3/675.jpg (deflated 0%)\n",
            "  adding: content/images3/1066.jpg (deflated 5%)\n",
            "  adding: content/images3/1162.jpg (deflated 2%)\n",
            "  adding: content/images3/32.jpg (deflated 1%)\n",
            "  adding: content/images3/486.jpg (deflated 0%)\n",
            "  adding: content/images3/922.jpg (deflated 0%)\n",
            "  adding: content/images3/230.jpg (deflated 0%)\n",
            "  adding: content/images3/644.jpg (deflated 1%)\n",
            "  adding: content/images3/920.jpg (deflated 0%)\n",
            "  adding: content/images3/1354.jpg (deflated 4%)\n",
            "  adding: content/images3/1220.jpg (deflated 1%)\n",
            "  adding: content/images3/848.jpg (deflated 0%)\n",
            "  adding: content/images3/831.jpg (deflated 0%)\n",
            "  adding: content/images3/52.jpg (deflated 2%)\n",
            "  adding: content/images3/314.jpg (deflated 0%)\n",
            "  adding: content/images3/211.jpg (deflated 0%)\n",
            "  adding: content/images3/1188.jpg (deflated 1%)\n",
            "  adding: content/images3/274.jpg (deflated 0%)\n",
            "  adding: content/images3/183.jpg (deflated 1%)\n",
            "  adding: content/images3/456.jpg (deflated 0%)\n",
            "  adding: content/images3/159.jpg (deflated 2%)\n",
            "  adding: content/images3/611.jpg (deflated 1%)\n",
            "  adding: content/images3/593.jpg (deflated 1%)\n",
            "  adding: content/images3/656.jpg (deflated 1%)\n",
            "  adding: content/images3/710.jpg (deflated 3%)\n",
            "  adding: content/images3/302.jpg (deflated 3%)\n",
            "  adding: content/images3/1071.jpg (deflated 0%)\n",
            "  adding: content/images3/225.jpg (deflated 0%)\n",
            "  adding: content/images3/360.jpg (deflated 0%)\n",
            "  adding: content/images3/863.jpg (deflated 0%)\n",
            "  adding: content/images3/470.jpg (deflated 1%)\n",
            "  adding: content/images3/30.jpg (deflated 0%)\n",
            "  adding: content/images3/545.jpg (deflated 0%)\n",
            "  adding: content/images3/912.jpg (deflated 4%)\n",
            "  adding: content/images3/1148.jpg (deflated 0%)\n",
            "  adding: content/images3/350.jpg (deflated 2%)\n",
            "  adding: content/images3/195.jpg (deflated 0%)\n",
            "  adding: content/images3/917.jpg (deflated 2%)\n",
            "  adding: content/images3/64.jpg (deflated 0%)\n",
            "  adding: content/images3/22.jpg (deflated 4%)\n",
            "  adding: content/images3/1119.jpg (deflated 3%)\n",
            "  adding: content/images3/619.jpg (deflated 0%)\n",
            "  adding: content/images3/691.jpg (deflated 0%)\n",
            "  adding: content/images3/500.jpg (deflated 7%)\n",
            "  adding: content/images3/633.jpg (deflated 3%)\n",
            "  adding: content/images3/362.jpg (deflated 1%)\n",
            "  adding: content/images3/574.jpg (deflated 6%)\n",
            "  adding: content/images3/1122.jpg (deflated 1%)\n",
            "  adding: content/images3/144.jpg (deflated 2%)\n",
            "  adding: content/images3/769.jpg (deflated 1%)\n",
            "  adding: content/images3/447.jpg (deflated 1%)\n",
            "  adding: content/images3/771.jpg (deflated 0%)\n",
            "  adding: content/images3/281.jpg (deflated 2%)\n",
            "  adding: content/images3/760.jpg (deflated 1%)\n",
            "  adding: content/images3/698.jpg (deflated 0%)\n",
            "  adding: content/images3/898.jpg (deflated 0%)\n",
            "  adding: content/images3/762.jpg (deflated 4%)\n",
            "  adding: content/images3/1067.jpg (deflated 1%)\n",
            "  adding: content/images3/801.jpg (deflated 1%)\n",
            "  adding: content/images3/448.jpg (deflated 4%)\n",
            "  adding: content/images3/986.jpg (deflated 1%)\n",
            "  adding: content/images3/1086.jpg (deflated 0%)\n",
            "  adding: content/images3/507.jpg (deflated 0%)\n",
            "  adding: content/images3/184.jpg (deflated 0%)\n",
            "  adding: content/images3/931.jpg (deflated 0%)\n",
            "  adding: content/images3/496.jpg (deflated 0%)\n",
            "  adding: content/images3/891.jpg (deflated 3%)\n",
            "  adding: content/images3/1350.jpg (deflated 2%)\n",
            "  adding: content/images3/153.jpg (deflated 1%)\n",
            "  adding: content/images3/417.jpg (deflated 0%)\n",
            "  adding: content/images3/711.jpg (deflated 0%)\n",
            "  adding: content/images3/1164.jpg (deflated 0%)\n",
            "  adding: content/images3/485.jpg (deflated 1%)\n",
            "  adding: content/images3/303.jpg (deflated 0%)\n",
            "  adding: content/images3/1345.jpg (deflated 0%)\n",
            "  adding: content/images3/246.jpg (deflated 0%)\n",
            "  adding: content/images3/1234.jpg (deflated 0%)\n",
            "  adding: content/images3/875.jpg (deflated 2%)\n",
            "  adding: content/images3/820.jpg (deflated 1%)\n",
            "  adding: content/images3/86.jpg (deflated 0%)\n",
            "  adding: content/images3/1109.jpg (deflated 0%)\n",
            "  adding: content/images3/421.jpg (deflated 4%)\n",
            "  adding: content/images3/1332.jpg (deflated 1%)\n",
            "  adding: content/images3/441.jpg (deflated 0%)\n",
            "  adding: content/images3/213.jpg (deflated 4%)\n",
            "  adding: content/images3/1245.jpg (deflated 2%)\n",
            "  adding: content/images3/1061.jpg (deflated 0%)\n",
            "  adding: content/images3/1108.jpg (deflated 0%)\n",
            "  adding: content/images3/546.jpg (deflated 1%)\n",
            "  adding: content/images3/331.jpg (deflated 1%)\n",
            "  adding: content/images3/804.jpg (deflated 1%)\n",
            "  adding: content/images3/70.jpg (deflated 3%)\n",
            "  adding: content/images3/192.jpg (deflated 1%)\n",
            "  adding: content/images3/1021.jpg (deflated 0%)\n",
            "  adding: content/images3/497.jpg (deflated 0%)\n",
            "  adding: content/images3/541.jpg (deflated 4%)\n",
            "  adding: content/images3/1238.jpg (deflated 1%)\n",
            "  adding: content/images3/730.jpg (deflated 1%)\n",
            "  adding: content/images3/1376.jpg (deflated 1%)\n",
            "  adding: content/images3/306.jpg (deflated 1%)\n",
            "  adding: content/images3/751.jpg (deflated 1%)\n",
            "  adding: content/images3/104.jpg (deflated 2%)\n",
            "  adding: content/images3/1236.jpg (deflated 0%)\n",
            "  adding: content/images3/3.jpg (deflated 1%)\n",
            "  adding: content/images3/1182.jpg (deflated 1%)\n",
            "  adding: content/images3/1249.jpg (deflated 2%)\n",
            "  adding: content/images3/797.jpg (deflated 2%)\n",
            "  adding: content/images3/1159.jpg (deflated 1%)\n",
            "  adding: content/images3/369.jpg (deflated 1%)\n",
            "  adding: content/images3/1058.jpg (deflated 1%)\n",
            "  adding: content/images3/249.jpg (deflated 2%)\n",
            "  adding: content/images3/460.jpg (deflated 3%)\n",
            "  adding: content/images3/376.jpg (deflated 0%)\n",
            "  adding: content/images3/1087.jpg (deflated 2%)\n",
            "  adding: content/images3/1367.jpg (deflated 0%)\n",
            "  adding: content/images3/777.jpg (deflated 1%)\n",
            "  adding: content/images3/279.jpg (deflated 1%)\n",
            "  adding: content/images3/1230.jpg (deflated 1%)\n",
            "  adding: content/images3/749.jpg (deflated 5%)\n",
            "  adding: content/images3/60.jpg (deflated 1%)\n",
            "  adding: content/images3/926.jpg (deflated 0%)\n",
            "  adding: content/images3/44.jpg (deflated 1%)\n",
            "  adding: content/images3/638.jpg (deflated 5%)\n",
            "  adding: content/images3/784.jpg (deflated 0%)\n",
            "  adding: content/images3/728.jpg (deflated 1%)\n",
            "  adding: content/images3/822.jpg (deflated 1%)\n",
            "  adding: content/images3/725.jpg (deflated 2%)\n",
            "  adding: content/images3/1018.jpg (deflated 1%)\n",
            "  adding: content/images3/914.jpg (deflated 0%)\n",
            "  adding: content/images3/870.jpg (deflated 0%)\n",
            "  adding: content/images3/764.jpg (deflated 0%)\n",
            "  adding: content/images3/699.jpg (deflated 1%)\n",
            "  adding: content/images3/403.jpg (deflated 0%)\n",
            "  adding: content/images3/680.jpg (deflated 0%)\n",
            "  adding: content/images3/791.jpg (deflated 0%)\n",
            "  adding: content/images3/394.jpg (deflated 7%)\n",
            "  adding: content/images3/608.jpg (deflated 0%)\n",
            "  adding: content/images3/864.jpg (deflated 1%)\n",
            "  adding: content/images3/408.jpg (deflated 0%)\n",
            "  adding: content/images3/396.jpg (deflated 3%)\n",
            "  adding: content/images3/867.jpg (deflated 1%)\n",
            "  adding: content/images3/901.jpg (deflated 2%)\n",
            "  adding: content/images3/1311.jpg (deflated 0%)\n",
            "  adding: content/images3/404.jpg (deflated 2%)\n",
            "  adding: content/images3/1045.jpg (deflated 0%)\n",
            "  adding: content/images3/1180.jpg (deflated 0%)\n",
            "  adding: content/images3/1320.jpg (deflated 1%)\n",
            "  adding: content/images3/970.jpg (deflated 1%)\n",
            "  adding: content/images3/563.jpg (deflated 2%)\n",
            "  adding: content/images3/1329.jpg (deflated 0%)\n",
            "  adding: content/images3/1353.jpg (deflated 1%)\n",
            "  adding: content/images3/707.jpg (deflated 1%)\n",
            "  adding: content/images3/327.jpg (deflated 0%)\n",
            "  adding: content/images3/451.jpg (deflated 1%)\n",
            "  adding: content/images3/202.jpg (deflated 0%)\n",
            "  adding: content/images3/925.jpg (deflated 1%)\n",
            "  adding: content/images3/967.jpg (deflated 1%)\n",
            "  adding: content/images3/100.jpg (deflated 1%)\n",
            "  adding: content/images3/809.jpg (deflated 1%)\n",
            "  adding: content/images3/1316.jpg (deflated 0%)\n",
            "  adding: content/images3/670.jpg (deflated 2%)\n",
            "  adding: content/images3/240.jpg (deflated 1%)\n",
            "  adding: content/images3/854.jpg (deflated 0%)\n",
            "  adding: content/images3/214.jpg (deflated 1%)\n",
            "  adding: content/images3/1181.jpg (deflated 1%)\n",
            "  adding: content/images3/1207.jpg (deflated 0%)\n",
            "  adding: content/images3/1290.jpg (deflated 0%)\n",
            "  adding: content/images3/259.jpg (deflated 0%)\n",
            "  adding: content/images3/836.jpg (deflated 0%)\n",
            "  adding: content/images3/792.jpg (deflated 2%)\n",
            "  adding: content/images3/1313.jpg (deflated 0%)\n",
            "  adding: content/images3/944.jpg (deflated 2%)\n",
            "  adding: content/images3/326.jpg (deflated 0%)\n",
            "  adding: content/images3/1042.jpg (deflated 0%)\n",
            "  adding: content/images3/924.jpg (deflated 2%)\n",
            "  adding: content/images3/231.jpg (deflated 1%)\n",
            "  adding: content/images3/400.jpg (deflated 0%)\n",
            "  adding: content/images3/550.jpg (deflated 0%)\n",
            "  adding: content/images3/956.jpg (deflated 2%)\n",
            "  adding: content/images3/1274.jpg (deflated 1%)\n",
            "  adding: content/images3/1051.jpg (deflated 3%)\n",
            "  adding: content/images3/628.jpg (deflated 2%)\n",
            "  adding: content/images3/712.jpg (deflated 6%)\n",
            "  adding: content/images3/450.jpg (deflated 1%)\n",
            "  adding: content/images3/504.jpg (deflated 0%)\n",
            "  adding: content/images3/1335.jpg (deflated 0%)\n",
            "  adding: content/images3/645.jpg (deflated 1%)\n",
            "  adding: content/images3/627.jpg (deflated 1%)\n",
            "  adding: content/images3/42.jpg (deflated 1%)\n",
            "  adding: content/images3/601.jpg (deflated 0%)\n",
            "  adding: content/images3/399.jpg (deflated 0%)\n",
            "  adding: content/images3/1191.jpg (deflated 0%)\n",
            "  adding: content/images3/143.jpg (deflated 0%)\n",
            "  adding: content/images3/210.jpg (deflated 0%)\n",
            "  adding: content/images3/415.jpg (deflated 0%)\n",
            "  adding: content/images3/78.jpg (deflated 2%)\n",
            "  adding: content/images3/672.jpg (deflated 0%)\n",
            "  adding: content/images3/733.jpg (deflated 3%)\n",
            "  adding: content/images3/1050.jpg (deflated 5%)\n",
            "  adding: content/images3/989.jpg (deflated 1%)\n",
            "  adding: content/images3/677.jpg (deflated 0%)\n",
            "  adding: content/images3/506.jpg (deflated 0%)\n",
            "  adding: content/images3/182.jpg (deflated 3%)\n",
            "  adding: content/images3/735.jpg (deflated 0%)\n",
            "  adding: content/images3/1304.jpg (deflated 1%)\n",
            "  adding: content/images3/1226.jpg (deflated 1%)\n",
            "  adding: content/images3/1303.jpg (deflated 3%)\n",
            "  adding: content/images3/1132.jpg (deflated 2%)\n",
            "  adding: content/images3/118.jpg (deflated 1%)\n",
            "  adding: content/images3/1333.jpg (deflated 0%)\n",
            "  adding: content/images3/787.jpg (deflated 1%)\n",
            "  adding: content/images3/1240.jpg (deflated 1%)\n",
            "  adding: content/images3/621.jpg (deflated 1%)\n",
            "  adding: content/images3/426.jpg (deflated 9%)\n",
            "  adding: content/images3/265.jpg (deflated 3%)\n",
            "  adding: content/images3/503.jpg (deflated 0%)\n",
            "  adding: content/images3/1092.jpg (deflated 0%)\n",
            "  adding: content/images3/338.jpg (deflated 4%)\n",
            "  adding: content/images3/455.jpg (deflated 1%)\n",
            "  adding: content/images3/429.jpg (deflated 3%)\n",
            "  adding: content/images3/943.jpg (deflated 2%)\n",
            "  adding: content/images3/1361.jpg (deflated 0%)\n",
            "  adding: content/images3/88.jpg (deflated 1%)\n",
            "  adding: content/images3/73.jpg (deflated 0%)\n",
            "  adding: content/images3/962.jpg (deflated 1%)\n",
            "  adding: content/images3/1384.jpg (deflated 0%)\n",
            "  adding: content/images3/457.jpg (deflated 5%)\n",
            "  adding: content/images3/411.jpg (deflated 0%)\n",
            "  adding: content/images3/874.jpg (deflated 3%)\n",
            "  adding: content/images3/51.jpg (deflated 1%)\n",
            "  adding: content/images3/17.jpg (deflated 0%)\n",
            "  adding: content/images3/191.jpg (deflated 2%)\n",
            "  adding: content/images3/844.jpg (deflated 1%)\n",
            "  adding: content/images3/866.jpg (deflated 0%)\n",
            "  adding: content/images3/750.jpg (deflated 2%)\n",
            "  adding: content/images3/332.jpg (deflated 1%)\n",
            "  adding: content/images3/389.jpg (deflated 3%)\n",
            "  adding: content/images3/1080.jpg (deflated 0%)\n",
            "  adding: content/images3/1331.jpg (deflated 0%)\n",
            "  adding: content/images3/813.jpg (deflated 0%)\n",
            "  adding: content/images3/704.jpg (deflated 0%)\n",
            "  adding: content/images3/424.jpg (deflated 1%)\n",
            "  adding: content/images3/945.jpg (deflated 1%)\n",
            "  adding: content/images3/178.jpg (deflated 3%)\n",
            "  adding: content/images3/636.jpg (deflated 0%)\n",
            "  adding: content/images3/1114.jpg (deflated 3%)\n",
            "  adding: content/images3/1047.jpg (deflated 2%)\n",
            "  adding: content/images3/19.jpg (deflated 0%)\n",
            "  adding: content/images3/209.jpg (deflated 2%)\n",
            "  adding: content/images3/894.jpg (deflated 0%)\n",
            "  adding: content/images3/405.jpg (deflated 1%)\n",
            "  adding: content/images3/1029.jpg (deflated 0%)\n",
            "  adding: content/images3/1292.jpg (deflated 0%)\n",
            "  adding: content/images3/1216.jpg (deflated 0%)\n",
            "  adding: content/images3/1373.jpg (deflated 0%)\n",
            "  adding: content/images3/67.jpg (deflated 5%)\n",
            "  adding: content/images3/388.jpg (deflated 1%)\n",
            "  adding: content/images3/695.jpg (deflated 1%)\n",
            "  adding: content/images3/290.jpg (deflated 0%)\n",
            "  adding: content/images3/65.jpg (deflated 1%)\n",
            "  adding: content/images3/325.jpg (deflated 3%)\n",
            "  adding: content/images3/491.jpg (deflated 2%)\n",
            "  adding: content/images3/592.jpg (deflated 1%)\n",
            "  adding: content/images3/131.jpg (deflated 0%)\n",
            "  adding: content/images3/511.jpg (deflated 0%)\n",
            "  adding: content/images3/7.jpg (deflated 0%)\n",
            "  adding: content/images3/560.jpg (deflated 1%)\n",
            "  adding: content/images3/530.jpg (deflated 1%)\n",
            "  adding: content/images3/482.jpg (deflated 1%)\n",
            "  adding: content/images3/1377.jpg (deflated 1%)\n",
            "  adding: content/images3/234.jpg (deflated 1%)\n",
            "  adding: content/images3/137.jpg (deflated 0%)\n",
            "  adding: content/images3/715.jpg (deflated 6%)\n",
            "  adding: content/images3/939.jpg (deflated 2%)\n",
            "  adding: content/images3/972.jpg (deflated 0%)\n",
            "  adding: content/images3/56.jpg (deflated 1%)\n",
            "  adding: content/images3/1007.jpg (deflated 2%)\n",
            "  adding: content/images3/693.jpg (deflated 0%)\n",
            "  adding: content/images3/459.jpg (deflated 2%)\n",
            "  adding: content/images3/74.jpg (deflated 0%)\n",
            "  adding: content/images3/203.jpg (deflated 0%)\n",
            "  adding: content/images3/558.jpg (deflated 1%)\n",
            "  adding: content/images3/438.jpg (deflated 7%)\n",
            "  adding: content/images3/746.jpg (deflated 4%)\n",
            "  adding: content/images3/595.jpg (deflated 1%)\n",
            "  adding: content/images3/1171.jpg (deflated 0%)\n",
            "  adding: content/images3/380.jpg (deflated 0%)\n",
            "  adding: content/images3/1017.jpg (deflated 0%)\n",
            "  adding: content/images3/300.jpg (deflated 4%)\n",
            "  adding: content/images3/988.jpg (deflated 1%)\n",
            "  adding: content/images3/921.jpg (deflated 3%)\n",
            "  adding: content/images3/469.jpg (deflated 1%)\n",
            "  adding: content/images3/304.jpg (deflated 3%)\n",
            "  adding: content/images3/533.jpg (deflated 1%)\n",
            "  adding: content/images3/1209.jpg (deflated 4%)\n",
            "  adding: content/images3/1034.jpg (deflated 0%)\n",
            "  adding: content/images3/1219.jpg (deflated 6%)\n",
            "  adding: content/images3/1059.jpg (deflated 0%)\n",
            "  adding: content/images3/18.jpg (deflated 0%)\n",
            "  adding: content/images3/978.jpg (deflated 2%)\n",
            "  adding: content/images3/1139.jpg (deflated 1%)\n",
            "  adding: content/images3/189.jpg (deflated 1%)\n",
            "  adding: content/images3/324.jpg (deflated 1%)\n",
            "  adding: content/images3/634.jpg (deflated 0%)\n",
            "  adding: content/images3/1043.jpg (deflated 2%)\n",
            "  adding: content/images3/11.jpg (deflated 0%)\n",
            "  adding: content/images3/299.jpg (deflated 0%)\n",
            "  adding: content/images3/577.jpg (deflated 1%)\n",
            "  adding: content/images3/637.jpg (deflated 2%)\n",
            "  adding: content/images3/381.jpg (deflated 1%)\n",
            "  adding: content/images3/312.jpg (deflated 7%)\n",
            "  adding: content/images3/1074.jpg (deflated 0%)\n",
            "  adding: content/images3/575.jpg (deflated 6%)\n",
            "  adding: content/images3/957.jpg (deflated 1%)\n",
            "  adding: content/images3/971.jpg (deflated 1%)\n",
            "  adding: content/images3/803.jpg (deflated 2%)\n",
            "  adding: content/images3/1340.jpg (deflated 3%)\n",
            "  adding: content/images3/701.jpg (deflated 0%)\n",
            "  adding: content/images3/1196.jpg (deflated 0%)\n",
            "  adding: content/images3/1111.jpg (deflated 1%)\n",
            "  adding: content/images3/520.jpg (deflated 1%)\n",
            "  adding: content/images3/1243.jpg (deflated 1%)\n",
            "  adding: content/images3/49.jpg (deflated 0%)\n",
            "  adding: content/images3/1098.jpg (deflated 0%)\n",
            "  adding: content/images3/1192.jpg (deflated 0%)\n",
            "  adding: content/images3/516.jpg (deflated 0%)\n",
            "  adding: content/images3/428.jpg (deflated 4%)\n",
            "  adding: content/images3/816.jpg (deflated 0%)\n",
            "  adding: content/images3/1068.jpg (deflated 0%)\n",
            "  adding: content/images3/525.jpg (deflated 0%)\n",
            "  adding: content/images3/1268.jpg (deflated 1%)\n",
            "  adding: content/images3/808.jpg (deflated 0%)\n",
            "  adding: content/images3/1075.jpg (deflated 0%)\n",
            "  adding: content/images3/1374.jpg (deflated 3%)\n",
            "  adding: content/images3/997.jpg (deflated 0%)\n",
            "  adding: content/images3/1064.jpg (deflated 0%)\n",
            "  adding: content/images3/635.jpg (deflated 1%)\n",
            "  adding: content/images3/134.jpg (deflated 0%)\n",
            "  adding: content/images3/127.jpg (deflated 0%)\n",
            "  adding: content/images3/1383.jpg (deflated 0%)\n",
            "  adding: content/images3/157.jpg (deflated 4%)\n",
            "  adding: content/images3/34.jpg (deflated 0%)\n",
            "  adding: content/images3/726.jpg (deflated 0%)\n",
            "  adding: content/images3/668.jpg (deflated 0%)\n",
            "  adding: content/images3/14.jpg (deflated 0%)\n",
            "  adding: content/images3/832.jpg (deflated 2%)\n",
            "  adding: content/images3/262.jpg (deflated 2%)\n",
            "  adding: content/images3/21.jpg (deflated 0%)\n",
            "  adding: content/images3/1136.jpg (deflated 0%)\n",
            "  adding: content/images3/437.jpg (deflated 0%)\n",
            "  adding: content/images3/292.jpg (deflated 0%)\n",
            "  adding: content/images3/229.jpg (deflated 3%)\n",
            "  adding: content/images3/826.jpg (deflated 1%)\n",
            "  adding: content/images3/1360.jpg (deflated 5%)\n",
            "  adding: content/images3/819.jpg (deflated 1%)\n",
            "  adding: content/images3/961.jpg (deflated 2%)\n",
            "  adding: content/images3/1327.jpg (deflated 5%)\n",
            "  adding: content/images3/588.jpg (deflated 0%)\n",
            "  adding: content/images3/413.jpg (deflated 1%)\n",
            "  adding: content/images3/609.jpg (deflated 0%)\n",
            "  adding: content/images3/47.jpg (deflated 6%)\n",
            "  adding: content/images3/359.jpg (deflated 0%)\n",
            "  adding: content/images3/256.jpg (deflated 1%)\n",
            "  adding: content/images3/316.jpg (deflated 1%)\n",
            "  adding: content/images3/186.jpg (deflated 0%)\n",
            "  adding: content/images3/164.jpg (deflated 0%)\n",
            "  adding: content/images3/1265.jpg (deflated 2%)\n",
            "  adding: content/images3/883.jpg (deflated 0%)\n",
            "  adding: content/images3/89.jpg (deflated 0%)\n",
            "  adding: content/images3/744.jpg (deflated 3%)\n",
            "  adding: content/images3/23.jpg (deflated 1%)\n",
            "  adding: content/images3/142.jpg (deflated 0%)\n",
            "  adding: content/images3/522.jpg (deflated 8%)\n",
            "  adding: content/images3/697.jpg (deflated 1%)\n",
            "  adding: content/images3/805.jpg (deflated 0%)\n",
            "  adding: content/images3/175.jpg (deflated 0%)\n",
            "  adding: content/images3/649.jpg (deflated 0%)\n",
            "  adding: content/images3/337.jpg (deflated 1%)\n",
            "  adding: content/images3/572.jpg (deflated 1%)\n",
            "  adding: content/images3/258.jpg (deflated 3%)\n",
            "  adding: content/images3/843.jpg (deflated 1%)\n",
            "  adding: content/images3/905.jpg (deflated 0%)\n",
            "  adding: content/images3/624.jpg (deflated 1%)\n",
            "  adding: content/images3/180.jpg (deflated 6%)\n",
            "  adding: content/images3/1275.jpg (deflated 0%)\n",
            "  adding: content/images3/952.jpg (deflated 1%)\n",
            "  adding: content/images3/568.jpg (deflated 0%)\n",
            "  adding: content/images3/378.jpg (deflated 1%)\n",
            "  adding: content/images3/755.jpg (deflated 2%)\n",
            "  adding: content/images3/1282.jpg (deflated 1%)\n",
            "  adding: content/images3/13.jpg (deflated 0%)\n",
            "  adding: content/images3/126.jpg (deflated 0%)\n",
            "  adding: content/images3/528.jpg (deflated 3%)\n",
            "  adding: content/images3/10.jpg (deflated 0%)\n",
            "  adding: content/images3/477.jpg (deflated 1%)\n",
            "  adding: content/images3/1315.jpg (deflated 0%)\n",
            "  adding: content/images3/1055.jpg (deflated 0%)\n",
            "  adding: content/images3/239.jpg (deflated 0%)\n",
            "  adding: content/images3/793.jpg (deflated 7%)\n",
            "  adding: content/images3/26.jpg (deflated 1%)\n",
            "  adding: content/images3/379.jpg (deflated 0%)\n",
            "  adding: content/images3/865.jpg (deflated 2%)\n",
            "  adding: content/images3/1077.jpg (deflated 1%)\n",
            "  adding: content/images3/980.jpg (deflated 0%)\n",
            "  adding: content/images3/103.jpg (deflated 5%)\n",
            "  adding: content/images3/1211.jpg (deflated 1%)\n",
            "  adding: content/images3/435.jpg (deflated 3%)\n",
            "  adding: content/images3/1227.jpg (deflated 0%)\n",
            "  adding: content/images3/187.jpg (deflated 0%)\n",
            "  adding: content/images3/2.jpg (deflated 26%)\n",
            "  adding: content/images3/1330.jpg (deflated 3%)\n",
            "  adding: content/images3/584.jpg (deflated 0%)\n",
            "  adding: content/images3/1242.jpg (deflated 0%)\n",
            "  adding: content/images3/1370.jpg (deflated 0%)\n",
            "  adding: content/images3/987.jpg (deflated 0%)\n",
            "  adding: content/images3/642.jpg (deflated 1%)\n",
            "  adding: content/images3/1250.jpg (deflated 0%)\n",
            "  adding: content/images3/385.jpg (deflated 1%)\n",
            "  adding: content/images3/632.jpg (deflated 1%)\n",
            "  adding: content/images3/1378.jpg (deflated 1%)\n",
            "  adding: content/images3/654.jpg (deflated 3%)\n",
            "  adding: content/images3/1065.jpg (deflated 1%)\n",
            "  adding: content/images3/474.jpg (deflated 2%)\n",
            "  adding: content/images3/1306.jpg (deflated 5%)\n",
            "  adding: content/images3/1179.jpg (deflated 0%)\n",
            "  adding: content/images3/936.jpg (deflated 1%)\n",
            "  adding: content/images3/509.jpg (deflated 0%)\n",
            "  adding: content/images3/284.jpg (deflated 0%)\n",
            "  adding: content/images3/519.jpg (deflated 1%)\n",
            "  adding: content/images3/479.jpg (deflated 1%)\n",
            "  adding: content/images3/114.jpg (deflated 1%)\n",
            "  adding: content/images3/523.jpg (deflated 4%)\n",
            "  adding: content/images3/224.jpg (deflated 3%)\n",
            "  adding: content/images3/696.jpg (deflated 1%)\n",
            "  adding: content/images3/1277.jpg (deflated 0%)\n",
            "  adding: content/images3/708.jpg (deflated 2%)\n",
            "  adding: content/images3/935.jpg (deflated 0%)\n",
            "  adding: content/images3/834.jpg (deflated 1%)\n",
            "  adding: content/images3/81.jpg (deflated 0%)\n",
            "  adding: content/images3/1299.jpg (deflated 1%)\n",
            "  adding: content/images3/983.jpg (deflated 0%)\n",
            "  adding: content/images3/1221.jpg (deflated 1%)\n",
            "  adding: content/images3/582.jpg (deflated 1%)\n",
            "  adding: content/images3/724.jpg (deflated 2%)\n",
            "  adding: content/images3/564.jpg (deflated 0%)\n",
            "  adding: content/images3/241.jpg (deflated 1%)\n",
            "  adding: content/images3/280.jpg (deflated 2%)\n",
            "  adding: content/images3/811.jpg (deflated 0%)\n",
            "  adding: content/images3/1308.jpg (deflated 0%)\n",
            "  adding: content/images3/1104.jpg (deflated 0%)\n",
            "  adding: content/images3/1094.jpg (deflated 1%)\n",
            "  adding: content/images3/1145.jpg (deflated 0%)\n",
            "  adding: content/images3/981.jpg (deflated 0%)\n",
            "  adding: content/images3/1224.jpg (deflated 0%)\n",
            "  adding: content/images3/741.jpg (deflated 2%)\n",
            "  adding: content/images3/828.jpg (deflated 0%)\n",
            "  adding: content/images3/1269.jpg (deflated 0%)\n",
            "  adding: content/images3/1319.jpg (deflated 0%)\n",
            "  adding: content/images3/630.jpg (deflated 1%)\n",
            "  adding: content/images3/964.jpg (deflated 1%)\n",
            "  adding: content/images3/276.jpg (deflated 1%)\n",
            "  adding: content/images3/573.jpg (deflated 0%)\n",
            "  adding: content/images3/1155.jpg (deflated 0%)\n",
            "  adding: content/images3/969.jpg (deflated 2%)\n",
            "  adding: content/images3/285.jpg (deflated 1%)\n",
            "  adding: content/images3/46.jpg (deflated 0%)\n",
            "  adding: content/images3/1131.jpg (deflated 4%)\n",
            "  adding: content/images3/1057.jpg (deflated 0%)\n",
            "  adding: content/images3/110.jpg (deflated 0%)\n",
            "  adding: content/images3/600.jpg (deflated 1%)\n",
            "  adding: content/images3/406.jpg (deflated 0%)\n",
            "  adding: content/images3/1386.jpg (deflated 1%)\n",
            "  adding: content/images3/838.jpg (deflated 2%)\n",
            "  adding: content/images3/220.jpg (deflated 1%)\n",
            "  adding: content/images3/317.jpg (deflated 1%)\n",
            "  adding: content/images3/1046.jpg (deflated 0%)\n",
            "  adding: content/images3/1297.jpg (deflated 2%)\n",
            "  adding: content/images3/109.jpg (deflated 1%)\n",
            "  adding: content/images3/205.jpg (deflated 1%)\n",
            "  adding: content/images3/1097.jpg (deflated 0%)\n",
            "  adding: content/images3/264.jpg (deflated 0%)\n",
            "  adding: content/images3/170.jpg (deflated 3%)\n",
            "  adding: content/images3/270.jpg (deflated 0%)\n",
            "  adding: content/images3/414.jpg (deflated 0%)\n",
            "  adding: content/images3/1101.jpg (deflated 0%)\n",
            "  adding: content/images3/996.jpg (deflated 4%)\n",
            "  adding: content/images3/283.jpg (deflated 1%)\n",
            "  adding: content/images3/111.jpg (deflated 0%)\n",
            "  adding: content/images3/1337.jpg (deflated 1%)\n",
            "  adding: content/images3/160.jpg (deflated 0%)\n",
            "  adding: content/images3/353.jpg (deflated 1%)\n",
            "  adding: content/images3/657.jpg (deflated 4%)\n",
            "  adding: content/images3/313.jpg (deflated 0%)\n",
            "  adding: content/images3/613.jpg (deflated 1%)\n",
            "  adding: content/images3/119.jpg (deflated 1%)\n",
            "  adding: content/images3/116.jpg (deflated 0%)\n",
            "  adding: content/images3/177.jpg (deflated 1%)\n",
            "  adding: content/images3/674.jpg (deflated 3%)\n",
            "  adding: content/images3/598.jpg (deflated 0%)\n",
            "  adding: content/images3/993.jpg (deflated 2%)\n",
            "  adding: content/images3/767.jpg (deflated 1%)\n",
            "  adding: content/images3/1205.jpg (deflated 3%)\n",
            "  adding: content/images3/1141.jpg (deflated 0%)\n",
            "  adding: content/images3/902.jpg (deflated 0%)\n",
            "  adding: content/images3/982.jpg (deflated 0%)\n",
            "  adding: content/images3/386.jpg (deflated 1%)\n",
            "  adding: content/images3/1187.jpg (deflated 1%)\n",
            "  adding: content/images3/374.jpg (deflated 1%)\n",
            "  adding: content/images3/798.jpg (deflated 0%)\n",
            "  adding: content/images3/512.jpg (deflated 0%)\n",
            "  adding: content/images3/430.jpg (deflated 2%)\n",
            "  adding: content/images3/687.jpg (deflated 0%)\n",
            "  adding: content/images3/1343.jpg (deflated 2%)\n",
            "  adding: content/images3/955.jpg (deflated 0%)\n",
            "  adding: content/images3/835.jpg (deflated 0%)\n",
            "  adding: content/images3/1213.jpg (deflated 0%)\n",
            "  adding: content/images3/1044.jpg (deflated 2%)\n",
            "  adding: content/images3/61.jpg (deflated 0%)\n",
            "  adding: content/images3/974.jpg (deflated 2%)\n",
            "  adding: content/images3/1202.jpg (deflated 0%)\n",
            "  adding: content/images3/1176.jpg (deflated 0%)\n",
            "  adding: content/images3/869.jpg (deflated 0%)\n",
            "  adding: content/images3/72.jpg (deflated 0%)\n",
            "  adding: content/images3/1069.jpg (deflated 0%)\n",
            "  adding: content/images3/1008.jpg (deflated 1%)\n",
            "  adding: content/images3/1248.jpg (deflated 0%)\n",
            "  adding: content/images3/1173.jpg (deflated 1%)\n",
            "  adding: content/images3/1349.jpg (deflated 0%)\n",
            "  adding: content/images3/71.jpg (deflated 2%)\n",
            "  adding: content/images3/382.jpg (deflated 0%)\n",
            "  adding: content/images3/995.jpg (deflated 0%)\n",
            "  adding: content/images3/781.jpg (deflated 0%)\n",
            "  adding: content/images3/431.jpg (deflated 1%)\n",
            "  adding: content/images3/890.jpg (deflated 5%)\n",
            "  adding: content/images3/958.jpg (deflated 0%)\n",
            "  adding: content/images3/458.jpg (deflated 0%)\n",
            "  adding: content/images3/1391.jpg (deflated 3%)\n",
            "  adding: content/images3/646.jpg (deflated 4%)\n",
            "  adding: content/images3/567.jpg (deflated 3%)\n",
            "  adding: content/images3/453.jpg (deflated 4%)\n",
            "  adding: content/images3/1123.jpg (deflated 3%)\n",
            "  adding: content/images3/33.jpg (deflated 0%)\n",
            "  adding: content/images3/1190.jpg (deflated 1%)\n",
            "  adding: content/images3/743.jpg (deflated 4%)\n",
            "  adding: content/images3/774.jpg (deflated 0%)\n",
            "  adding: content/images3/1106.jpg (deflated 0%)\n",
            "  adding: content/images3/320.jpg (deflated 0%)\n",
            "  adding: content/images3/706.jpg (deflated 1%)\n",
            "  adding: content/images3/94.jpg (deflated 4%)\n",
            "  adding: content/images3/1261.jpg (deflated 1%)\n",
            "  adding: content/images3/358.jpg (deflated 4%)\n",
            "  adding: content/images3/336.jpg (deflated 1%)\n",
            "  adding: content/images3/1168.jpg (deflated 0%)\n",
            "  adding: content/images3/1344.jpg (deflated 1%)\n",
            "  adding: content/images3/1037.jpg (deflated 1%)\n",
            "  adding: content/images3/1365.jpg (deflated 0%)\n",
            "  adding: content/images3/252.jpg (deflated 1%)\n"
          ]
        }
      ]
    },
    {
      "cell_type": "code",
      "source": [
        "from google.colab import files\n",
        "files.download('/content/images.zip')"
      ],
      "metadata": {
        "colab": {
          "base_uri": "https://localhost:8080/",
          "height": 17
        },
        "id": "phRWAjN0cobL",
        "outputId": "8374037c-1c7d-44ab-dced-2183e463e67d"
      },
      "execution_count": 41,
      "outputs": [
        {
          "output_type": "display_data",
          "data": {
            "text/plain": [
              "<IPython.core.display.Javascript object>"
            ],
            "application/javascript": [
              "\n",
              "    async function download(id, filename, size) {\n",
              "      if (!google.colab.kernel.accessAllowed) {\n",
              "        return;\n",
              "      }\n",
              "      const div = document.createElement('div');\n",
              "      const label = document.createElement('label');\n",
              "      label.textContent = `Downloading \"${filename}\": `;\n",
              "      div.appendChild(label);\n",
              "      const progress = document.createElement('progress');\n",
              "      progress.max = size;\n",
              "      div.appendChild(progress);\n",
              "      document.body.appendChild(div);\n",
              "\n",
              "      const buffers = [];\n",
              "      let downloaded = 0;\n",
              "\n",
              "      const channel = await google.colab.kernel.comms.open(id);\n",
              "      // Send a message to notify the kernel that we're ready.\n",
              "      channel.send({})\n",
              "\n",
              "      for await (const message of channel.messages) {\n",
              "        // Send a message to notify the kernel that we're ready.\n",
              "        channel.send({})\n",
              "        if (message.buffers) {\n",
              "          for (const buffer of message.buffers) {\n",
              "            buffers.push(buffer);\n",
              "            downloaded += buffer.byteLength;\n",
              "            progress.value = downloaded;\n",
              "          }\n",
              "        }\n",
              "      }\n",
              "      const blob = new Blob(buffers, {type: 'application/binary'});\n",
              "      const a = document.createElement('a');\n",
              "      a.href = window.URL.createObjectURL(blob);\n",
              "      a.download = filename;\n",
              "      div.appendChild(a);\n",
              "      a.click();\n",
              "      div.remove();\n",
              "    }\n",
              "  "
            ]
          },
          "metadata": {}
        },
        {
          "output_type": "display_data",
          "data": {
            "text/plain": [
              "<IPython.core.display.Javascript object>"
            ],
            "application/javascript": [
              "download(\"download_9c3291d2-e7a0-4e9d-917d-11e370c9893b\", \"images.zip\", 264157770)"
            ]
          },
          "metadata": {}
        }
      ]
    },
    {
      "cell_type": "code",
      "source": [
        "labels_csv.describe()"
      ],
      "metadata": {
        "colab": {
          "base_uri": "https://localhost:8080/",
          "height": 210
        },
        "id": "3diyfP6_cwl6",
        "outputId": "6d776715-25d9-4633-d0d1-5ffbeb5efef2"
      },
      "execution_count": 39,
      "outputs": [
        {
          "output_type": "execute_result",
          "data": {
            "text/plain": [
              "       dominant_color                                             images\n",
              "count            1284                                               1284\n",
              "unique             34                                               1210\n",
              "top              Blue  [http://assets.myntassets.com/v1/assets/images...\n",
              "freq              182                                                  3"
            ],
            "text/html": [
              "\n",
              "  <div id=\"df-38b87a1e-30da-4682-ba04-80aede3228c8\">\n",
              "    <div class=\"colab-df-container\">\n",
              "      <div>\n",
              "<style scoped>\n",
              "    .dataframe tbody tr th:only-of-type {\n",
              "        vertical-align: middle;\n",
              "    }\n",
              "\n",
              "    .dataframe tbody tr th {\n",
              "        vertical-align: top;\n",
              "    }\n",
              "\n",
              "    .dataframe thead th {\n",
              "        text-align: right;\n",
              "    }\n",
              "</style>\n",
              "<table border=\"1\" class=\"dataframe\">\n",
              "  <thead>\n",
              "    <tr style=\"text-align: right;\">\n",
              "      <th></th>\n",
              "      <th>dominant_color</th>\n",
              "      <th>images</th>\n",
              "    </tr>\n",
              "  </thead>\n",
              "  <tbody>\n",
              "    <tr>\n",
              "      <th>count</th>\n",
              "      <td>1284</td>\n",
              "      <td>1284</td>\n",
              "    </tr>\n",
              "    <tr>\n",
              "      <th>unique</th>\n",
              "      <td>34</td>\n",
              "      <td>1210</td>\n",
              "    </tr>\n",
              "    <tr>\n",
              "      <th>top</th>\n",
              "      <td>Blue</td>\n",
              "      <td>[http://assets.myntassets.com/v1/assets/images...</td>\n",
              "    </tr>\n",
              "    <tr>\n",
              "      <th>freq</th>\n",
              "      <td>182</td>\n",
              "      <td>3</td>\n",
              "    </tr>\n",
              "  </tbody>\n",
              "</table>\n",
              "</div>\n",
              "      <button class=\"colab-df-convert\" onclick=\"convertToInteractive('df-38b87a1e-30da-4682-ba04-80aede3228c8')\"\n",
              "              title=\"Convert this dataframe to an interactive table.\"\n",
              "              style=\"display:none;\">\n",
              "        \n",
              "  <svg xmlns=\"http://www.w3.org/2000/svg\" height=\"24px\"viewBox=\"0 0 24 24\"\n",
              "       width=\"24px\">\n",
              "    <path d=\"M0 0h24v24H0V0z\" fill=\"none\"/>\n",
              "    <path d=\"M18.56 5.44l.94 2.06.94-2.06 2.06-.94-2.06-.94-.94-2.06-.94 2.06-2.06.94zm-11 1L8.5 8.5l.94-2.06 2.06-.94-2.06-.94L8.5 2.5l-.94 2.06-2.06.94zm10 10l.94 2.06.94-2.06 2.06-.94-2.06-.94-.94-2.06-.94 2.06-2.06.94z\"/><path d=\"M17.41 7.96l-1.37-1.37c-.4-.4-.92-.59-1.43-.59-.52 0-1.04.2-1.43.59L10.3 9.45l-7.72 7.72c-.78.78-.78 2.05 0 2.83L4 21.41c.39.39.9.59 1.41.59.51 0 1.02-.2 1.41-.59l7.78-7.78 2.81-2.81c.8-.78.8-2.07 0-2.86zM5.41 20L4 18.59l7.72-7.72 1.47 1.35L5.41 20z\"/>\n",
              "  </svg>\n",
              "      </button>\n",
              "      \n",
              "  <style>\n",
              "    .colab-df-container {\n",
              "      display:flex;\n",
              "      flex-wrap:wrap;\n",
              "      gap: 12px;\n",
              "    }\n",
              "\n",
              "    .colab-df-convert {\n",
              "      background-color: #E8F0FE;\n",
              "      border: none;\n",
              "      border-radius: 50%;\n",
              "      cursor: pointer;\n",
              "      display: none;\n",
              "      fill: #1967D2;\n",
              "      height: 32px;\n",
              "      padding: 0 0 0 0;\n",
              "      width: 32px;\n",
              "    }\n",
              "\n",
              "    .colab-df-convert:hover {\n",
              "      background-color: #E2EBFA;\n",
              "      box-shadow: 0px 1px 2px rgba(60, 64, 67, 0.3), 0px 1px 3px 1px rgba(60, 64, 67, 0.15);\n",
              "      fill: #174EA6;\n",
              "    }\n",
              "\n",
              "    [theme=dark] .colab-df-convert {\n",
              "      background-color: #3B4455;\n",
              "      fill: #D2E3FC;\n",
              "    }\n",
              "\n",
              "    [theme=dark] .colab-df-convert:hover {\n",
              "      background-color: #434B5C;\n",
              "      box-shadow: 0px 1px 3px 1px rgba(0, 0, 0, 0.15);\n",
              "      filter: drop-shadow(0px 1px 2px rgba(0, 0, 0, 0.3));\n",
              "      fill: #FFFFFF;\n",
              "    }\n",
              "  </style>\n",
              "\n",
              "      <script>\n",
              "        const buttonEl =\n",
              "          document.querySelector('#df-38b87a1e-30da-4682-ba04-80aede3228c8 button.colab-df-convert');\n",
              "        buttonEl.style.display =\n",
              "          google.colab.kernel.accessAllowed ? 'block' : 'none';\n",
              "\n",
              "        async function convertToInteractive(key) {\n",
              "          const element = document.querySelector('#df-38b87a1e-30da-4682-ba04-80aede3228c8');\n",
              "          const dataTable =\n",
              "            await google.colab.kernel.invokeFunction('convertToInteractive',\n",
              "                                                     [key], {});\n",
              "          if (!dataTable) return;\n",
              "\n",
              "          const docLinkHtml = 'Like what you see? Visit the ' +\n",
              "            '<a target=\"_blank\" href=https://colab.research.google.com/notebooks/data_table.ipynb>data table notebook</a>'\n",
              "            + ' to learn more about interactive tables.';\n",
              "          element.innerHTML = '';\n",
              "          dataTable['output_type'] = 'display_data';\n",
              "          await google.colab.output.renderOutput(dataTable, element);\n",
              "          const docLink = document.createElement('div');\n",
              "          docLink.innerHTML = docLinkHtml;\n",
              "          element.appendChild(docLink);\n",
              "        }\n",
              "      </script>\n",
              "    </div>\n",
              "  </div>\n",
              "  "
            ]
          },
          "metadata": {},
          "execution_count": 39
        }
      ]
    },
    {
      "cell_type": "code",
      "source": [
        "from tensorflow.keras.layers import Input, Lambda, Dense, Flatten,Dropout\n",
        "from tensorflow.keras.models import Model\n",
        "from tensorflow.keras.applications.vgg19 import VGG19\n",
        "from tensorflow.keras.applications.vgg19 import preprocess_input\n",
        "from tensorflow.keras.preprocessing import image\n",
        "from tensorflow.keras.preprocessing.image import ImageDataGenerator\n",
        "from tensorflow.keras.models import Sequential\n",
        "import numpy as np\n",
        "import pandas as pd\n",
        "import os\n",
        "import cv2\n",
        "import matplotlib.pyplot as plt"
      ],
      "metadata": {
        "id": "ZOSmOYrWc-AA"
      },
      "execution_count": 40,
      "outputs": []
    },
    {
      "cell_type": "code",
      "source": [
        "train_path=\"/content/images3\""
      ],
      "metadata": {
        "id": "KhsNPbLYiAdr"
      },
      "execution_count": 43,
      "outputs": []
    },
    {
      "cell_type": "code",
      "source": [
        "labels_csv"
      ],
      "metadata": {
        "colab": {
          "base_uri": "https://localhost:8080/",
          "height": 424
        },
        "id": "SEuZ_FSplYmd",
        "outputId": "00e1fa18-b6c9-4de8-ca25-e2c6cbda8dd0"
      },
      "execution_count": 49,
      "outputs": [
        {
          "output_type": "execute_result",
          "data": {
            "text/plain": [
              "     dominant_color                                             images\n",
              "0             Black  [http://assets.myntassets.com/v1/assets/images...\n",
              "1             Black  [http://assets.myntassets.com/v1/assets/images...\n",
              "2             White  [http://assets.myntassets.com/v1/assets/images...\n",
              "3              Pink  [http://assets.myntassets.com/v1/assets/images...\n",
              "4            Yellow  [http://assets.myntassets.com/v1/assets/images...\n",
              "...             ...                                                ...\n",
              "1388           Navy  [http://assets.myntassets.com/v1/assets/images...\n",
              "1389           Pink  [http://assets.myntassets.com/v1/assets/images...\n",
              "1390          Beige  [http://assets.myntassets.com/v1/assets/images...\n",
              "1391           Pink  [http://assets.myntassets.com/v1/assets/images...\n",
              "1392          Black  [http://assets.myntassets.com/v1/assets/images...\n",
              "\n",
              "[1284 rows x 2 columns]"
            ],
            "text/html": [
              "\n",
              "  <div id=\"df-0644e444-fe1e-4d94-a0a1-f3054820363e\">\n",
              "    <div class=\"colab-df-container\">\n",
              "      <div>\n",
              "<style scoped>\n",
              "    .dataframe tbody tr th:only-of-type {\n",
              "        vertical-align: middle;\n",
              "    }\n",
              "\n",
              "    .dataframe tbody tr th {\n",
              "        vertical-align: top;\n",
              "    }\n",
              "\n",
              "    .dataframe thead th {\n",
              "        text-align: right;\n",
              "    }\n",
              "</style>\n",
              "<table border=\"1\" class=\"dataframe\">\n",
              "  <thead>\n",
              "    <tr style=\"text-align: right;\">\n",
              "      <th></th>\n",
              "      <th>dominant_color</th>\n",
              "      <th>images</th>\n",
              "    </tr>\n",
              "  </thead>\n",
              "  <tbody>\n",
              "    <tr>\n",
              "      <th>0</th>\n",
              "      <td>Black</td>\n",
              "      <td>[http://assets.myntassets.com/v1/assets/images...</td>\n",
              "    </tr>\n",
              "    <tr>\n",
              "      <th>1</th>\n",
              "      <td>Black</td>\n",
              "      <td>[http://assets.myntassets.com/v1/assets/images...</td>\n",
              "    </tr>\n",
              "    <tr>\n",
              "      <th>2</th>\n",
              "      <td>White</td>\n",
              "      <td>[http://assets.myntassets.com/v1/assets/images...</td>\n",
              "    </tr>\n",
              "    <tr>\n",
              "      <th>3</th>\n",
              "      <td>Pink</td>\n",
              "      <td>[http://assets.myntassets.com/v1/assets/images...</td>\n",
              "    </tr>\n",
              "    <tr>\n",
              "      <th>4</th>\n",
              "      <td>Yellow</td>\n",
              "      <td>[http://assets.myntassets.com/v1/assets/images...</td>\n",
              "    </tr>\n",
              "    <tr>\n",
              "      <th>...</th>\n",
              "      <td>...</td>\n",
              "      <td>...</td>\n",
              "    </tr>\n",
              "    <tr>\n",
              "      <th>1388</th>\n",
              "      <td>Navy</td>\n",
              "      <td>[http://assets.myntassets.com/v1/assets/images...</td>\n",
              "    </tr>\n",
              "    <tr>\n",
              "      <th>1389</th>\n",
              "      <td>Pink</td>\n",
              "      <td>[http://assets.myntassets.com/v1/assets/images...</td>\n",
              "    </tr>\n",
              "    <tr>\n",
              "      <th>1390</th>\n",
              "      <td>Beige</td>\n",
              "      <td>[http://assets.myntassets.com/v1/assets/images...</td>\n",
              "    </tr>\n",
              "    <tr>\n",
              "      <th>1391</th>\n",
              "      <td>Pink</td>\n",
              "      <td>[http://assets.myntassets.com/v1/assets/images...</td>\n",
              "    </tr>\n",
              "    <tr>\n",
              "      <th>1392</th>\n",
              "      <td>Black</td>\n",
              "      <td>[http://assets.myntassets.com/v1/assets/images...</td>\n",
              "    </tr>\n",
              "  </tbody>\n",
              "</table>\n",
              "<p>1284 rows × 2 columns</p>\n",
              "</div>\n",
              "      <button class=\"colab-df-convert\" onclick=\"convertToInteractive('df-0644e444-fe1e-4d94-a0a1-f3054820363e')\"\n",
              "              title=\"Convert this dataframe to an interactive table.\"\n",
              "              style=\"display:none;\">\n",
              "        \n",
              "  <svg xmlns=\"http://www.w3.org/2000/svg\" height=\"24px\"viewBox=\"0 0 24 24\"\n",
              "       width=\"24px\">\n",
              "    <path d=\"M0 0h24v24H0V0z\" fill=\"none\"/>\n",
              "    <path d=\"M18.56 5.44l.94 2.06.94-2.06 2.06-.94-2.06-.94-.94-2.06-.94 2.06-2.06.94zm-11 1L8.5 8.5l.94-2.06 2.06-.94-2.06-.94L8.5 2.5l-.94 2.06-2.06.94zm10 10l.94 2.06.94-2.06 2.06-.94-2.06-.94-.94-2.06-.94 2.06-2.06.94z\"/><path d=\"M17.41 7.96l-1.37-1.37c-.4-.4-.92-.59-1.43-.59-.52 0-1.04.2-1.43.59L10.3 9.45l-7.72 7.72c-.78.78-.78 2.05 0 2.83L4 21.41c.39.39.9.59 1.41.59.51 0 1.02-.2 1.41-.59l7.78-7.78 2.81-2.81c.8-.78.8-2.07 0-2.86zM5.41 20L4 18.59l7.72-7.72 1.47 1.35L5.41 20z\"/>\n",
              "  </svg>\n",
              "      </button>\n",
              "      \n",
              "  <style>\n",
              "    .colab-df-container {\n",
              "      display:flex;\n",
              "      flex-wrap:wrap;\n",
              "      gap: 12px;\n",
              "    }\n",
              "\n",
              "    .colab-df-convert {\n",
              "      background-color: #E8F0FE;\n",
              "      border: none;\n",
              "      border-radius: 50%;\n",
              "      cursor: pointer;\n",
              "      display: none;\n",
              "      fill: #1967D2;\n",
              "      height: 32px;\n",
              "      padding: 0 0 0 0;\n",
              "      width: 32px;\n",
              "    }\n",
              "\n",
              "    .colab-df-convert:hover {\n",
              "      background-color: #E2EBFA;\n",
              "      box-shadow: 0px 1px 2px rgba(60, 64, 67, 0.3), 0px 1px 3px 1px rgba(60, 64, 67, 0.15);\n",
              "      fill: #174EA6;\n",
              "    }\n",
              "\n",
              "    [theme=dark] .colab-df-convert {\n",
              "      background-color: #3B4455;\n",
              "      fill: #D2E3FC;\n",
              "    }\n",
              "\n",
              "    [theme=dark] .colab-df-convert:hover {\n",
              "      background-color: #434B5C;\n",
              "      box-shadow: 0px 1px 3px 1px rgba(0, 0, 0, 0.15);\n",
              "      filter: drop-shadow(0px 1px 2px rgba(0, 0, 0, 0.3));\n",
              "      fill: #FFFFFF;\n",
              "    }\n",
              "  </style>\n",
              "\n",
              "      <script>\n",
              "        const buttonEl =\n",
              "          document.querySelector('#df-0644e444-fe1e-4d94-a0a1-f3054820363e button.colab-df-convert');\n",
              "        buttonEl.style.display =\n",
              "          google.colab.kernel.accessAllowed ? 'block' : 'none';\n",
              "\n",
              "        async function convertToInteractive(key) {\n",
              "          const element = document.querySelector('#df-0644e444-fe1e-4d94-a0a1-f3054820363e');\n",
              "          const dataTable =\n",
              "            await google.colab.kernel.invokeFunction('convertToInteractive',\n",
              "                                                     [key], {});\n",
              "          if (!dataTable) return;\n",
              "\n",
              "          const docLinkHtml = 'Like what you see? Visit the ' +\n",
              "            '<a target=\"_blank\" href=https://colab.research.google.com/notebooks/data_table.ipynb>data table notebook</a>'\n",
              "            + ' to learn more about interactive tables.';\n",
              "          element.innerHTML = '';\n",
              "          dataTable['output_type'] = 'display_data';\n",
              "          await google.colab.output.renderOutput(dataTable, element);\n",
              "          const docLink = document.createElement('div');\n",
              "          docLink.innerHTML = docLinkHtml;\n",
              "          element.appendChild(docLink);\n",
              "        }\n",
              "      </script>\n",
              "    </div>\n",
              "  </div>\n",
              "  "
            ]
          },
          "metadata": {},
          "execution_count": 49
        }
      ]
    },
    {
      "cell_type": "code",
      "source": [
        "filenames = [\"/content/images3/\" + str(fname) + \".jpg\" for fname in labels_csv.index]"
      ],
      "metadata": {
        "id": "mY3VaTwgjei_"
      },
      "execution_count": 71,
      "outputs": []
    },
    {
      "cell_type": "code",
      "source": [
        "filenames[:25]"
      ],
      "metadata": {
        "colab": {
          "base_uri": "https://localhost:8080/"
        },
        "id": "sYvgpZHDj3Wj",
        "outputId": "b21577e3-ac64-492b-aebc-53cd2682ff56"
      },
      "execution_count": 72,
      "outputs": [
        {
          "output_type": "execute_result",
          "data": {
            "text/plain": [
              "['/content/images3/0.jpg',\n",
              " '/content/images3/1.jpg',\n",
              " '/content/images3/2.jpg',\n",
              " '/content/images3/3.jpg',\n",
              " '/content/images3/4.jpg',\n",
              " '/content/images3/5.jpg',\n",
              " '/content/images3/6.jpg',\n",
              " '/content/images3/7.jpg',\n",
              " '/content/images3/8.jpg',\n",
              " '/content/images3/9.jpg',\n",
              " '/content/images3/10.jpg',\n",
              " '/content/images3/11.jpg',\n",
              " '/content/images3/12.jpg',\n",
              " '/content/images3/13.jpg',\n",
              " '/content/images3/14.jpg',\n",
              " '/content/images3/15.jpg',\n",
              " '/content/images3/16.jpg',\n",
              " '/content/images3/17.jpg',\n",
              " '/content/images3/18.jpg',\n",
              " '/content/images3/19.jpg',\n",
              " '/content/images3/21.jpg',\n",
              " '/content/images3/22.jpg',\n",
              " '/content/images3/23.jpg',\n",
              " '/content/images3/26.jpg',\n",
              " '/content/images3/27.jpg']"
            ]
          },
          "metadata": {},
          "execution_count": 72
        }
      ]
    },
    {
      "cell_type": "code",
      "source": [
        "if len(os.listdir(\"/content/images3/\")) == len(filenames):\n",
        "  print(\"Filenames match actual amount of files!\")\n",
        "else:\n",
        "  print(\"Filenames do not match actual amount of files, check the target directory.\")"
      ],
      "metadata": {
        "colab": {
          "base_uri": "https://localhost:8080/"
        },
        "id": "TCMTDSSom8Uo",
        "outputId": "95969d9e-3ea3-426a-aaad-53145393957c"
      },
      "execution_count": 73,
      "outputs": [
        {
          "output_type": "stream",
          "name": "stdout",
          "text": [
            "Filenames match actual amount of files!\n"
          ]
        }
      ]
    },
    {
      "cell_type": "code",
      "source": [
        "len(filenames)"
      ],
      "metadata": {
        "colab": {
          "base_uri": "https://localhost:8080/"
        },
        "id": "XWtPAs6ioyVj",
        "outputId": "052ea962-f6fa-4b9f-d774-97851699c098"
      },
      "execution_count": 74,
      "outputs": [
        {
          "output_type": "execute_result",
          "data": {
            "text/plain": [
              "1284"
            ]
          },
          "metadata": {},
          "execution_count": 74
        }
      ]
    },
    {
      "cell_type": "code",
      "source": [
        "filenames[1000]"
      ],
      "metadata": {
        "colab": {
          "base_uri": "https://localhost:8080/",
          "height": 36
        },
        "id": "3ldYeJWBo5x4",
        "outputId": "cd17f907-00e1-469d-8083-8870e830f796"
      },
      "execution_count": 75,
      "outputs": [
        {
          "output_type": "execute_result",
          "data": {
            "text/plain": [
              "'/content/images3/1073.jpg'"
            ],
            "application/vnd.google.colaboratory.intrinsic+json": {
              "type": "string"
            }
          },
          "metadata": {},
          "execution_count": 75
        }
      ]
    },
    {
      "cell_type": "code",
      "source": [
        "import tensorflow as tf\n",
        "import tensorflow_hub as hub"
      ],
      "metadata": {
        "id": "HfyJwgWEpWVM"
      },
      "execution_count": 80,
      "outputs": []
    },
    {
      "cell_type": "code",
      "source": [
        "import numpy as np\n",
        "labels = labels_csv[\"dominant_color\"].to_numpy() # convert labels column to NumPy array\n",
        "labels[:10]"
      ],
      "metadata": {
        "colab": {
          "base_uri": "https://localhost:8080/"
        },
        "id": "5bfb4ipypq-0",
        "outputId": "da2cc616-d171-4796-a811-4310615e6646"
      },
      "execution_count": 81,
      "outputs": [
        {
          "output_type": "execute_result",
          "data": {
            "text/plain": [
              "array(['Black', 'Black', 'White', 'Pink', 'Yellow', 'Beige', 'Green',\n",
              "       'Blue', 'Maroon', 'Orange'], dtype=object)"
            ]
          },
          "metadata": {},
          "execution_count": 81
        }
      ]
    },
    {
      "cell_type": "code",
      "source": [
        "if len(labels) == len(filenames):\n",
        "  print(\"Number of labels matches number of filenames!\")\n",
        "else:\n",
        "  print(\"Number of labels does not match number of filenames, check data directories.\")"
      ],
      "metadata": {
        "colab": {
          "base_uri": "https://localhost:8080/"
        },
        "id": "uLqgQHTBpy79",
        "outputId": "9d8e945c-3ada-4956-f9d1-83878fbe95f5"
      },
      "execution_count": 82,
      "outputs": [
        {
          "output_type": "stream",
          "name": "stdout",
          "text": [
            "Number of labels matches number of filenames!\n"
          ]
        }
      ]
    },
    {
      "cell_type": "code",
      "source": [
        "unique_breeds = np.unique(labels)\n",
        "len(unique_breeds)"
      ],
      "metadata": {
        "colab": {
          "base_uri": "https://localhost:8080/"
        },
        "id": "vbSBG26lqhyU",
        "outputId": "f6b71db4-ce19-43fc-db70-48cd322d3160"
      },
      "execution_count": 83,
      "outputs": [
        {
          "output_type": "execute_result",
          "data": {
            "text/plain": [
              "34"
            ]
          },
          "metadata": {},
          "execution_count": 83
        }
      ]
    },
    {
      "cell_type": "code",
      "source": [
        "print(labels[0])\n",
        "labels[0] == unique_breeds"
      ],
      "metadata": {
        "colab": {
          "base_uri": "https://localhost:8080/"
        },
        "id": "Gs9tW8Y6rAg4",
        "outputId": "dce14bf4-29ec-4e5f-cac5-75f5226a6e5c"
      },
      "execution_count": 84,
      "outputs": [
        {
          "output_type": "stream",
          "name": "stdout",
          "text": [
            "Black\n"
          ]
        },
        {
          "output_type": "execute_result",
          "data": {
            "text/plain": [
              "array([False,  True, False, False, False, False, False, False, False,\n",
              "       False, False, False, False, False, False, False, False, False,\n",
              "       False, False, False, False, False, False, False, False, False,\n",
              "       False, False, False, False, False, False, False])"
            ]
          },
          "metadata": {},
          "execution_count": 84
        }
      ]
    },
    {
      "cell_type": "code",
      "source": [
        "boolean_labels = [label == np.array(unique_breeds) for label in labels]\n",
        "boolean_labels[:2]"
      ],
      "metadata": {
        "colab": {
          "base_uri": "https://localhost:8080/"
        },
        "id": "INwMWe-grFO-",
        "outputId": "acde8073-a490-48c6-b7cd-0020219e5582"
      },
      "execution_count": 85,
      "outputs": [
        {
          "output_type": "execute_result",
          "data": {
            "text/plain": [
              "[array([False,  True, False, False, False, False, False, False, False,\n",
              "        False, False, False, False, False, False, False, False, False,\n",
              "        False, False, False, False, False, False, False, False, False,\n",
              "        False, False, False, False, False, False, False]),\n",
              " array([False,  True, False, False, False, False, False, False, False,\n",
              "        False, False, False, False, False, False, False, False, False,\n",
              "        False, False, False, False, False, False, False, False, False,\n",
              "        False, False, False, False, False, False, False])]"
            ]
          },
          "metadata": {},
          "execution_count": 85
        }
      ]
    },
    {
      "cell_type": "code",
      "source": [
        "print(labels[0]) # original label\n",
        "print(np.where(unique_breeds == labels[0])[0][0]) # index where label occurs\n",
        "print(boolean_labels[0].argmax()) # index where label occurs in boolean array\n",
        "print(boolean_labels[0].astype(int)) # there will be a 1 where the sample label occurs\n"
      ],
      "metadata": {
        "colab": {
          "base_uri": "https://localhost:8080/"
        },
        "id": "x8IetaedrKqN",
        "outputId": "c3f1dfd1-5a6c-4dd8-d45e-25aa32c33cb7"
      },
      "execution_count": 86,
      "outputs": [
        {
          "output_type": "stream",
          "name": "stdout",
          "text": [
            "Black\n",
            "1\n",
            "1\n",
            "[0 1 0 0 0 0 0 0 0 0 0 0 0 0 0 0 0 0 0 0 0 0 0 0 0 0 0 0 0 0 0 0 0 0]\n"
          ]
        }
      ]
    },
    {
      "cell_type": "code",
      "source": [
        "X = filenames\n",
        "y = boolean_labels"
      ],
      "metadata": {
        "id": "GPBt-b7hrUTy"
      },
      "execution_count": 87,
      "outputs": []
    },
    {
      "cell_type": "code",
      "source": [
        "IMG_SIZE = 224\n",
        "\n",
        "def process_image(image_path):\n",
        "  \"\"\"\n",
        "  Takes an image file path and turns it into a Tensor.\n",
        "  \"\"\"\n",
        "  # Read in image file\n",
        "  image = tf.io.read_file(image_path)\n",
        "  # Turn the jpeg image into numerical Tensor with 3 colour channels (Red, Green, Blue)\n",
        "  image = tf.image.decode_jpeg(image_path, channels=3)\n",
        "  # Convert the colour channel values from 0-225 values to 0-1 values\n",
        "  image = tf.image.convert_image_dtype(image, tf.float32)\n",
        "  # Resize the image to our desired size (224, 244)\n",
        "  image = tf.image.resize(image, size=[IMG_SIZE, IMG_SIZE])\n",
        "  return image"
      ],
      "metadata": {
        "id": "2HvzmXHlrZL3"
      },
      "execution_count": 136,
      "outputs": []
    },
    {
      "cell_type": "code",
      "source": [
        "def get_image_label(image_path, label):\n",
        "  \"\"\"\n",
        "  Takes an image file path name and the associated label,\n",
        "  processes the image and returns a tuple of (image, label).\n",
        "  \"\"\"\n",
        "  image = process_image(image_path)\n",
        "  return image, label"
      ],
      "metadata": {
        "id": "fMt5evpnrkea"
      },
      "execution_count": 89,
      "outputs": []
    },
    {
      "cell_type": "code",
      "source": [
        "# Define the batch size, 32 is a good default\n",
        "BATCH_SIZE = 32\n",
        "\n",
        "# Create a function to turn data into batches\n",
        "def create_data_batches(x, y=None, batch_size=BATCH_SIZE, valid_data=False, test_data=False):\n",
        "  \"\"\"\n",
        "  Creates batches of data out of image (x) and label (y) pairs.\n",
        "  Shuffles the data if it's training data but doesn't shuffle it if it's validation data.\n",
        "  Also accepts test data as input (no labels).\n",
        "  \"\"\"\n",
        "  # If the data is a test dataset, we probably don't have labels\n",
        "  if test_data:\n",
        "    print(\"Creating test data batches...\")\n",
        "    data = tf.data.Dataset.from_tensor_slices((tf.constant(x))) # only filepaths\n",
        "    data_batch = data.map(process_image).batch(BATCH_SIZE)\n",
        "    return data_batch\n",
        "  \n",
        "  # If the data if a valid dataset, we don't need to shuffle it\n",
        "  elif valid_data:\n",
        "    print(\"Creating validation data batches...\")\n",
        "    data = tf.data.Dataset.from_tensor_slices((tf.constant(x), # filepaths\n",
        "                                               tf.constant(y))) # labels\n",
        "    data_batch = data.map(get_image_label).batch(BATCH_SIZE)\n",
        "    return data_batch\n",
        "\n",
        "  else:\n",
        "    # If the data is a training dataset, we shuffle it\n",
        "    print(\"Creating training data batches...\")\n",
        "    # Turn filepaths and labels into Tensors\n",
        "    data = tf.data.Dataset.from_tensor_slices((tf.constant(x), # filepaths\n",
        "                                              tf.constant(y))) # labels\n",
        "    \n",
        "    # Shuffling pathnames and labels before mapping image processor function is faster than shuffling images\n",
        "    data = data.shuffle(buffer_size=len(x))\n",
        "\n",
        "    # Create (image, label) tuples (this also turns the image path into a preprocessed image)\n",
        "    data = data.map(get_image_label)\n",
        "\n",
        "    # Turn the data into batches\n",
        "    data_batch = data.batch(BATCH_SIZE)\n",
        "  return data_batch"
      ],
      "metadata": {
        "id": "66RGWQgMrqR3"
      },
      "execution_count": 90,
      "outputs": []
    },
    {
      "cell_type": "code",
      "source": [
        "train_data = create_data_batches(X, y)"
      ],
      "metadata": {
        "colab": {
          "base_uri": "https://localhost:8080/"
        },
        "id": "pzK6qCsjrxye",
        "outputId": "6ce3c90a-fc2a-44ff-c42b-892d240a52bb"
      },
      "execution_count": 91,
      "outputs": [
        {
          "output_type": "stream",
          "name": "stdout",
          "text": [
            "Creating training data batches...\n"
          ]
        }
      ]
    },
    {
      "cell_type": "code",
      "source": [
        "train_data.element_spec"
      ],
      "metadata": {
        "colab": {
          "base_uri": "https://localhost:8080/"
        },
        "id": "qBdgUDCnr8mB",
        "outputId": "294adc14-fb50-4a02-eb46-fbc1bd6ee1e1"
      },
      "execution_count": 92,
      "outputs": [
        {
          "output_type": "execute_result",
          "data": {
            "text/plain": [
              "(TensorSpec(shape=(None, 224, 224, 3), dtype=tf.float32, name=None),\n",
              " TensorSpec(shape=(None, 34), dtype=tf.bool, name=None))"
            ]
          },
          "metadata": {},
          "execution_count": 92
        }
      ]
    },
    {
      "cell_type": "code",
      "source": [
        "import matplotlib.pyplot as plt\n",
        "\n",
        "# Create a function for viewing images in a data batch\n",
        "def show_25_images(images, labels):\n",
        "  \"\"\"\n",
        "  Displays 25 images from a data batch.\n",
        "  \"\"\"\n",
        "  # Setup the figure\n",
        "  plt.figure(figsize=(10, 10))\n",
        "  # Loop through 25 (for displaying 25 images)\n",
        "  for i in range(25):\n",
        "    # Create subplots (5 rows, 5 columns)\n",
        "    ax = plt.subplot(5, 5, i+1)\n",
        "    # Display an image\n",
        "    plt.imshow(images[i])\n",
        "    # Add the image label as the title\n",
        "    plt.title(unique_breeds[labels[i].argmax()])\n",
        "    # Turn gird lines off\n",
        "    plt.axis(\"off\")"
      ],
      "metadata": {
        "id": "xGRnxbt9sCoh"
      },
      "execution_count": 93,
      "outputs": []
    },
    {
      "cell_type": "code",
      "source": [
        "# Visualize training images from the training data batch\n",
        "train_images, train_labels = next(train_data.as_numpy_iterator())\n",
        "show_25_images(train_images, train_labels)"
      ],
      "metadata": {
        "colab": {
          "base_uri": "https://localhost:8080/",
          "height": 591
        },
        "id": "VepyJ0ygsKjV",
        "outputId": "64db83fc-9f89-4cb8-d097-8bff01f21d9d"
      },
      "execution_count": 94,
      "outputs": [
        {
          "output_type": "display_data",
          "data": {
            "text/plain": [
              "<Figure size 720x720 with 25 Axes>"
            ],
            "image/png": "[encoded data removed]"
          },
          "metadata": {
            "needs_background": "light"
          }
        }
      ]
    },
    {
      "cell_type": "code",
      "source": [
        "# Setup input shape to the model\n",
        "INPUT_SHAPE = [None, IMG_SIZE, IMG_SIZE, 3] # batch, height, width, colour channels\n",
        "\n",
        "# Setup output shape of the model\n",
        "OUTPUT_SHAPE = len(unique_breeds) # number of unique labels\n",
        "\n",
        "# Setup model URL from TensorFlow Hub\n",
        "MODEL_URL = \"https://tfhub.dev/google/imagenet/mobilenet_v2_130_224/classification/4\""
      ],
      "metadata": {
        "id": "3-dcE7bRsNaY"
      },
      "execution_count": 95,
      "outputs": []
    },
    {
      "cell_type": "code",
      "source": [
        "# Create a function which builds a Keras model\n",
        "def create_model(input_shape=INPUT_SHAPE, output_shape=OUTPUT_SHAPE, model_url=MODEL_URL):\n",
        "  print(\"Building model with:\", MODEL_URL)\n",
        "\n",
        "  # Setup the model layers\n",
        "  model = tf.keras.Sequential([\n",
        "    hub.KerasLayer(MODEL_URL), # Layer 1 (input layer)\n",
        "    tf.keras.layers.Dense(units=OUTPUT_SHAPE, \n",
        "                          activation=\"softmax\") # Layer 2 (output layer)\n",
        "  ])\n",
        "\n",
        "  # Compile the model\n",
        "  model.compile(\n",
        "      loss=tf.keras.losses.CategoricalCrossentropy(), # Our model wants to reduce this (how wrong its guesses are)\n",
        "      optimizer=tf.keras.optimizers.Adam(), # A friend telling our model how to improve its guesses\n",
        "      metrics=[\"accuracy\"] # We'd like this to go up\n",
        "  )\n",
        "\n",
        "  # Build the model\n",
        "  model.build(INPUT_SHAPE) # Let the model know what kind of inputs it'll be getting\n",
        "  \n",
        "  return model"
      ],
      "metadata": {
        "id": "USATsmMqseDA"
      },
      "execution_count": 96,
      "outputs": []
    },
    {
      "cell_type": "code",
      "source": [
        "# Create a model and check its details\n",
        "model = create_model()\n",
        "model.summary()"
      ],
      "metadata": {
        "colab": {
          "base_uri": "https://localhost:8080/"
        },
        "id": "odXIoktkshKF",
        "outputId": "aaa6a2cb-4baf-4583-facf-3a30f86a63de"
      },
      "execution_count": 97,
      "outputs": [
        {
          "output_type": "stream",
          "name": "stdout",
          "text": [
            "Building model with: https://tfhub.dev/google/imagenet/mobilenet_v2_130_224/classification/4\n",
            "Model: \"sequential\"\n",
            "_________________________________________________________________\n",
            " Layer (type)                Output Shape              Param #   \n",
            "=================================================================\n",
            " keras_layer (KerasLayer)    (None, 1001)              5432713   \n",
            "                                                                 \n",
            " dense (Dense)               (None, 34)                34068     \n",
            "                                                                 \n",
            "=================================================================\n",
            "Total params: 5,466,781\n",
            "Trainable params: 34,068\n",
            "Non-trainable params: 5,432,713\n",
            "_________________________________________________________________\n"
          ]
        }
      ]
    },
    {
      "cell_type": "code",
      "source": [
        "# Create early stopping (once our model stops improving, stop training)\n",
        "early_stopping = tf.keras.callbacks.EarlyStopping(monitor=\"val_accuracy\",\n",
        "                                                  patience=3) # stops after 3 rounds of no improvements"
      ],
      "metadata": {
        "id": "VdOfVX-CspOg"
      },
      "execution_count": 98,
      "outputs": []
    },
    {
      "cell_type": "code",
      "source": [
        "print(\"GPU\", \"available (YESS!!!!)\" if tf.config.list_physical_devices(\"GPU\") else \"not available :(\")"
      ],
      "metadata": {
        "colab": {
          "base_uri": "https://localhost:8080/"
        },
        "id": "7pEcLRkxs7_E",
        "outputId": "20ace0c0-15b2-4000-c031-4e18f163c4d0"
      },
      "execution_count": 99,
      "outputs": [
        {
          "output_type": "stream",
          "name": "stdout",
          "text": [
            "GPU not available :(\n"
          ]
        }
      ]
    },
    {
      "cell_type": "code",
      "source": [
        "NUM_EPOCHS = 20 #@param {type:\"slider\", min:10, max:100, step:10}"
      ],
      "metadata": {
        "id": "OpfZUSZ0tHi5"
      },
      "execution_count": 101,
      "outputs": []
    },
    {
      "cell_type": "code",
      "source": [
        "# Build a function to train and return a trained model\n",
        "def train_model():\n",
        "  \"\"\"\n",
        "  Trains a given model and returns the trained version.\n",
        "  \"\"\"\n",
        "  # Create a model\n",
        "  model = create_model()\n",
        "\n",
        "  # Fit the model to the data passing it the callbacks we created\n",
        "  model.fit(x=train_data,\n",
        "            epochs=NUM_EPOCHS,\n",
        "            validation_data=train_data,\n",
        "            validation_freq=1, # check validation metrics every epoch\n",
        "            callbacks=[early_stopping])\n",
        "  \n",
        "  return model\n"
      ],
      "metadata": {
        "id": "ipjJ7xZntNfo"
      },
      "execution_count": 102,
      "outputs": []
    },
    {
      "cell_type": "code",
      "source": [
        "model = train_model()"
      ],
      "metadata": {
        "colab": {
          "base_uri": "https://localhost:8080/",
          "height": 1000
        },
        "id": "XPd-FO8Ntep5",
        "outputId": "a970a9d4-0f10-40f4-8f5c-3768917c02fb"
      },
      "execution_count": 103,
      "outputs": [
        {
          "output_type": "stream",
          "name": "stdout",
          "text": [
            "Building model with: https://tfhub.dev/google/imagenet/mobilenet_v2_130_224/classification/4\n",
            "Epoch 1/100\n",
            "41/41 [==============================] - 144s 3s/step - loss: 3.2206 - accuracy: 0.1690 - val_loss: 2.3056 - val_accuracy: 0.3357\n",
            "Epoch 2/100\n",
            "41/41 [==============================] - 132s 3s/step - loss: 2.1301 - accuracy: 0.3855 - val_loss: 1.7306 - val_accuracy: 0.4868\n",
            "Epoch 3/100\n",
            "41/41 [==============================] - 132s 3s/step - loss: 1.6953 - accuracy: 0.4914 - val_loss: 1.4192 - val_accuracy: 0.5927\n",
            "Epoch 4/100\n",
            "41/41 [==============================] - 134s 3s/step - loss: 1.4243 - accuracy: 0.5740 - val_loss: 1.2028 - val_accuracy: 0.6636\n",
            "Epoch 5/100\n",
            "41/41 [==============================] - 132s 3s/step - loss: 1.2296 - accuracy: 0.6433 - val_loss: 1.0370 - val_accuracy: 0.7243\n",
            "Epoch 6/100\n",
            "41/41 [==============================] - 132s 3s/step - loss: 1.0796 - accuracy: 0.6916 - val_loss: 0.9334 - val_accuracy: 0.7593\n",
            "Epoch 7/100\n",
            "41/41 [==============================] - 132s 3s/step - loss: 0.9724 - accuracy: 0.7383 - val_loss: 0.8444 - val_accuracy: 0.7710\n",
            "Epoch 8/100\n",
            "41/41 [==============================] - 133s 3s/step - loss: 0.8694 - accuracy: 0.7788 - val_loss: 0.7524 - val_accuracy: 0.8193\n",
            "Epoch 9/100\n",
            "41/41 [==============================] - 132s 3s/step - loss: 0.7994 - accuracy: 0.7936 - val_loss: 0.6856 - val_accuracy: 0.8357\n",
            "Epoch 10/100\n",
            "41/41 [==============================] - 132s 3s/step - loss: 0.7332 - accuracy: 0.8170 - val_loss: 0.6347 - val_accuracy: 0.8653\n",
            "Epoch 11/100\n",
            "41/41 [==============================] - 133s 3s/step - loss: 0.6774 - accuracy: 0.8427 - val_loss: 0.5905 - val_accuracy: 0.8777\n",
            "Epoch 12/100\n",
            "41/41 [==============================] - 132s 3s/step - loss: 0.6285 - accuracy: 0.8505 - val_loss: 0.5389 - val_accuracy: 0.8933\n",
            "Epoch 13/100\n",
            "41/41 [==============================] - 132s 3s/step - loss: 0.5710 - accuracy: 0.8660 - val_loss: 0.4917 - val_accuracy: 0.9097\n",
            "Epoch 14/100\n",
            "41/41 [==============================] - 132s 3s/step - loss: 0.5401 - accuracy: 0.8808 - val_loss: 0.4808 - val_accuracy: 0.9019\n",
            "Epoch 15/100\n",
            "41/41 [==============================] - 133s 3s/step - loss: 0.5093 - accuracy: 0.8956 - val_loss: 0.4288 - val_accuracy: 0.9260\n",
            "Epoch 16/100\n",
            "41/41 [==============================] - 132s 3s/step - loss: 0.4594 - accuracy: 0.9136 - val_loss: 0.4020 - val_accuracy: 0.9330\n",
            "Epoch 17/100\n",
            "41/41 [==============================] - 132s 3s/step - loss: 0.4359 - accuracy: 0.9245 - val_loss: 0.3790 - val_accuracy: 0.9470\n",
            "Epoch 18/100\n",
            "41/41 [==============================] - 132s 3s/step - loss: 0.4071 - accuracy: 0.9268 - val_loss: 0.3708 - val_accuracy: 0.9377\n",
            "Epoch 19/100\n",
            "41/41 [==============================] - 134s 3s/step - loss: 0.3856 - accuracy: 0.9361 - val_loss: 0.3430 - val_accuracy: 0.9548\n",
            "Epoch 20/100\n",
            "41/41 [==============================] - 132s 3s/step - loss: 0.3762 - accuracy: 0.9315 - val_loss: 0.3166 - val_accuracy: 0.9618\n",
            "Epoch 21/100\n",
            "41/41 [==============================] - 132s 3s/step - loss: 0.3457 - accuracy: 0.9431 - val_loss: 0.3050 - val_accuracy: 0.9642\n",
            "Epoch 22/100\n",
            "41/41 [==============================] - 132s 3s/step - loss: 0.3325 - accuracy: 0.9494 - val_loss: 0.2818 - val_accuracy: 0.9735\n",
            "Epoch 23/100\n",
            "41/41 [==============================] - 132s 3s/step - loss: 0.3071 - accuracy: 0.9595 - val_loss: 0.2815 - val_accuracy: 0.9650\n",
            "Epoch 24/100\n",
            "41/41 [==============================] - 132s 3s/step - loss: 0.3026 - accuracy: 0.9533 - val_loss: 0.2557 - val_accuracy: 0.9774\n",
            "Epoch 25/100\n",
            "41/41 [==============================] - 132s 3s/step - loss: 0.2801 - accuracy: 0.9704 - val_loss: 0.2411 - val_accuracy: 0.9790\n",
            "Epoch 26/100\n",
            "41/41 [==============================] - 133s 3s/step - loss: 0.2675 - accuracy: 0.9688 - val_loss: 0.2324 - val_accuracy: 0.9813\n",
            "Epoch 27/100\n",
            "41/41 [==============================] - 133s 3s/step - loss: 0.2395 - accuracy: 0.9790 - val_loss: 0.2240 - val_accuracy: 0.9868\n",
            "Epoch 28/100\n",
            "41/41 [==============================] - 133s 3s/step - loss: 0.2314 - accuracy: 0.9821 - val_loss: 0.2069 - val_accuracy: 0.9875\n",
            "Epoch 29/100\n",
            "41/41 [==============================] - 133s 3s/step - loss: 0.2199 - accuracy: 0.9798 - val_loss: 0.1949 - val_accuracy: 0.9914\n",
            "Epoch 30/100\n",
            "41/41 [==============================] - 143s 4s/step - loss: 0.2124 - accuracy: 0.9860 - val_loss: 0.1859 - val_accuracy: 0.9938\n",
            "Epoch 31/100\n"
          ]
        },
        {
          "output_type": "error",
          "ename": "KeyboardInterrupt",
          "evalue": "ignored",
          "traceback": [
            "\u001b[0;31m---------------------------------------------------------------------------\u001b[0m",
            "\u001b[0;31mKeyboardInterrupt\u001b[0m                         Traceback (most recent call last)",
            "\u001b[0;32m<ipython-input-103-84f31b599995>\u001b[0m in \u001b[0;36m<module>\u001b[0;34m()\u001b[0m\n\u001b[0;32m----> 1\u001b[0;31m \u001b[0mmodel\u001b[0m \u001b[0;34m=\u001b[0m \u001b[0mtrain_model\u001b[0m\u001b[0;34m(\u001b[0m\u001b[0;34m)\u001b[0m\u001b[0;34m\u001b[0m\u001b[0;34m\u001b[0m\u001b[0m\n\u001b[0m",
            "\u001b[0;32m<ipython-input-102-250834d43909>\u001b[0m in \u001b[0;36mtrain_model\u001b[0;34m()\u001b[0m\n\u001b[1;32m     12\u001b[0m             \u001b[0mvalidation_data\u001b[0m\u001b[0;34m=\u001b[0m\u001b[0mtrain_data\u001b[0m\u001b[0;34m,\u001b[0m\u001b[0;34m\u001b[0m\u001b[0;34m\u001b[0m\u001b[0m\n\u001b[1;32m     13\u001b[0m             \u001b[0mvalidation_freq\u001b[0m\u001b[0;34m=\u001b[0m\u001b[0;36m1\u001b[0m\u001b[0;34m,\u001b[0m \u001b[0;31m# check validation metrics every epoch\u001b[0m\u001b[0;34m\u001b[0m\u001b[0;34m\u001b[0m\u001b[0m\n\u001b[0;32m---> 14\u001b[0;31m             callbacks=[early_stopping])\n\u001b[0m\u001b[1;32m     15\u001b[0m \u001b[0;34m\u001b[0m\u001b[0m\n\u001b[1;32m     16\u001b[0m   \u001b[0;32mreturn\u001b[0m \u001b[0mmodel\u001b[0m\u001b[0;34m\u001b[0m\u001b[0;34m\u001b[0m\u001b[0m\n",
            "\u001b[0;32m/usr/local/lib/python3.7/dist-packages/keras/utils/traceback_utils.py\u001b[0m in \u001b[0;36merror_handler\u001b[0;34m(*args, **kwargs)\u001b[0m\n\u001b[1;32m     62\u001b[0m     \u001b[0mfiltered_tb\u001b[0m \u001b[0;34m=\u001b[0m \u001b[0;32mNone\u001b[0m\u001b[0;34m\u001b[0m\u001b[0;34m\u001b[0m\u001b[0m\n\u001b[1;32m     63\u001b[0m     \u001b[0;32mtry\u001b[0m\u001b[0;34m:\u001b[0m\u001b[0;34m\u001b[0m\u001b[0;34m\u001b[0m\u001b[0m\n\u001b[0;32m---> 64\u001b[0;31m       \u001b[0;32mreturn\u001b[0m \u001b[0mfn\u001b[0m\u001b[0;34m(\u001b[0m\u001b[0;34m*\u001b[0m\u001b[0margs\u001b[0m\u001b[0;34m,\u001b[0m \u001b[0;34m**\u001b[0m\u001b[0mkwargs\u001b[0m\u001b[0;34m)\u001b[0m\u001b[0;34m\u001b[0m\u001b[0;34m\u001b[0m\u001b[0m\n\u001b[0m\u001b[1;32m     65\u001b[0m     \u001b[0;32mexcept\u001b[0m \u001b[0mException\u001b[0m \u001b[0;32mas\u001b[0m \u001b[0me\u001b[0m\u001b[0;34m:\u001b[0m  \u001b[0;31m# pylint: disable=broad-except\u001b[0m\u001b[0;34m\u001b[0m\u001b[0;34m\u001b[0m\u001b[0m\n\u001b[1;32m     66\u001b[0m       \u001b[0mfiltered_tb\u001b[0m \u001b[0;34m=\u001b[0m \u001b[0m_process_traceback_frames\u001b[0m\u001b[0;34m(\u001b[0m\u001b[0me\u001b[0m\u001b[0;34m.\u001b[0m\u001b[0m__traceback__\u001b[0m\u001b[0;34m)\u001b[0m\u001b[0;34m\u001b[0m\u001b[0;34m\u001b[0m\u001b[0m\n",
            "\u001b[0;32m/usr/local/lib/python3.7/dist-packages/keras/engine/training.py\u001b[0m in \u001b[0;36mfit\u001b[0;34m(self, x, y, batch_size, epochs, verbose, callbacks, validation_split, validation_data, shuffle, class_weight, sample_weight, initial_epoch, steps_per_epoch, validation_steps, validation_batch_size, validation_freq, max_queue_size, workers, use_multiprocessing)\u001b[0m\n\u001b[1;32m   1382\u001b[0m                 _r=1):\n\u001b[1;32m   1383\u001b[0m               \u001b[0mcallbacks\u001b[0m\u001b[0;34m.\u001b[0m\u001b[0mon_train_batch_begin\u001b[0m\u001b[0;34m(\u001b[0m\u001b[0mstep\u001b[0m\u001b[0;34m)\u001b[0m\u001b[0;34m\u001b[0m\u001b[0;34m\u001b[0m\u001b[0m\n\u001b[0;32m-> 1384\u001b[0;31m               \u001b[0mtmp_logs\u001b[0m \u001b[0;34m=\u001b[0m \u001b[0mself\u001b[0m\u001b[0;34m.\u001b[0m\u001b[0mtrain_function\u001b[0m\u001b[0;34m(\u001b[0m\u001b[0miterator\u001b[0m\u001b[0;34m)\u001b[0m\u001b[0;34m\u001b[0m\u001b[0;34m\u001b[0m\u001b[0m\n\u001b[0m\u001b[1;32m   1385\u001b[0m               \u001b[0;32mif\u001b[0m \u001b[0mdata_handler\u001b[0m\u001b[0;34m.\u001b[0m\u001b[0mshould_sync\u001b[0m\u001b[0;34m:\u001b[0m\u001b[0;34m\u001b[0m\u001b[0;34m\u001b[0m\u001b[0m\n\u001b[1;32m   1386\u001b[0m                 \u001b[0mcontext\u001b[0m\u001b[0;34m.\u001b[0m\u001b[0masync_wait\u001b[0m\u001b[0;34m(\u001b[0m\u001b[0;34m)\u001b[0m\u001b[0;34m\u001b[0m\u001b[0;34m\u001b[0m\u001b[0m\n",
            "\u001b[0;32m/usr/local/lib/python3.7/dist-packages/tensorflow/python/util/traceback_utils.py\u001b[0m in \u001b[0;36merror_handler\u001b[0;34m(*args, **kwargs)\u001b[0m\n\u001b[1;32m    148\u001b[0m     \u001b[0mfiltered_tb\u001b[0m \u001b[0;34m=\u001b[0m \u001b[0;32mNone\u001b[0m\u001b[0;34m\u001b[0m\u001b[0;34m\u001b[0m\u001b[0m\n\u001b[1;32m    149\u001b[0m     \u001b[0;32mtry\u001b[0m\u001b[0;34m:\u001b[0m\u001b[0;34m\u001b[0m\u001b[0;34m\u001b[0m\u001b[0m\n\u001b[0;32m--> 150\u001b[0;31m       \u001b[0;32mreturn\u001b[0m \u001b[0mfn\u001b[0m\u001b[0;34m(\u001b[0m\u001b[0;34m*\u001b[0m\u001b[0margs\u001b[0m\u001b[0;34m,\u001b[0m \u001b[0;34m**\u001b[0m\u001b[0mkwargs\u001b[0m\u001b[0;34m)\u001b[0m\u001b[0;34m\u001b[0m\u001b[0;34m\u001b[0m\u001b[0m\n\u001b[0m\u001b[1;32m    151\u001b[0m     \u001b[0;32mexcept\u001b[0m \u001b[0mException\u001b[0m \u001b[0;32mas\u001b[0m \u001b[0me\u001b[0m\u001b[0;34m:\u001b[0m\u001b[0;34m\u001b[0m\u001b[0;34m\u001b[0m\u001b[0m\n\u001b[1;32m    152\u001b[0m       \u001b[0mfiltered_tb\u001b[0m \u001b[0;34m=\u001b[0m \u001b[0m_process_traceback_frames\u001b[0m\u001b[0;34m(\u001b[0m\u001b[0me\u001b[0m\u001b[0;34m.\u001b[0m\u001b[0m__traceback__\u001b[0m\u001b[0;34m)\u001b[0m\u001b[0;34m\u001b[0m\u001b[0;34m\u001b[0m\u001b[0m\n",
            "\u001b[0;32m/usr/local/lib/python3.7/dist-packages/tensorflow/python/eager/def_function.py\u001b[0m in \u001b[0;36m__call__\u001b[0;34m(self, *args, **kwds)\u001b[0m\n\u001b[1;32m    913\u001b[0m \u001b[0;34m\u001b[0m\u001b[0m\n\u001b[1;32m    914\u001b[0m       \u001b[0;32mwith\u001b[0m \u001b[0mOptionalXlaContext\u001b[0m\u001b[0;34m(\u001b[0m\u001b[0mself\u001b[0m\u001b[0;34m.\u001b[0m\u001b[0m_jit_compile\u001b[0m\u001b[0;34m)\u001b[0m\u001b[0;34m:\u001b[0m\u001b[0;34m\u001b[0m\u001b[0;34m\u001b[0m\u001b[0m\n\u001b[0;32m--> 915\u001b[0;31m         \u001b[0mresult\u001b[0m \u001b[0;34m=\u001b[0m \u001b[0mself\u001b[0m\u001b[0;34m.\u001b[0m\u001b[0m_call\u001b[0m\u001b[0;34m(\u001b[0m\u001b[0;34m*\u001b[0m\u001b[0margs\u001b[0m\u001b[0;34m,\u001b[0m \u001b[0;34m**\u001b[0m\u001b[0mkwds\u001b[0m\u001b[0;34m)\u001b[0m\u001b[0;34m\u001b[0m\u001b[0;34m\u001b[0m\u001b[0m\n\u001b[0m\u001b[1;32m    916\u001b[0m \u001b[0;34m\u001b[0m\u001b[0m\n\u001b[1;32m    917\u001b[0m       \u001b[0mnew_tracing_count\u001b[0m \u001b[0;34m=\u001b[0m \u001b[0mself\u001b[0m\u001b[0;34m.\u001b[0m\u001b[0mexperimental_get_tracing_count\u001b[0m\u001b[0;34m(\u001b[0m\u001b[0;34m)\u001b[0m\u001b[0;34m\u001b[0m\u001b[0;34m\u001b[0m\u001b[0m\n",
            "\u001b[0;32m/usr/local/lib/python3.7/dist-packages/tensorflow/python/eager/def_function.py\u001b[0m in \u001b[0;36m_call\u001b[0;34m(self, *args, **kwds)\u001b[0m\n\u001b[1;32m    945\u001b[0m       \u001b[0;31m# In this case we have created variables on the first call, so we run the\u001b[0m\u001b[0;34m\u001b[0m\u001b[0;34m\u001b[0m\u001b[0;34m\u001b[0m\u001b[0m\n\u001b[1;32m    946\u001b[0m       \u001b[0;31m# defunned version which is guaranteed to never create variables.\u001b[0m\u001b[0;34m\u001b[0m\u001b[0;34m\u001b[0m\u001b[0;34m\u001b[0m\u001b[0m\n\u001b[0;32m--> 947\u001b[0;31m       \u001b[0;32mreturn\u001b[0m \u001b[0mself\u001b[0m\u001b[0;34m.\u001b[0m\u001b[0m_stateless_fn\u001b[0m\u001b[0;34m(\u001b[0m\u001b[0;34m*\u001b[0m\u001b[0margs\u001b[0m\u001b[0;34m,\u001b[0m \u001b[0;34m**\u001b[0m\u001b[0mkwds\u001b[0m\u001b[0;34m)\u001b[0m  \u001b[0;31m# pylint: disable=not-callable\u001b[0m\u001b[0;34m\u001b[0m\u001b[0;34m\u001b[0m\u001b[0m\n\u001b[0m\u001b[1;32m    948\u001b[0m     \u001b[0;32melif\u001b[0m \u001b[0mself\u001b[0m\u001b[0;34m.\u001b[0m\u001b[0m_stateful_fn\u001b[0m \u001b[0;32mis\u001b[0m \u001b[0;32mnot\u001b[0m \u001b[0;32mNone\u001b[0m\u001b[0;34m:\u001b[0m\u001b[0;34m\u001b[0m\u001b[0;34m\u001b[0m\u001b[0m\n\u001b[1;32m    949\u001b[0m       \u001b[0;31m# Release the lock early so that multiple threads can perform the call\u001b[0m\u001b[0;34m\u001b[0m\u001b[0;34m\u001b[0m\u001b[0;34m\u001b[0m\u001b[0m\n",
            "\u001b[0;32m/usr/local/lib/python3.7/dist-packages/tensorflow/python/eager/function.py\u001b[0m in \u001b[0;36m__call__\u001b[0;34m(self, *args, **kwargs)\u001b[0m\n\u001b[1;32m   2955\u001b[0m        filtered_flat_args) = self._maybe_define_function(args, kwargs)\n\u001b[1;32m   2956\u001b[0m     return graph_function._call_flat(\n\u001b[0;32m-> 2957\u001b[0;31m         filtered_flat_args, captured_inputs=graph_function.captured_inputs)  # pylint: disable=protected-access\n\u001b[0m\u001b[1;32m   2958\u001b[0m \u001b[0;34m\u001b[0m\u001b[0m\n\u001b[1;32m   2959\u001b[0m   \u001b[0;34m@\u001b[0m\u001b[0mproperty\u001b[0m\u001b[0;34m\u001b[0m\u001b[0;34m\u001b[0m\u001b[0m\n",
            "\u001b[0;32m/usr/local/lib/python3.7/dist-packages/tensorflow/python/eager/function.py\u001b[0m in \u001b[0;36m_call_flat\u001b[0;34m(self, args, captured_inputs, cancellation_manager)\u001b[0m\n\u001b[1;32m   1852\u001b[0m       \u001b[0;31m# No tape is watching; skip to running the function.\u001b[0m\u001b[0;34m\u001b[0m\u001b[0;34m\u001b[0m\u001b[0;34m\u001b[0m\u001b[0m\n\u001b[1;32m   1853\u001b[0m       return self._build_call_outputs(self._inference_function.call(\n\u001b[0;32m-> 1854\u001b[0;31m           ctx, args, cancellation_manager=cancellation_manager))\n\u001b[0m\u001b[1;32m   1855\u001b[0m     forward_backward = self._select_forward_and_backward_functions(\n\u001b[1;32m   1856\u001b[0m         \u001b[0margs\u001b[0m\u001b[0;34m,\u001b[0m\u001b[0;34m\u001b[0m\u001b[0;34m\u001b[0m\u001b[0m\n",
            "\u001b[0;32m/usr/local/lib/python3.7/dist-packages/tensorflow/python/eager/function.py\u001b[0m in \u001b[0;36mcall\u001b[0;34m(self, ctx, args, cancellation_manager)\u001b[0m\n\u001b[1;32m    502\u001b[0m               \u001b[0minputs\u001b[0m\u001b[0;34m=\u001b[0m\u001b[0margs\u001b[0m\u001b[0;34m,\u001b[0m\u001b[0;34m\u001b[0m\u001b[0;34m\u001b[0m\u001b[0m\n\u001b[1;32m    503\u001b[0m               \u001b[0mattrs\u001b[0m\u001b[0;34m=\u001b[0m\u001b[0mattrs\u001b[0m\u001b[0;34m,\u001b[0m\u001b[0;34m\u001b[0m\u001b[0;34m\u001b[0m\u001b[0m\n\u001b[0;32m--> 504\u001b[0;31m               ctx=ctx)\n\u001b[0m\u001b[1;32m    505\u001b[0m         \u001b[0;32melse\u001b[0m\u001b[0;34m:\u001b[0m\u001b[0;34m\u001b[0m\u001b[0;34m\u001b[0m\u001b[0m\n\u001b[1;32m    506\u001b[0m           outputs = execute.execute_with_cancellation(\n",
            "\u001b[0;32m/usr/local/lib/python3.7/dist-packages/tensorflow/python/eager/execute.py\u001b[0m in \u001b[0;36mquick_execute\u001b[0;34m(op_name, num_outputs, inputs, attrs, ctx, name)\u001b[0m\n\u001b[1;32m     53\u001b[0m     \u001b[0mctx\u001b[0m\u001b[0;34m.\u001b[0m\u001b[0mensure_initialized\u001b[0m\u001b[0;34m(\u001b[0m\u001b[0;34m)\u001b[0m\u001b[0;34m\u001b[0m\u001b[0;34m\u001b[0m\u001b[0m\n\u001b[1;32m     54\u001b[0m     tensors = pywrap_tfe.TFE_Py_Execute(ctx._handle, device_name, op_name,\n\u001b[0;32m---> 55\u001b[0;31m                                         inputs, attrs, num_outputs)\n\u001b[0m\u001b[1;32m     56\u001b[0m   \u001b[0;32mexcept\u001b[0m \u001b[0mcore\u001b[0m\u001b[0;34m.\u001b[0m\u001b[0m_NotOkStatusException\u001b[0m \u001b[0;32mas\u001b[0m \u001b[0me\u001b[0m\u001b[0;34m:\u001b[0m\u001b[0;34m\u001b[0m\u001b[0;34m\u001b[0m\u001b[0m\n\u001b[1;32m     57\u001b[0m     \u001b[0;32mif\u001b[0m \u001b[0mname\u001b[0m \u001b[0;32mis\u001b[0m \u001b[0;32mnot\u001b[0m \u001b[0;32mNone\u001b[0m\u001b[0;34m:\u001b[0m\u001b[0;34m\u001b[0m\u001b[0;34m\u001b[0m\u001b[0m\n",
            "\u001b[0;31mKeyboardInterrupt\u001b[0m: "
          ]
        }
      ]
    },
    {
      "cell_type": "code",
      "source": [
        "def save_model(model, suffix=None):\n",
        "  \"\"\"\n",
        "  Saves a given model in a models directory and appends a suffix (str)\n",
        "  for clarity and reuse.\n",
        "  \"\"\"\n",
        "  modeldir = os.path.join(\"content/\")\n",
        "  model_path = modeldir + suffix + \".h5\" # save format of model\n",
        "  print(f\"Saving model to: {model_path}...\")\n",
        "  model.save(model_path)\n",
        "  return model_path"
      ],
      "metadata": {
        "id": "BG7x81WYtiWo"
      },
      "execution_count": 112,
      "outputs": []
    },
    {
      "cell_type": "code",
      "source": [
        "def load_model(model_path):\n",
        "  \"\"\"\n",
        "  Loads a saved model from a specified path.\n",
        "  \"\"\"\n",
        "  print(f\"Loading saved model from: {model_path}\")\n",
        "  model = tf.keras.models.load_model(model_path,\n",
        "                                     custom_objects={\"KerasLayer\":hub.KerasLayer})\n",
        "  return model"
      ],
      "metadata": {
        "id": "789Unc9M9lyw"
      },
      "execution_count": 113,
      "outputs": []
    },
    {
      "cell_type": "code",
      "source": [
        "save_model(model,suffix = \"color_classify\")"
      ],
      "metadata": {
        "colab": {
          "base_uri": "https://localhost:8080/",
          "height": 53
        },
        "id": "BWGTvRf29mWy",
        "outputId": "220e20fd-034e-4451-89a9-2b62de94ae73"
      },
      "execution_count": 114,
      "outputs": [
        {
          "output_type": "stream",
          "name": "stdout",
          "text": [
            "Saving model to: content/color_classify.h5...\n"
          ]
        },
        {
          "output_type": "execute_result",
          "data": {
            "text/plain": [
              "'content/color_classify.h5'"
            ],
            "application/vnd.google.colaboratory.intrinsic+json": {
              "type": "string"
            }
          },
          "metadata": {},
          "execution_count": 114
        }
      ]
    },
    {
      "cell_type": "code",
      "source": [
        "model_1000_images = load_model('drive/My Drive/Data/models/20200131-02551580439347-1000-images-Adam.h5')"
      ],
      "metadata": {
        "colab": {
          "base_uri": "https://localhost:8080/"
        },
        "id": "y0FXW4uC9pLW",
        "outputId": "2af287c1-cb15-4b14-bbe2-2d82ddd68607"
      },
      "execution_count": 115,
      "outputs": [
        {
          "output_type": "stream",
          "name": "stdout",
          "text": [
            "Loading saved model from: /content/content/color_classify.h5\n"
          ]
        }
      ]
    },
    {
      "cell_type": "code",
      "source": [
        "predictions = model.predict(train_data,verbose=1) # verbose shows us how long there is to go\n",
        "predictions"
      ],
      "metadata": {
        "colab": {
          "base_uri": "https://localhost:8080/"
        },
        "id": "4OJNupmi-35k",
        "outputId": "369c38ac-369b-4fd6-fd28-51d541cf7e08"
      },
      "execution_count": 118,
      "outputs": [
        {
          "output_type": "stream",
          "name": "stdout",
          "text": [
            "41/41 [==============================] - 88s 2s/step\n"
          ]
        },
        {
          "output_type": "execute_result",
          "data": {
            "text/plain": [
              "array([[0.01549911, 0.00233845, 0.00426912, ..., 0.00621419, 0.06000454,\n",
              "        0.0059349 ],\n",
              "       [0.00458862, 0.00172804, 0.00151319, ..., 0.00172075, 0.05147793,\n",
              "        0.01119268],\n",
              "       [0.03352898, 0.01098779, 0.01111539, ..., 0.00287375, 0.03158239,\n",
              "        0.00081429],\n",
              "       ...,\n",
              "       [0.0132769 , 0.01116463, 0.00049563, ..., 0.00416241, 0.02324221,\n",
              "        0.00020692],\n",
              "       [0.00406575, 0.00527205, 0.00079899, ..., 0.00131947, 0.03762125,\n",
              "        0.00107847],\n",
              "       [0.00593687, 0.00627458, 0.00990905, ..., 0.00974834, 0.10657625,\n",
              "        0.00304703]], dtype=float32)"
            ]
          },
          "metadata": {},
          "execution_count": 118
        }
      ]
    },
    {
      "cell_type": "code",
      "source": [
        "train_data"
      ],
      "metadata": {
        "colab": {
          "base_uri": "https://localhost:8080/"
        },
        "id": "TeigDOzMjedZ",
        "outputId": "8bb0e6a8-d7c4-4cca-9e9b-f01fbe3802af"
      },
      "execution_count": 121,
      "outputs": [
        {
          "output_type": "execute_result",
          "data": {
            "text/plain": [
              "<BatchDataset element_spec=(TensorSpec(shape=(None, 224, 224, 3), dtype=tf.float32, name=None), TensorSpec(shape=(None, 34), dtype=tf.bool, name=None))>"
            ]
          },
          "metadata": {},
          "execution_count": 121
        }
      ]
    },
    {
      "cell_type": "code",
      "source": [
        "# First prediction\n",
        "print(predictions[0])\n",
        "print(f\"Max value (probability of prediction): {np.max(predictions[0])}\") # the max probability value predicted by the model\n",
        "print(f\"Sum: {np.sum(predictions[0])}\") # because we used softmax activation in our model, this will be close to 1\n",
        "print(f\"Max index: {np.argmax(predictions[0])}\") # the index of where the max value in predictions[0] occurs\n",
        "print(f\"Predicted label: {unique_breeds[np.argmax(predictions[0])]}\") # the predicted label"
      ],
      "metadata": {
        "colab": {
          "base_uri": "https://localhost:8080/"
        },
        "id": "hN1earoAiWPx",
        "outputId": "0aa24d88-21af-4315-f43d-633de344bc47"
      },
      "execution_count": 119,
      "outputs": [
        {
          "output_type": "stream",
          "name": "stdout",
          "text": [
            "[0.01549911 0.00233845 0.00426912 0.04887501 0.00101679 0.00778659\n",
            " 0.02252596 0.09249346 0.09322797 0.0066669  0.0321996  0.00513215\n",
            " 0.00341003 0.02599544 0.00456131 0.03610251 0.00343651 0.02303772\n",
            " 0.01685751 0.02786142 0.06341406 0.0670251  0.00460006 0.00128062\n",
            " 0.02859221 0.00467468 0.00853814 0.00537511 0.00819055 0.25156888\n",
            " 0.01129339 0.00621419 0.06000454 0.0059349 ]\n",
            "Max value (probability of prediction): 0.25156888365745544\n",
            "Sum: 0.9999999403953552\n",
            "Max index: 29\n",
            "Predicted label: Taupe\n"
          ]
        }
      ]
    },
    {
      "cell_type": "code",
      "source": [
        "def get_pred_label(prediction_probabilities):\n",
        "  return unique_breeds[np.argmax(prediction_probabilities)]"
      ],
      "metadata": {
        "id": "2zeySDlOjLsr"
      },
      "execution_count": 150,
      "outputs": []
    },
    {
      "cell_type": "code",
      "source": [
        "def process_image(image_path):\n",
        "  \"\"\"\n",
        "  Takes an image file path and turns it into a Tensor.\n",
        "  \"\"\"\n",
        "  # Read in image file\n",
        "  image = tf.io.read_file(image_path)\n",
        "  # Turn the jpeg image into numerical Tensor with 3 colour channels (Red, Green, Blue)\n",
        "  image = tf.image.decode_jpeg(image, channels=3)\n",
        "  # Convert the colour channel values from 0-225 values to 0-1 values\n",
        "  image = tf.image.convert_image_dtype(image, tf.float32)\n",
        "  # Resize the image to our desired size (224, 244)\n",
        "  image = tf.image.resize(image, size=[IMG_SIZE, IMG_SIZE])\n",
        "  return image"
      ],
      "metadata": {
        "id": "Ui6q1_rvqHQM"
      },
      "execution_count": 149,
      "outputs": []
    },
    {
      "cell_type": "code",
      "source": [
        "x= []\n",
        "x.append('/content/images3/100.jpg')\n",
        "x"
      ],
      "metadata": {
        "colab": {
          "base_uri": "https://localhost:8080/"
        },
        "id": "AOsdBWyLlw_L",
        "outputId": "17f6dee0-2d90-4298-ea77-5a123784fb17"
      },
      "execution_count": 151,
      "outputs": [
        {
          "output_type": "execute_result",
          "data": {
            "text/plain": [
              "['/content/images3/100.jpg']"
            ]
          },
          "metadata": {},
          "execution_count": 151
        }
      ]
    },
    {
      "cell_type": "code",
      "source": [
        "data = tf.data.Dataset.from_tensor_slices((tf.constant(x))) # only filepaths\n",
        "data_batch = data.map(process_image).batch(32)"
      ],
      "metadata": {
        "id": "ctS_kl1vl7Ru"
      },
      "execution_count": 152,
      "outputs": []
    },
    {
      "cell_type": "code",
      "source": [
        "prediction = model.predict(data_batch)\n",
        "prediction"
      ],
      "metadata": {
        "colab": {
          "base_uri": "https://localhost:8080/"
        },
        "id": "nxyn-5e2jX4F",
        "outputId": "0ba83605-776d-40bb-84dc-768b79d566e1"
      },
      "execution_count": 153,
      "outputs": [
        {
          "output_type": "execute_result",
          "data": {
            "text/plain": [
              "array([[0.00791193, 0.0341369 , 0.00529595, 0.01503494, 0.00745206,\n",
              "        0.01450666, 0.03153631, 0.0965206 , 0.00662169, 0.00638788,\n",
              "        0.0584308 , 0.00904304, 0.0108305 , 0.16281325, 0.02048245,\n",
              "        0.01913015, 0.07317558, 0.00443957, 0.01367239, 0.09494597,\n",
              "        0.00766861, 0.02215812, 0.00247354, 0.00387457, 0.00245019,\n",
              "        0.00180841, 0.01376046, 0.0667503 , 0.02326269, 0.05182996,\n",
              "        0.00446798, 0.06906147, 0.016422  , 0.02164307]], dtype=float32)"
            ]
          },
          "metadata": {},
          "execution_count": 153
        }
      ]
    },
    {
      "cell_type": "code",
      "source": [
        "unique_breeds[np.argmax(prediction)]"
      ],
      "metadata": {
        "colab": {
          "base_uri": "https://localhost:8080/",
          "height": 36
        },
        "id": "cSvYXx0lmOoj",
        "outputId": "bfddf2f6-61de-44b7-ef76-5a49a531206a"
      },
      "execution_count": 146,
      "outputs": [
        {
          "output_type": "execute_result",
          "data": {
            "text/plain": [
              "'Khaki'"
            ],
            "application/vnd.google.colaboratory.intrinsic+json": {
              "type": "string"
            }
          },
          "metadata": {},
          "execution_count": 146
        }
      ]
    },
    {
      "cell_type": "code",
      "source": [
        "len(unique_breeds)"
      ],
      "metadata": {
        "colab": {
          "base_uri": "https://localhost:8080/"
        },
        "id": "2jfI0hgnmUid",
        "outputId": "a488ae31-ff97-4dd3-d5d1-a9cf218d8feb"
      },
      "execution_count": 128,
      "outputs": [
        {
          "output_type": "execute_result",
          "data": {
            "text/plain": [
              "34"
            ]
          },
          "metadata": {},
          "execution_count": 128
        }
      ]
    },
    {
      "cell_type": "code",
      "source": [
        "labels_csv.to_csv(\"dataset.csv\")"
      ],
      "metadata": {
        "id": "io4w0cn6m2b2"
      },
      "execution_count": 155,
      "outputs": []
    },
    {
      "cell_type": "code",
      "source": [
        ""
      ],
      "metadata": {
        "id": "wN-tDaRqshUg"
      },
      "execution_count": null,
      "outputs": []
    }
  ]
}